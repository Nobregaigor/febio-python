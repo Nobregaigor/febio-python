{
 "cells": [
  {
   "cell_type": "code",
   "execution_count": 1,
   "metadata": {},
   "outputs": [],
   "source": [
    "from pathlib import Path\n",
    "import os\n",
    "from febio_python.feb import FEBio_feb\n",
    "import json"
   ]
  },
  {
   "cell_type": "code",
   "execution_count": null,
   "metadata": {},
   "outputs": [],
   "source": [
    "feb_template_path = Path(\"C:/Users/igorp/Downloads/LV_template_raw.feb\")\n",
    "json_data_path = Path(\"C:/Users/igorp/Downloads/lvtetmesh_wfibers_jsonsample.json\")"
   ]
  },
  {
   "cell_type": "code",
   "execution_count": null,
   "metadata": {},
   "outputs": [],
   "source": [
    "with open(json_data_path, \"r\") as jfile:\n",
    "  data = json.load(jfile)\n",
    "data.keys()"
   ]
  },
  {
   "cell_type": "code",
   "execution_count": null,
   "metadata": {},
   "outputs": [],
   "source": [
    "feb = FEBio_feb.from_file(feb_template_path)\n",
    "feb.add_nodes([\n",
    "  {\"name\": \"LV\", \n",
    "   \"nodes\": data[\"NODES\"]\n",
    "   },\n",
    "  {\"name\": \"AORTIC_RIM\", \n",
    "   \"nodes\": data[\"BOUNDARY_CONDITIONS\"][\"AORTIC_BC\"][1][\"RIM_NODES\"]\n",
    "   },\n",
    "  {\"name\": \"MITRAL_RIM\", \n",
    "   \"nodes\": data[\"BOUNDARY_CONDITIONS\"][\"MITRAL_BC\"][1][\"RIM_NODES\"]\n",
    "   }\n",
    "  ])\n",
    "# feb.add_elements([\n",
    "#   {\n",
    "#     \"name\": \"LV\", \n",
    "#     \"type\": \"tet4\",\n",
    "#     \"mat\": \"1\",\n",
    "#     \"elems\": data[\"ELEMENTS\"][\"TETRA\"]\n",
    "#     }\n",
    "#   ])\n",
    "# feb.add_nodesets(data[\"NODESETS\"])\n",
    "# feb.add_surfaces(data[\"SURFACES\"])\n",
    "# feb.add_discretesets(data[\"DISCRETE_SETS\"])\n",
    "# feb.add_meshdata([\n",
    "#   {\n",
    "#     \"elem_set\": \"LV\", \n",
    "#     \"var\": \"mat_axis\",\n",
    "#     \"elems\": {\n",
    "#       \"a\": data['MESH_ELEM_DATA'][\"LV_FIBERS\"],\n",
    "#       \"d\": data['MESH_ELEM_DATA'][\"LV_SHEET\"],\n",
    "#       }\n",
    "#     }\n",
    "#   ])"
   ]
  },
  {
   "cell_type": "code",
   "execution_count": null,
   "metadata": {},
   "outputs": [],
   "source": [
    "print(feb)"
   ]
  },
  {
   "cell_type": "code",
   "execution_count": null,
   "metadata": {},
   "outputs": [],
   "source": [
    "feb.write(\"./test.feb\")"
   ]
  }
 ],
 "metadata": {
  "interpreter": {
   "hash": "a793cafe444f9c7c4b159a178342b27218ff65a74f113faabad5f88ce7c1bc55"
  },
  "kernelspec": {
   "display_name": "Python 3.9.7 ('venv': venv)",
   "language": "python",
   "name": "python3"
  },
  "language_info": {
   "codemirror_mode": {
    "name": "ipython",
    "version": 3
   },
   "file_extension": ".py",
   "mimetype": "text/x-python",
   "name": "python",
   "nbconvert_exporter": "python",
   "pygments_lexer": "ipython3",
   "version": "3.9.7"
  },
  "orig_nbformat": 4
 },
 "nbformat": 4,
 "nbformat_minor": 2
}
