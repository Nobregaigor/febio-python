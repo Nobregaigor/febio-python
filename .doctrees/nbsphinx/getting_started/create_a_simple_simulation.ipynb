{
 "cells": [
  {
   "cell_type": "markdown",
   "metadata": {},
   "source": [
    "# Creating a simple simulation"
   ]
  },
  {
   "cell_type": "markdown",
   "metadata": {},
   "source": [
    "## Creating a new Feb object"
   ]
  },
  {
   "cell_type": "markdown",
   "metadata": {},
   "source": [
    "### The basics"
   ]
  },
  {
   "cell_type": "markdown",
   "metadata": {},
   "source": [
    "We can create a new FEB file with basically no information. To do so, we can simply call Feb and provide it a version. Right now, we accept versions 2.5 and 3.0."
   ]
  },
  {
   "cell_type": "code",
   "execution_count": 1,
   "metadata": {
    "execution": {
     "iopub.execute_input": "2024-06-14T20:35:52.831596Z",
     "iopub.status.busy": "2024-06-14T20:35:52.831135Z",
     "iopub.status.idle": "2024-06-14T20:35:52.937996Z",
     "shell.execute_reply": "2024-06-14T20:35:52.937207Z"
    }
   },
   "outputs": [
    {
     "data": {
      "text/plain": [
       "Feb25(2.5):\n",
       "-> Module: Unknown\n",
       "-> Control: 0\n",
       "-> Material: 0\n",
       "-> Globals: 0\n",
       "-> Geometry: 0\n",
       "-> Boundary: 0\n",
       "-> Loads: 0\n",
       "-> Discrete: 0\n",
       "-> LoadData: 0\n",
       "-> Output: 0\n",
       "-> MeshData: 0"
      ]
     },
     "execution_count": 1,
     "metadata": {},
     "output_type": "execute_result"
    }
   ],
   "source": [
    "from febio_python import Feb\n",
    "\n",
    "feb = Feb(version=2.5)\n",
    "feb"
   ]
  },
  {
   "cell_type": "markdown",
   "metadata": {},
   "source": [
    "You will notices that all contents of the feb file are zero. This means that there is nothing stored in the feb right now. Let's start modifying it. We will begin with simple structures, like module, globals and controls:"
   ]
  },
  {
   "cell_type": "code",
   "execution_count": 2,
   "metadata": {
    "execution": {
     "iopub.execute_input": "2024-06-14T20:35:52.984263Z",
     "iopub.status.busy": "2024-06-14T20:35:52.983720Z",
     "iopub.status.idle": "2024-06-14T20:35:52.987890Z",
     "shell.execute_reply": "2024-06-14T20:35:52.987285Z"
    }
   },
   "outputs": [],
   "source": [
    "feb.setup_module(module_type=\"solid\") # default values\n",
    "feb.setup_globals(T=0, R=0, Fc=0) # default values\n",
    "feb.setup_controls(analysis_type=\"static\") # here, you can change basic settings. See docs for more info.\n",
    "feb.setup_output(variables=[\"displacement\", \"Lagrange strain\", \"stress\"]) # default values"
   ]
  },
  {
   "cell_type": "markdown",
   "metadata": {},
   "source": [
    "We can check the FEB object. It now has some data:"
   ]
  },
  {
   "cell_type": "code",
   "execution_count": 3,
   "metadata": {
    "execution": {
     "iopub.execute_input": "2024-06-14T20:35:52.990593Z",
     "iopub.status.busy": "2024-06-14T20:35:52.990085Z",
     "iopub.status.idle": "2024-06-14T20:35:52.994604Z",
     "shell.execute_reply": "2024-06-14T20:35:52.994051Z"
    }
   },
   "outputs": [
    {
     "data": {
      "text/plain": [
       "Feb25(2.5):\n",
       "-> Module: solid\n",
       "-> Control: 15\n",
       "-> Material: 0\n",
       "-> Globals: 1\n",
       "-> Geometry: 0\n",
       "-> Boundary: 0\n",
       "-> Loads: 0\n",
       "-> Discrete: 0\n",
       "-> LoadData: 0\n",
       "-> Output: 1\n",
       "-> MeshData: 0"
      ]
     },
     "execution_count": 3,
     "metadata": {},
     "output_type": "execute_result"
    }
   ],
   "source": [
    "feb"
   ]
  },
  {
   "cell_type": "markdown",
   "metadata": {},
   "source": [
    "### Adding Mesh"
   ]
  },
  {
   "cell_type": "markdown",
   "metadata": {},
   "source": [
    "We will now add more interestind data to our feb. Let's start by creating a simple mesh with pyvista:"
   ]
  },
  {
   "cell_type": "code",
   "execution_count": 4,
   "metadata": {
    "execution": {
     "iopub.execute_input": "2024-06-14T20:35:52.997075Z",
     "iopub.status.busy": "2024-06-14T20:35:52.996671Z",
     "iopub.status.idle": "2024-06-14T20:35:55.940970Z",
     "shell.execute_reply": "2024-06-14T20:35:55.940292Z"
    }
   },
   "outputs": [
    {
     "data": {
      "application/vnd.jupyter.widget-view+json": {
       "model_id": "bce030384e6e44a59ca17e82df11c059",
       "version_major": 2,
       "version_minor": 0
      },
      "text/plain": [
       "Widget(value='<iframe src=\"http://localhost:36091/index.html?ui=P_0x7f5c1fefd6a0_0&reconnect=auto\" class=\"pyvi…"
      ]
     },
     "metadata": {},
     "output_type": "display_data"
    }
   ],
   "source": [
    "import pyvista as pv\n",
    "\n",
    "# Create a simple mesh (plane mesh)\n",
    "mesh = pv.Plane(direction=(0,0,1), i_size=2, j_size=1, i_resolution=6, j_resolution=3)\n",
    "mesh = mesh.cast_to_unstructured_grid() # we will be using unstructured grid for FEBio\n",
    "mesh.plot(show_edges=True, window_size=(800, 400), cpos='xy')"
   ]
  },
  {
   "cell_type": "markdown",
   "metadata": {},
   "source": [
    "In Pyvista, an unstructured grid is defined as \"points\" (nodes) and \"cells\" (elements). We can access them like this: "
   ]
  },
  {
   "cell_type": "code",
   "execution_count": 5,
   "metadata": {
    "execution": {
     "iopub.execute_input": "2024-06-14T20:35:55.943752Z",
     "iopub.status.busy": "2024-06-14T20:35:55.943399Z",
     "iopub.status.idle": "2024-06-14T20:35:55.949217Z",
     "shell.execute_reply": "2024-06-14T20:35:55.948506Z"
    }
   },
   "outputs": [
    {
     "data": {
      "text/plain": [
       "pyvista_ndarray([[-1.        , -0.5       ,  0.        ],\n",
       "                 [-0.6666667 , -0.5       ,  0.        ],\n",
       "                 [-0.33333334, -0.5       ,  0.        ],\n",
       "                 [ 0.        , -0.5       ,  0.        ],\n",
       "                 [ 0.33333334, -0.5       ,  0.        ],\n",
       "                 [ 0.6666667 , -0.5       ,  0.        ],\n",
       "                 [ 1.        , -0.5       ,  0.        ],\n",
       "                 [-1.        , -0.16666667,  0.        ],\n",
       "                 [-0.6666667 , -0.16666667,  0.        ],\n",
       "                 [-0.33333334, -0.16666667,  0.        ],\n",
       "                 [ 0.        , -0.16666667,  0.        ],\n",
       "                 [ 0.33333334, -0.16666667,  0.        ],\n",
       "                 [ 0.6666667 , -0.16666667,  0.        ],\n",
       "                 [ 1.        , -0.16666667,  0.        ],\n",
       "                 [-1.        ,  0.16666667,  0.        ],\n",
       "                 [-0.6666667 ,  0.16666667,  0.        ],\n",
       "                 [-0.33333334,  0.16666667,  0.        ],\n",
       "                 [ 0.        ,  0.16666667,  0.        ],\n",
       "                 [ 0.33333334,  0.16666667,  0.        ],\n",
       "                 [ 0.6666667 ,  0.16666667,  0.        ],\n",
       "                 [ 1.        ,  0.16666667,  0.        ],\n",
       "                 [-1.        ,  0.5       ,  0.        ],\n",
       "                 [-0.6666667 ,  0.5       ,  0.        ],\n",
       "                 [-0.33333334,  0.5       ,  0.        ],\n",
       "                 [ 0.        ,  0.5       ,  0.        ],\n",
       "                 [ 0.33333334,  0.5       ,  0.        ],\n",
       "                 [ 0.6666667 ,  0.5       ,  0.        ],\n",
       "                 [ 1.        ,  0.5       ,  0.        ]], dtype=float32)"
      ]
     },
     "execution_count": 5,
     "metadata": {},
     "output_type": "execute_result"
    }
   ],
   "source": [
    "mesh.points"
   ]
  },
  {
   "cell_type": "code",
   "execution_count": 6,
   "metadata": {
    "execution": {
     "iopub.execute_input": "2024-06-14T20:35:55.951662Z",
     "iopub.status.busy": "2024-06-14T20:35:55.951303Z",
     "iopub.status.idle": "2024-06-14T20:35:55.957903Z",
     "shell.execute_reply": "2024-06-14T20:35:55.957242Z"
    }
   },
   "outputs": [
    {
     "data": {
      "text/plain": [
       "{9: array([[ 0,  1,  8,  7],\n",
       "        [ 1,  2,  9,  8],\n",
       "        [ 2,  3, 10,  9],\n",
       "        [ 3,  4, 11, 10],\n",
       "        [ 4,  5, 12, 11],\n",
       "        [ 5,  6, 13, 12],\n",
       "        [ 7,  8, 15, 14],\n",
       "        [ 8,  9, 16, 15],\n",
       "        [ 9, 10, 17, 16],\n",
       "        [10, 11, 18, 17],\n",
       "        [11, 12, 19, 18],\n",
       "        [12, 13, 20, 19],\n",
       "        [14, 15, 22, 21],\n",
       "        [15, 16, 23, 22],\n",
       "        [16, 17, 24, 23],\n",
       "        [17, 18, 25, 24],\n",
       "        [18, 19, 26, 25],\n",
       "        [19, 20, 27, 26]])}"
      ]
     },
     "execution_count": 6,
     "metadata": {},
     "output_type": "execute_result"
    }
   ],
   "source": [
    "mesh.cells_dict"
   ]
  },
  {
   "cell_type": "code",
   "execution_count": 7,
   "metadata": {
    "execution": {
     "iopub.execute_input": "2024-06-14T20:35:55.960552Z",
     "iopub.status.busy": "2024-06-14T20:35:55.960046Z",
     "iopub.status.idle": "2024-06-14T20:35:55.964294Z",
     "shell.execute_reply": "2024-06-14T20:35:55.963662Z"
    }
   },
   "outputs": [
    {
     "name": "stdout",
     "output_type": "stream",
     "text": [
      "Number of nodes: 28\n",
      "Number of elements: 18\n"
     ]
    }
   ],
   "source": [
    "print(f\"Number of nodes: {mesh.points.shape[0]}\")\n",
    "print(f\"Number of elements: {mesh.cells_dict[pv.CellType.QUAD].shape[0]}\")"
   ]
  },
  {
   "cell_type": "code",
   "execution_count": 8,
   "metadata": {
    "execution": {
     "iopub.execute_input": "2024-06-14T20:35:55.966658Z",
     "iopub.status.busy": "2024-06-14T20:35:55.966320Z",
     "iopub.status.idle": "2024-06-14T20:35:55.971807Z",
     "shell.execute_reply": "2024-06-14T20:35:55.971163Z"
    }
   },
   "outputs": [],
   "source": [
    "from febio_python.core import Nodes, Elements\n",
    "# Create nodes\n",
    "nodes = Nodes(name=\"plane\", coordinates=mesh.points)\n",
    "# Create elements\n",
    "elements = Elements(name=\"plane_elements\",\n",
    "                    mat=\"1\",\n",
    "                    part=None,\n",
    "                    type=\"QUAD\",\n",
    "                    connectivity=mesh.cells_dict[pv.CellType.QUAD.value],\n",
    "                    )\n",
    "# Add nodes and elements to the feb object (need to be lists)\n",
    "feb.add_nodes([nodes])\n",
    "feb.add_elements([elements])"
   ]
  },
  {
   "cell_type": "markdown",
   "metadata": {},
   "source": [
    "We can now see that we have two 'Geometry' items:"
   ]
  },
  {
   "cell_type": "code",
   "execution_count": 9,
   "metadata": {
    "execution": {
     "iopub.execute_input": "2024-06-14T20:35:55.974218Z",
     "iopub.status.busy": "2024-06-14T20:35:55.973837Z",
     "iopub.status.idle": "2024-06-14T20:35:55.978023Z",
     "shell.execute_reply": "2024-06-14T20:35:55.977388Z"
    }
   },
   "outputs": [
    {
     "data": {
      "text/plain": [
       "Feb25(2.5):\n",
       "-> Module: solid\n",
       "-> Control: 15\n",
       "-> Material: 0\n",
       "-> Globals: 1\n",
       "-> Geometry: 2\n",
       "-> Boundary: 0\n",
       "-> Loads: 0\n",
       "-> Discrete: 0\n",
       "-> LoadData: 0\n",
       "-> Output: 1\n",
       "-> MeshData: 0"
      ]
     },
     "execution_count": 9,
     "metadata": {},
     "output_type": "execute_result"
    }
   ],
   "source": [
    "feb"
   ]
  },
  {
   "cell_type": "markdown",
   "metadata": {},
   "source": [
    "We can further inspect them:"
   ]
  },
  {
   "cell_type": "code",
   "execution_count": 10,
   "metadata": {
    "execution": {
     "iopub.execute_input": "2024-06-14T20:35:55.980620Z",
     "iopub.status.busy": "2024-06-14T20:35:55.980125Z",
     "iopub.status.idle": "2024-06-14T20:35:55.983592Z",
     "shell.execute_reply": "2024-06-14T20:35:55.982959Z"
    }
   },
   "outputs": [
    {
     "name": "stdout",
     "output_type": "stream",
     "text": [
      "--> Nodes 'plane': 28\n",
      "--> Elements 'plane_elements': 18\n",
      "\n"
     ]
    }
   ],
   "source": [
    "feb.inspect_nodes_and_elements()"
   ]
  },
  {
   "cell_type": "markdown",
   "metadata": {},
   "source": [
    "### Modfying nodes/elements"
   ]
  },
  {
   "cell_type": "markdown",
   "metadata": {},
   "source": [
    "Oh no! We have defined a too coarse mesh! Let's create a fine mesh and update our feb."
   ]
  },
  {
   "cell_type": "code",
   "execution_count": 11,
   "metadata": {
    "execution": {
     "iopub.execute_input": "2024-06-14T20:35:55.986118Z",
     "iopub.status.busy": "2024-06-14T20:35:55.985757Z",
     "iopub.status.idle": "2024-06-14T20:35:56.018181Z",
     "shell.execute_reply": "2024-06-14T20:35:56.017451Z"
    }
   },
   "outputs": [
    {
     "data": {
      "application/vnd.jupyter.widget-view+json": {
       "model_id": "12e512e596fb4a9387246e4742ddc789",
       "version_major": 2,
       "version_minor": 0
      },
      "text/plain": [
       "Widget(value='<iframe src=\"http://localhost:36091/index.html?ui=P_0x7f5c1fefddc0_1&reconnect=auto\" class=\"pyvi…"
      ]
     },
     "metadata": {},
     "output_type": "display_data"
    }
   ],
   "source": [
    "# Create a simple mesh (plane mesh)\n",
    "mesh = pv.Plane(direction=(0,0,1), i_size=2, j_size=1, i_resolution=10, j_resolution=5)\n",
    "mesh = mesh.cast_to_unstructured_grid() # we will be using unstructured grid for FEBio\n",
    "mesh.plot(show_edges=True, jupyter_backend='client', window_size=(800, 400), cpos='xy')"
   ]
  },
  {
   "cell_type": "code",
   "execution_count": 12,
   "metadata": {
    "execution": {
     "iopub.execute_input": "2024-06-14T20:35:56.021206Z",
     "iopub.status.busy": "2024-06-14T20:35:56.020759Z",
     "iopub.status.idle": "2024-06-14T20:35:56.025025Z",
     "shell.execute_reply": "2024-06-14T20:35:56.024275Z"
    }
   },
   "outputs": [
    {
     "name": "stdout",
     "output_type": "stream",
     "text": [
      "Number of nodes: 66\n",
      "Number of elements: 50\n"
     ]
    }
   ],
   "source": [
    "print(f\"Number of nodes: {mesh.points.shape[0]}\")\n",
    "print(f\"Number of elements: {mesh.cells_dict[pv.CellType.QUAD].shape[0]}\")"
   ]
  },
  {
   "cell_type": "markdown",
   "metadata": {},
   "source": [
    "Note that if we use the function \"ADD\" again, it will add the new nodes to the existing nodes in the same mesh. This is used when we are creating mesh in an iterative process. Let's try:"
   ]
  },
  {
   "cell_type": "code",
   "execution_count": 13,
   "metadata": {
    "execution": {
     "iopub.execute_input": "2024-06-14T20:35:56.028052Z",
     "iopub.status.busy": "2024-06-14T20:35:56.027477Z",
     "iopub.status.idle": "2024-06-14T20:35:56.034435Z",
     "shell.execute_reply": "2024-06-14T20:35:56.033825Z"
    }
   },
   "outputs": [
    {
     "name": "stdout",
     "output_type": "stream",
     "text": [
      "--> Nodes 'plane': 94\n",
      "--> Elements 'plane_elements': 68\n",
      "\n"
     ]
    }
   ],
   "source": [
    "# Create nodes\n",
    "nodes = Nodes(name=\"plane\", coordinates=mesh.points)\n",
    "# Create elements\n",
    "elements = Elements(name=\"plane_elements\",\n",
    "                    mat=\"1\",\n",
    "                    part=None,\n",
    "                    type=\"QUAD\",\n",
    "                    connectivity=mesh.cells_dict[pv.CellType.QUAD.value],\n",
    "                    )\n",
    "# Add nodes and elements to the feb object (need to be lists)\n",
    "feb.add_nodes([nodes])\n",
    "feb.add_elements([elements])\n",
    "# Inspect nodes and elements\n",
    "feb.inspect_nodes_and_elements()"
   ]
  },
  {
   "cell_type": "markdown",
   "metadata": {},
   "source": [
    "You can see that it had inscrease the number of nodes/elements. But this is not what we are looking for.\n",
    "Let's clean the feb data and add it again:"
   ]
  },
  {
   "cell_type": "code",
   "execution_count": 14,
   "metadata": {
    "execution": {
     "iopub.execute_input": "2024-06-14T20:35:56.037174Z",
     "iopub.status.busy": "2024-06-14T20:35:56.036765Z",
     "iopub.status.idle": "2024-06-14T20:35:56.041434Z",
     "shell.execute_reply": "2024-06-14T20:35:56.040813Z"
    }
   },
   "outputs": [
    {
     "data": {
      "text/plain": [
       "Feb25(2.5):\n",
       "-> Module: solid\n",
       "-> Control: 15\n",
       "-> Material: 0\n",
       "-> Globals: 1\n",
       "-> Geometry: 0\n",
       "-> Boundary: 0\n",
       "-> Loads: 0\n",
       "-> Discrete: 0\n",
       "-> LoadData: 0\n",
       "-> Output: 1\n",
       "-> MeshData: 0"
      ]
     },
     "execution_count": 14,
     "metadata": {},
     "output_type": "execute_result"
    }
   ],
   "source": [
    "feb.clear_nodes()\n",
    "feb.clear_elements()\n",
    "feb"
   ]
  },
  {
   "cell_type": "code",
   "execution_count": 15,
   "metadata": {
    "execution": {
     "iopub.execute_input": "2024-06-14T20:35:56.043726Z",
     "iopub.status.busy": "2024-06-14T20:35:56.043516Z",
     "iopub.status.idle": "2024-06-14T20:35:56.048578Z",
     "shell.execute_reply": "2024-06-14T20:35:56.047873Z"
    }
   },
   "outputs": [
    {
     "name": "stdout",
     "output_type": "stream",
     "text": [
      "--> Nodes 'plane': 66\n",
      "--> Elements 'plane_elements': 50\n",
      "\n"
     ]
    }
   ],
   "source": [
    "feb.add_nodes([nodes])\n",
    "feb.add_elements([elements])\n",
    "feb.inspect_nodes_and_elements()"
   ]
  },
  {
   "cell_type": "markdown",
   "metadata": {},
   "source": [
    "Is there another method? We need triangle elements!! Also, What if we have multiple nodes or elements and we do not want to delete all of them and just update the existing ones? Let's create another mesh and update the 'plane' mesh in the feb file."
   ]
  },
  {
   "cell_type": "code",
   "execution_count": 16,
   "metadata": {
    "execution": {
     "iopub.execute_input": "2024-06-14T20:35:56.051217Z",
     "iopub.status.busy": "2024-06-14T20:35:56.051009Z",
     "iopub.status.idle": "2024-06-14T20:35:56.085247Z",
     "shell.execute_reply": "2024-06-14T20:35:56.084561Z"
    }
   },
   "outputs": [
    {
     "data": {
      "application/vnd.jupyter.widget-view+json": {
       "model_id": "8678a022f9dc492e94122b2d9c84c84b",
       "version_major": 2,
       "version_minor": 0
      },
      "text/plain": [
       "Widget(value='<iframe src=\"http://localhost:36091/index.html?ui=P_0x7f5c38d8fee0_2&reconnect=auto\" class=\"pyvi…"
      ]
     },
     "metadata": {},
     "output_type": "display_data"
    }
   ],
   "source": [
    "# Create a simple mesh (plane mesh)\n",
    "mesh = pv.Plane(direction=(0,0,1), i_size=2, j_size=1, i_resolution=20, j_resolution=10)\n",
    "mesh = mesh.triangulate() # we will be using unstructured grid for FEBio\n",
    "mesh = mesh.cast_to_unstructured_grid() # we will be using unstructured grid for FEBio\n",
    "mesh.plot(show_edges=True, jupyter_backend='client', window_size=(800, 400), cpos='xy')"
   ]
  },
  {
   "cell_type": "code",
   "execution_count": 17,
   "metadata": {
    "execution": {
     "iopub.execute_input": "2024-06-14T20:35:56.087919Z",
     "iopub.status.busy": "2024-06-14T20:35:56.087692Z",
     "iopub.status.idle": "2024-06-14T20:35:56.092106Z",
     "shell.execute_reply": "2024-06-14T20:35:56.091456Z"
    }
   },
   "outputs": [
    {
     "name": "stdout",
     "output_type": "stream",
     "text": [
      "Number of nodes: 231\n",
      "Number of elements: 400\n"
     ]
    }
   ],
   "source": [
    "print(f\"Number of nodes: {mesh.points.shape[0]}\")\n",
    "print(f\"Number of elements: {mesh.cells_dict[pv.CellType.TRIANGLE].shape[0]}\")"
   ]
  },
  {
   "cell_type": "code",
   "execution_count": 18,
   "metadata": {
    "execution": {
     "iopub.execute_input": "2024-06-14T20:35:56.094409Z",
     "iopub.status.busy": "2024-06-14T20:35:56.094198Z",
     "iopub.status.idle": "2024-06-14T20:35:56.103222Z",
     "shell.execute_reply": "2024-06-14T20:35:56.102539Z"
    }
   },
   "outputs": [
    {
     "name": "stdout",
     "output_type": "stream",
     "text": [
      "--> Nodes 'plane': 231\n",
      "--> Elements 'plane_elements': 400\n",
      "\n"
     ]
    }
   ],
   "source": [
    "# Create nodes\n",
    "nodes = Nodes(name=\"plane\", coordinates=mesh.points)\n",
    "# Create elements\n",
    "elements = Elements(name=\"plane_elements\",\n",
    "                    mat=\"1\",\n",
    "                    part=None,\n",
    "                    type=\"TRIANGLE\",\n",
    "                    connectivity=mesh.cells_dict[pv.CellType.TRIANGLE.value],\n",
    "                    )\n",
    "# Add nodes and elements to the feb object (need to be lists)\n",
    "feb.update_nodes([nodes])\n",
    "feb.update_elements([elements])\n",
    "# Inspect nodes and elements\n",
    "feb.inspect_nodes_and_elements()"
   ]
  },
  {
   "cell_type": "markdown",
   "metadata": {},
   "source": [
    "### Adding Load"
   ]
  },
  {
   "cell_type": "markdown",
   "metadata": {},
   "source": [
    "Let's try adding a shear load to the mesh:"
   ]
  },
  {
   "cell_type": "code",
   "execution_count": 19,
   "metadata": {
    "execution": {
     "iopub.execute_input": "2024-06-14T20:35:56.105862Z",
     "iopub.status.busy": "2024-06-14T20:35:56.105426Z",
     "iopub.status.idle": "2024-06-14T20:35:56.112853Z",
     "shell.execute_reply": "2024-06-14T20:35:56.112208Z"
    }
   },
   "outputs": [
    {
     "data": {
      "text/plain": [
       "Feb25(2.5):\n",
       "-> Module: solid\n",
       "-> Control: 15\n",
       "-> Material: 0\n",
       "-> Globals: 1\n",
       "-> Geometry: 3\n",
       "-> Boundary: 0\n",
       "-> Loads: 1\n",
       "-> Discrete: 0\n",
       "-> LoadData: 1\n",
       "-> Output: 1\n",
       "-> MeshData: 0"
      ]
     },
     "execution_count": 19,
     "metadata": {},
     "output_type": "execute_result"
    }
   ],
   "source": [
    "import numpy as np\n",
    "from febio_python.core import NodalLoad, LoadCurve, NodeSet\n",
    "\n",
    "# First, let's select the nodeset to apply the load.\n",
    "# we will add load to the nodes at the right edge of the mesh\n",
    "x_values = mesh.points[:, 0]\n",
    "selected_nodes = np.where(x_values == x_values.max())[0]\n",
    "\n",
    "# Create a nodeset\n",
    "nodeset = NodeSet(name=\"right_edge\", ids=selected_nodes)\n",
    "# Create a nodal load\n",
    "shear_load = NodalLoad(node_set=\"right_edge\",\n",
    "                       dof=\"y\",\n",
    "                       scale=-25.0, # negative value means force is pointing in the negative direction\n",
    "                       load_curve=1,\n",
    "                       )\n",
    "# Create a load curve\n",
    "load_curve = LoadCurve(id=1, interpolate_type=\"smooth\", data=[(0, 0), (1, 1)])\n",
    "\n",
    "# Add nodeset, nodal load and load curve to the feb object\n",
    "feb.add_nodesets([nodeset])\n",
    "feb.add_nodal_loads([shear_load])\n",
    "feb.add_loadcurves([load_curve])\n",
    "feb"
   ]
  },
  {
   "cell_type": "markdown",
   "metadata": {},
   "source": [
    "Let's try to add a non-linear load now. Pointing in the x-direction"
   ]
  },
  {
   "cell_type": "code",
   "execution_count": 20,
   "metadata": {
    "execution": {
     "iopub.execute_input": "2024-06-14T20:35:56.115383Z",
     "iopub.status.busy": "2024-06-14T20:35:56.115006Z",
     "iopub.status.idle": "2024-06-14T20:35:56.261149Z",
     "shell.execute_reply": "2024-06-14T20:35:56.260528Z"
    }
   },
   "outputs": [
    {
     "data": {
      "image/png": "[encoded data removed]",
      "text/plain": [
       "<Figure size 640x480 with 1 Axes>"
      ]
     },
     "metadata": {},
     "output_type": "display_data"
    },
    {
     "data": {
      "text/plain": [
       "Feb25(2.5):\n",
       "-> Module: solid\n",
       "-> Control: 15\n",
       "-> Material: 0\n",
       "-> Globals: 1\n",
       "-> Geometry: 3\n",
       "-> Boundary: 0\n",
       "-> Loads: 2\n",
       "-> Discrete: 0\n",
       "-> LoadData: 1\n",
       "-> Output: 1\n",
       "-> MeshData: 1"
      ]
     },
     "execution_count": 20,
     "metadata": {},
     "output_type": "execute_result"
    }
   ],
   "source": [
    "# first, get the y position of the nodes\n",
    "y_values = mesh.points[selected_nodes, 1]\n",
    "# then, normalize the y values, so that we can use them as 'maps'\n",
    "y_values = (y_values - y_values.min()) / (y_values.max() - y_values.min())\n",
    "# now, create a normal distribution curve using the y values, centered at \n",
    "# middle of the y values (0.5)\n",
    "tensile_load_map = np.exp(-((y_values - 0.5) ** 2) / 0.1)\n",
    "# plot the load curve\n",
    "import matplotlib.pyplot as plt\n",
    "plt.plot(y_values, tensile_load_map)\n",
    "plt.xlabel(\"Normalized y position\")\n",
    "plt.ylabel(\"Load curve\")\n",
    "plt.title(\"Load curve for the shear load\")\n",
    "plt.show()\n",
    "\n",
    "# Create a nodal load\n",
    "tensile_load = NodalLoad(node_set=\"right_edge\",\n",
    "                       dof=\"x\",\n",
    "                       scale=100.0*tensile_load_map, # \n",
    "                       load_curve=1,\n",
    "                       )\n",
    "feb.add_nodal_loads([tensile_load])\n",
    "feb"
   ]
  },
  {
   "cell_type": "markdown",
   "metadata": {},
   "source": [
    "### Add boundary condition"
   ]
  },
  {
   "cell_type": "markdown",
   "metadata": {},
   "source": [
    "Now, let's fix the left boundary of the mesh. We will be applying fixed condition to restrain the mesh in all coordinates. In addition, since this is a simple plane mesh, we will apply constraint in z (for all nodes) and rotation (shell constrain) for all the left nodes."
   ]
  },
  {
   "cell_type": "code",
   "execution_count": 21,
   "metadata": {
    "execution": {
     "iopub.execute_input": "2024-06-14T20:35:56.264494Z",
     "iopub.status.busy": "2024-06-14T20:35:56.263904Z",
     "iopub.status.idle": "2024-06-14T20:35:56.270074Z",
     "shell.execute_reply": "2024-06-14T20:35:56.269475Z"
    }
   },
   "outputs": [],
   "source": [
    "from febio_python.core import FixCondition\n",
    "\n",
    "# Fix the left edge of the mesh\n",
    "x_values = mesh.points[:, 0]\n",
    "selected_nodes = np.where(x_values == x_values.min())[0]\n",
    "all_nodes = np.arange(mesh.points.shape[0]) # used to fix all nodes in the z direction\n",
    "# Create nodesets\n",
    "left_nodeset = NodeSet(name=\"left_edge\", ids=selected_nodes)\n",
    "all_nodeset = NodeSet(name=\"all_nodes\", ids=all_nodes)\n",
    "# Create a fix condition\n",
    "left_fix_condition = FixCondition(dof=\"x,y,z,sx,sy\", node_set=\"left_edge\")\n",
    "# we will \n",
    "all_fix_condition = FixCondition(dof=\"z\", node_set=\"all_nodes\")\n",
    "\n",
    "# Add nodeset and fix condition to the feb object\n",
    "feb.add_nodesets([left_nodeset, all_nodeset])\n",
    "feb.add_boundary_conditions([left_fix_condition, all_fix_condition])"
   ]
  },
  {
   "cell_type": "code",
   "execution_count": 22,
   "metadata": {
    "execution": {
     "iopub.execute_input": "2024-06-14T20:35:56.272628Z",
     "iopub.status.busy": "2024-06-14T20:35:56.272411Z",
     "iopub.status.idle": "2024-06-14T20:35:56.277025Z",
     "shell.execute_reply": "2024-06-14T20:35:56.276414Z"
    }
   },
   "outputs": [
    {
     "data": {
      "text/plain": [
       "Feb25(2.5):\n",
       "-> Module: solid\n",
       "-> Control: 15\n",
       "-> Material: 0\n",
       "-> Globals: 1\n",
       "-> Geometry: 5\n",
       "-> Boundary: 2\n",
       "-> Loads: 2\n",
       "-> Discrete: 0\n",
       "-> LoadData: 1\n",
       "-> Output: 1\n",
       "-> MeshData: 1"
      ]
     },
     "execution_count": 22,
     "metadata": {},
     "output_type": "execute_result"
    }
   ],
   "source": [
    "feb"
   ]
  },
  {
   "cell_type": "markdown",
   "metadata": {},
   "source": [
    "### Adding Material"
   ]
  },
  {
   "cell_type": "markdown",
   "metadata": {},
   "source": [
    "Now, let's add a material. We will use simple Isotropic-Elastic."
   ]
  },
  {
   "cell_type": "code",
   "execution_count": 23,
   "metadata": {
    "execution": {
     "iopub.execute_input": "2024-06-14T20:35:56.279651Z",
     "iopub.status.busy": "2024-06-14T20:35:56.279240Z",
     "iopub.status.idle": "2024-06-14T20:35:56.283041Z",
     "shell.execute_reply": "2024-06-14T20:35:56.282412Z"
    }
   },
   "outputs": [],
   "source": [
    "from febio_python.core import Material\n",
    "\n",
    "mat = Material(\n",
    "    id=1,\n",
    "    type=\"isotropic elastic\",\n",
    "    name=\"plane material\",\n",
    "    parameters=dict(\n",
    "        E=1e6,\n",
    "        v=0.3,\n",
    "        density=1,\n",
    "    )\n",
    ")\n",
    "\n",
    "feb.add_materials([mat])"
   ]
  },
  {
   "cell_type": "markdown",
   "metadata": {},
   "source": [
    "### Add Element data"
   ]
  },
  {
   "cell_type": "code",
   "execution_count": 24,
   "metadata": {
    "execution": {
     "iopub.execute_input": "2024-06-14T20:35:56.285362Z",
     "iopub.status.busy": "2024-06-14T20:35:56.285153Z",
     "iopub.status.idle": "2024-06-14T20:35:56.290889Z",
     "shell.execute_reply": "2024-06-14T20:35:56.290212Z"
    }
   },
   "outputs": [],
   "source": [
    "from febio_python.core import ElementData\n",
    "\n",
    "shell_thickness = ElementData(\n",
    "    name=\"Element thickness\",\n",
    "    var=\"shell thickness\",\n",
    "    elem_set=\"plane_elements\",\n",
    "    data=np.full((mesh.n_cells, 3), 0.01),\n",
    "    ids=np.arange(0, mesh.n_cells + 1),\n",
    ")\n",
    "feb.add_element_data([shell_thickness])"
   ]
  },
  {
   "cell_type": "markdown",
   "metadata": {},
   "source": [
    "## Running FEB"
   ]
  },
  {
   "cell_type": "markdown",
   "metadata": {},
   "source": [
    "from febio_python.feb import run\n",
    "# Save the FEB file\n",
    "feb.write(\"plane_mesh.feb\")\n",
    "run(\"plane_mesh.feb\")"
   ]
  },
  {
   "cell_type": "code",
   "execution_count": 25,
   "metadata": {
    "execution": {
     "iopub.execute_input": "2024-06-14T20:35:56.293280Z",
     "iopub.status.busy": "2024-06-14T20:35:56.293069Z",
     "iopub.status.idle": "2024-06-14T20:35:56.296169Z",
     "shell.execute_reply": "2024-06-14T20:35:56.295607Z"
    }
   },
   "outputs": [],
   "source": [
    "# from febio_python.feb import run\n",
    "# # Save the FEB file\n",
    "# feb.write(\"plane_mesh.feb\")\n",
    "# run(\"plane_mesh.feb\")"
   ]
  },
  {
   "cell_type": "markdown",
   "metadata": {},
   "source": [
    "## Reading XPLT"
   ]
  },
  {
   "cell_type": "code",
   "execution_count": 26,
   "metadata": {
    "execution": {
     "iopub.execute_input": "2024-06-14T20:35:56.298442Z",
     "iopub.status.busy": "2024-06-14T20:35:56.298242Z",
     "iopub.status.idle": "2024-06-14T20:35:56.316885Z",
     "shell.execute_reply": "2024-06-14T20:35:56.316173Z"
    }
   },
   "outputs": [
    {
     "data": {
      "text/plain": [
       "Xplt object [140033600302624]:\n",
       "=== xplt_mesh: ===\n",
       "-Nodes:\n",
       "--->None: (231, 3)\n",
       "-Elements:\n",
       "--->None: (400, 4)\n",
       "=== States: ===\n",
       "-Nodes:\n",
       "--->displacement: (11, 231, 3)\n",
       "-Elements:\n",
       "--->Lagrange strain: (11, 400, 6)\n",
       "--->stress: (11, 400, 6)\n",
       "-Surfaces:"
      ]
     },
     "execution_count": 26,
     "metadata": {},
     "output_type": "execute_result"
    }
   ],
   "source": [
    "from febio_python import Xplt\n",
    "\n",
    "xplt = Xplt(\"plane_mesh.xplt\")\n",
    "xplt"
   ]
  },
  {
   "cell_type": "markdown",
   "metadata": {},
   "source": [
    "### Example properties"
   ]
  },
  {
   "cell_type": "code",
   "execution_count": 27,
   "metadata": {
    "execution": {
     "iopub.execute_input": "2024-06-14T20:35:56.319981Z",
     "iopub.status.busy": "2024-06-14T20:35:56.319407Z",
     "iopub.status.idle": "2024-06-14T20:35:56.328440Z",
     "shell.execute_reply": "2024-06-14T20:35:56.327761Z"
    }
   },
   "outputs": [
    {
     "data": {
      "text/plain": [
       "[Nodes(name=None, coordinates=array([[-1.        , -0.5       ,  0.        ],\n",
       "        [-0.89999998, -0.5       ,  0.        ],\n",
       "        [-0.80000001, -0.5       ,  0.        ],\n",
       "        [-0.69999999, -0.5       ,  0.        ],\n",
       "        [-0.60000002, -0.5       ,  0.        ],\n",
       "        [-0.5       , -0.5       ,  0.        ],\n",
       "        [-0.40000001, -0.5       ,  0.        ],\n",
       "        [-0.30000001, -0.5       ,  0.        ],\n",
       "        [-0.2       , -0.5       ,  0.        ],\n",
       "        [-0.1       , -0.5       ,  0.        ],\n",
       "        [ 0.        , -0.5       ,  0.        ],\n",
       "        [ 0.1       , -0.5       ,  0.        ],\n",
       "        [ 0.2       , -0.5       ,  0.        ],\n",
       "        [ 0.30000001, -0.5       ,  0.        ],\n",
       "        [ 0.40000001, -0.5       ,  0.        ],\n",
       "        [ 0.5       , -0.5       ,  0.        ],\n",
       "        [ 0.60000002, -0.5       ,  0.        ],\n",
       "        [ 0.69999999, -0.5       ,  0.        ],\n",
       "        [ 0.80000001, -0.5       ,  0.        ],\n",
       "        [ 0.89999998, -0.5       ,  0.        ],\n",
       "        [ 1.        , -0.5       ,  0.        ],\n",
       "        [-1.        , -0.40000001,  0.        ],\n",
       "        [-0.89999998, -0.40000001,  0.        ],\n",
       "        [-0.80000001, -0.40000001,  0.        ],\n",
       "        [-0.69999999, -0.40000001,  0.        ],\n",
       "        [-0.60000002, -0.40000001,  0.        ],\n",
       "        [-0.5       , -0.40000001,  0.        ],\n",
       "        [-0.40000001, -0.40000001,  0.        ],\n",
       "        [-0.30000001, -0.40000001,  0.        ],\n",
       "        [-0.2       , -0.40000001,  0.        ],\n",
       "        [-0.1       , -0.40000001,  0.        ],\n",
       "        [ 0.        , -0.40000001,  0.        ],\n",
       "        [ 0.1       , -0.40000001,  0.        ],\n",
       "        [ 0.2       , -0.40000001,  0.        ],\n",
       "        [ 0.30000001, -0.40000001,  0.        ],\n",
       "        [ 0.40000001, -0.40000001,  0.        ],\n",
       "        [ 0.5       , -0.40000001,  0.        ],\n",
       "        [ 0.60000002, -0.40000001,  0.        ],\n",
       "        [ 0.69999999, -0.40000001,  0.        ],\n",
       "        [ 0.80000001, -0.40000001,  0.        ],\n",
       "        [ 0.89999998, -0.40000001,  0.        ],\n",
       "        [ 1.        , -0.40000001,  0.        ],\n",
       "        [-1.        , -0.30000001,  0.        ],\n",
       "        [-0.89999998, -0.30000001,  0.        ],\n",
       "        [-0.80000001, -0.30000001,  0.        ],\n",
       "        [-0.69999999, -0.30000001,  0.        ],\n",
       "        [-0.60000002, -0.30000001,  0.        ],\n",
       "        [-0.5       , -0.30000001,  0.        ],\n",
       "        [-0.40000001, -0.30000001,  0.        ],\n",
       "        [-0.30000001, -0.30000001,  0.        ],\n",
       "        [-0.2       , -0.30000001,  0.        ],\n",
       "        [-0.1       , -0.30000001,  0.        ],\n",
       "        [ 0.        , -0.30000001,  0.        ],\n",
       "        [ 0.1       , -0.30000001,  0.        ],\n",
       "        [ 0.2       , -0.30000001,  0.        ],\n",
       "        [ 0.30000001, -0.30000001,  0.        ],\n",
       "        [ 0.40000001, -0.30000001,  0.        ],\n",
       "        [ 0.5       , -0.30000001,  0.        ],\n",
       "        [ 0.60000002, -0.30000001,  0.        ],\n",
       "        [ 0.69999999, -0.30000001,  0.        ],\n",
       "        [ 0.80000001, -0.30000001,  0.        ],\n",
       "        [ 0.89999998, -0.30000001,  0.        ],\n",
       "        [ 1.        , -0.30000001,  0.        ],\n",
       "        [-1.        , -0.2       ,  0.        ],\n",
       "        [-0.89999998, -0.2       ,  0.        ],\n",
       "        [-0.80000001, -0.2       ,  0.        ],\n",
       "        [-0.69999999, -0.2       ,  0.        ],\n",
       "        [-0.60000002, -0.2       ,  0.        ],\n",
       "        [-0.5       , -0.2       ,  0.        ],\n",
       "        [-0.40000001, -0.2       ,  0.        ],\n",
       "        [-0.30000001, -0.2       ,  0.        ],\n",
       "        [-0.2       , -0.2       ,  0.        ],\n",
       "        [-0.1       , -0.2       ,  0.        ],\n",
       "        [ 0.        , -0.2       ,  0.        ],\n",
       "        [ 0.1       , -0.2       ,  0.        ],\n",
       "        [ 0.2       , -0.2       ,  0.        ],\n",
       "        [ 0.30000001, -0.2       ,  0.        ],\n",
       "        [ 0.40000001, -0.2       ,  0.        ],\n",
       "        [ 0.5       , -0.2       ,  0.        ],\n",
       "        [ 0.60000002, -0.2       ,  0.        ],\n",
       "        [ 0.69999999, -0.2       ,  0.        ],\n",
       "        [ 0.80000001, -0.2       ,  0.        ],\n",
       "        [ 0.89999998, -0.2       ,  0.        ],\n",
       "        [ 1.        , -0.2       ,  0.        ],\n",
       "        [-1.        , -0.1       ,  0.        ],\n",
       "        [-0.89999998, -0.1       ,  0.        ],\n",
       "        [-0.80000001, -0.1       ,  0.        ],\n",
       "        [-0.69999999, -0.1       ,  0.        ],\n",
       "        [-0.60000002, -0.1       ,  0.        ],\n",
       "        [-0.5       , -0.1       ,  0.        ],\n",
       "        [-0.40000001, -0.1       ,  0.        ],\n",
       "        [-0.30000001, -0.1       ,  0.        ],\n",
       "        [-0.2       , -0.1       ,  0.        ],\n",
       "        [-0.1       , -0.1       ,  0.        ],\n",
       "        [ 0.        , -0.1       ,  0.        ],\n",
       "        [ 0.1       , -0.1       ,  0.        ],\n",
       "        [ 0.2       , -0.1       ,  0.        ],\n",
       "        [ 0.30000001, -0.1       ,  0.        ],\n",
       "        [ 0.40000001, -0.1       ,  0.        ],\n",
       "        [ 0.5       , -0.1       ,  0.        ],\n",
       "        [ 0.60000002, -0.1       ,  0.        ],\n",
       "        [ 0.69999999, -0.1       ,  0.        ],\n",
       "        [ 0.80000001, -0.1       ,  0.        ],\n",
       "        [ 0.89999998, -0.1       ,  0.        ],\n",
       "        [ 1.        , -0.1       ,  0.        ],\n",
       "        [-1.        ,  0.        ,  0.        ],\n",
       "        [-0.89999998,  0.        ,  0.        ],\n",
       "        [-0.80000001,  0.        ,  0.        ],\n",
       "        [-0.69999999,  0.        ,  0.        ],\n",
       "        [-0.60000002,  0.        ,  0.        ],\n",
       "        [-0.5       ,  0.        ,  0.        ],\n",
       "        [-0.40000001,  0.        ,  0.        ],\n",
       "        [-0.30000001,  0.        ,  0.        ],\n",
       "        [-0.2       ,  0.        ,  0.        ],\n",
       "        [-0.1       ,  0.        ,  0.        ],\n",
       "        [ 0.        ,  0.        ,  0.        ],\n",
       "        [ 0.1       ,  0.        ,  0.        ],\n",
       "        [ 0.2       ,  0.        ,  0.        ],\n",
       "        [ 0.30000001,  0.        ,  0.        ],\n",
       "        [ 0.40000001,  0.        ,  0.        ],\n",
       "        [ 0.5       ,  0.        ,  0.        ],\n",
       "        [ 0.60000002,  0.        ,  0.        ],\n",
       "        [ 0.69999999,  0.        ,  0.        ],\n",
       "        [ 0.80000001,  0.        ,  0.        ],\n",
       "        [ 0.89999998,  0.        ,  0.        ],\n",
       "        [ 1.        ,  0.        ,  0.        ],\n",
       "        [-1.        ,  0.1       ,  0.        ],\n",
       "        [-0.89999998,  0.1       ,  0.        ],\n",
       "        [-0.80000001,  0.1       ,  0.        ],\n",
       "        [-0.69999999,  0.1       ,  0.        ],\n",
       "        [-0.60000002,  0.1       ,  0.        ],\n",
       "        [-0.5       ,  0.1       ,  0.        ],\n",
       "        [-0.40000001,  0.1       ,  0.        ],\n",
       "        [-0.30000001,  0.1       ,  0.        ],\n",
       "        [-0.2       ,  0.1       ,  0.        ],\n",
       "        [-0.1       ,  0.1       ,  0.        ],\n",
       "        [ 0.        ,  0.1       ,  0.        ],\n",
       "        [ 0.1       ,  0.1       ,  0.        ],\n",
       "        [ 0.2       ,  0.1       ,  0.        ],\n",
       "        [ 0.30000001,  0.1       ,  0.        ],\n",
       "        [ 0.40000001,  0.1       ,  0.        ],\n",
       "        [ 0.5       ,  0.1       ,  0.        ],\n",
       "        [ 0.60000002,  0.1       ,  0.        ],\n",
       "        [ 0.69999999,  0.1       ,  0.        ],\n",
       "        [ 0.80000001,  0.1       ,  0.        ],\n",
       "        [ 0.89999998,  0.1       ,  0.        ],\n",
       "        [ 1.        ,  0.1       ,  0.        ],\n",
       "        [-1.        ,  0.2       ,  0.        ],\n",
       "        [-0.89999998,  0.2       ,  0.        ],\n",
       "        [-0.80000001,  0.2       ,  0.        ],\n",
       "        [-0.69999999,  0.2       ,  0.        ],\n",
       "        [-0.60000002,  0.2       ,  0.        ],\n",
       "        [-0.5       ,  0.2       ,  0.        ],\n",
       "        [-0.40000001,  0.2       ,  0.        ],\n",
       "        [-0.30000001,  0.2       ,  0.        ],\n",
       "        [-0.2       ,  0.2       ,  0.        ],\n",
       "        [-0.1       ,  0.2       ,  0.        ],\n",
       "        [ 0.        ,  0.2       ,  0.        ],\n",
       "        [ 0.1       ,  0.2       ,  0.        ],\n",
       "        [ 0.2       ,  0.2       ,  0.        ],\n",
       "        [ 0.30000001,  0.2       ,  0.        ],\n",
       "        [ 0.40000001,  0.2       ,  0.        ],\n",
       "        [ 0.5       ,  0.2       ,  0.        ],\n",
       "        [ 0.60000002,  0.2       ,  0.        ],\n",
       "        [ 0.69999999,  0.2       ,  0.        ],\n",
       "        [ 0.80000001,  0.2       ,  0.        ],\n",
       "        [ 0.89999998,  0.2       ,  0.        ],\n",
       "        [ 1.        ,  0.2       ,  0.        ],\n",
       "        [-1.        ,  0.30000001,  0.        ],\n",
       "        [-0.89999998,  0.30000001,  0.        ],\n",
       "        [-0.80000001,  0.30000001,  0.        ],\n",
       "        [-0.69999999,  0.30000001,  0.        ],\n",
       "        [-0.60000002,  0.30000001,  0.        ],\n",
       "        [-0.5       ,  0.30000001,  0.        ],\n",
       "        [-0.40000001,  0.30000001,  0.        ],\n",
       "        [-0.30000001,  0.30000001,  0.        ],\n",
       "        [-0.2       ,  0.30000001,  0.        ],\n",
       "        [-0.1       ,  0.30000001,  0.        ],\n",
       "        [ 0.        ,  0.30000001,  0.        ],\n",
       "        [ 0.1       ,  0.30000001,  0.        ],\n",
       "        [ 0.2       ,  0.30000001,  0.        ],\n",
       "        [ 0.30000001,  0.30000001,  0.        ],\n",
       "        [ 0.40000001,  0.30000001,  0.        ],\n",
       "        [ 0.5       ,  0.30000001,  0.        ],\n",
       "        [ 0.60000002,  0.30000001,  0.        ],\n",
       "        [ 0.69999999,  0.30000001,  0.        ],\n",
       "        [ 0.80000001,  0.30000001,  0.        ],\n",
       "        [ 0.89999998,  0.30000001,  0.        ],\n",
       "        [ 1.        ,  0.30000001,  0.        ],\n",
       "        [-1.        ,  0.40000001,  0.        ],\n",
       "        [-0.89999998,  0.40000001,  0.        ],\n",
       "        [-0.80000001,  0.40000001,  0.        ],\n",
       "        [-0.69999999,  0.40000001,  0.        ],\n",
       "        [-0.60000002,  0.40000001,  0.        ],\n",
       "        [-0.5       ,  0.40000001,  0.        ],\n",
       "        [-0.40000001,  0.40000001,  0.        ],\n",
       "        [-0.30000001,  0.40000001,  0.        ],\n",
       "        [-0.2       ,  0.40000001,  0.        ],\n",
       "        [-0.1       ,  0.40000001,  0.        ],\n",
       "        [ 0.        ,  0.40000001,  0.        ],\n",
       "        [ 0.1       ,  0.40000001,  0.        ],\n",
       "        [ 0.2       ,  0.40000001,  0.        ],\n",
       "        [ 0.30000001,  0.40000001,  0.        ],\n",
       "        [ 0.40000001,  0.40000001,  0.        ],\n",
       "        [ 0.5       ,  0.40000001,  0.        ],\n",
       "        [ 0.60000002,  0.40000001,  0.        ],\n",
       "        [ 0.69999999,  0.40000001,  0.        ],\n",
       "        [ 0.80000001,  0.40000001,  0.        ],\n",
       "        [ 0.89999998,  0.40000001,  0.        ],\n",
       "        [ 1.        ,  0.40000001,  0.        ],\n",
       "        [-1.        ,  0.5       ,  0.        ],\n",
       "        [-0.89999998,  0.5       ,  0.        ],\n",
       "        [-0.80000001,  0.5       ,  0.        ],\n",
       "        [-0.69999999,  0.5       ,  0.        ],\n",
       "        [-0.60000002,  0.5       ,  0.        ],\n",
       "        [-0.5       ,  0.5       ,  0.        ],\n",
       "        [-0.40000001,  0.5       ,  0.        ],\n",
       "        [-0.30000001,  0.5       ,  0.        ],\n",
       "        [-0.2       ,  0.5       ,  0.        ],\n",
       "        [-0.1       ,  0.5       ,  0.        ],\n",
       "        [ 0.        ,  0.5       ,  0.        ],\n",
       "        [ 0.1       ,  0.5       ,  0.        ],\n",
       "        [ 0.2       ,  0.5       ,  0.        ],\n",
       "        [ 0.30000001,  0.5       ,  0.        ],\n",
       "        [ 0.40000001,  0.5       ,  0.        ],\n",
       "        [ 0.5       ,  0.5       ,  0.        ],\n",
       "        [ 0.60000002,  0.5       ,  0.        ],\n",
       "        [ 0.69999999,  0.5       ,  0.        ],\n",
       "        [ 0.80000001,  0.5       ,  0.        ],\n",
       "        [ 0.89999998,  0.5       ,  0.        ],\n",
       "        [ 1.        ,  0.5       ,  0.        ]]), ids=array([  0,   1,   2,   3,   4,   5,   6,   7,   8,   9,  10,  11,  12,\n",
       "         13,  14,  15,  16,  17,  18,  19,  20,  21,  22,  23,  24,  25,\n",
       "         26,  27,  28,  29,  30,  31,  32,  33,  34,  35,  36,  37,  38,\n",
       "         39,  40,  41,  42,  43,  44,  45,  46,  47,  48,  49,  50,  51,\n",
       "         52,  53,  54,  55,  56,  57,  58,  59,  60,  61,  62,  63,  64,\n",
       "         65,  66,  67,  68,  69,  70,  71,  72,  73,  74,  75,  76,  77,\n",
       "         78,  79,  80,  81,  82,  83,  84,  85,  86,  87,  88,  89,  90,\n",
       "         91,  92,  93,  94,  95,  96,  97,  98,  99, 100, 101, 102, 103,\n",
       "        104, 105, 106, 107, 108, 109, 110, 111, 112, 113, 114, 115, 116,\n",
       "        117, 118, 119, 120, 121, 122, 123, 124, 125, 126, 127, 128, 129,\n",
       "        130, 131, 132, 133, 134, 135, 136, 137, 138, 139, 140, 141, 142,\n",
       "        143, 144, 145, 146, 147, 148, 149, 150, 151, 152, 153, 154, 155,\n",
       "        156, 157, 158, 159, 160, 161, 162, 163, 164, 165, 166, 167, 168,\n",
       "        169, 170, 171, 172, 173, 174, 175, 176, 177, 178, 179, 180, 181,\n",
       "        182, 183, 184, 185, 186, 187, 188, 189, 190, 191, 192, 193, 194,\n",
       "        195, 196, 197, 198, 199, 200, 201, 202, 203, 204, 205, 206, 207,\n",
       "        208, 209, 210, 211, 212, 213, 214, 215, 216, 217, 218, 219, 220,\n",
       "        221, 222, 223, 224, 225, 226, 227, 228, 229, 230]))]"
      ]
     },
     "execution_count": 27,
     "metadata": {},
     "output_type": "execute_result"
    }
   ],
   "source": [
    "xplt.nodes # list of Nodes objects"
   ]
  },
  {
   "cell_type": "code",
   "execution_count": 28,
   "metadata": {
    "execution": {
     "iopub.execute_input": "2024-06-14T20:35:56.331068Z",
     "iopub.status.busy": "2024-06-14T20:35:56.330763Z",
     "iopub.status.idle": "2024-06-14T20:35:56.336348Z",
     "shell.execute_reply": "2024-06-14T20:35:56.335683Z"
    }
   },
   "outputs": [
    {
     "data": {
      "text/plain": [
       "[Elements(name=None, mat=None, part=1, type='TRIANGLE', connectivity=array([[  1,   0,   1,  21],\n",
       "        [  2,  22,  21,   1],\n",
       "        [  3,   1,   2,  22],\n",
       "        ...,\n",
       "        [398, 229, 228, 208],\n",
       "        [399, 208, 209, 229],\n",
       "        [400, 230, 229, 209]]), ids=array([  0,   1,   2,   3,   4,   5,   6,   7,   8,   9,  10,  11,  12,\n",
       "         13,  14,  15,  16,  17,  18,  19,  20,  21,  22,  23,  24,  25,\n",
       "         26,  27,  28,  29,  30,  31,  32,  33,  34,  35,  36,  37,  38,\n",
       "         39,  40,  41,  42,  43,  44,  45,  46,  47,  48,  49,  50,  51,\n",
       "         52,  53,  54,  55,  56,  57,  58,  59,  60,  61,  62,  63,  64,\n",
       "         65,  66,  67,  68,  69,  70,  71,  72,  73,  74,  75,  76,  77,\n",
       "         78,  79,  80,  81,  82,  83,  84,  85,  86,  87,  88,  89,  90,\n",
       "         91,  92,  93,  94,  95,  96,  97,  98,  99, 100, 101, 102, 103,\n",
       "        104, 105, 106, 107, 108, 109, 110, 111, 112, 113, 114, 115, 116,\n",
       "        117, 118, 119, 120, 121, 122, 123, 124, 125, 126, 127, 128, 129,\n",
       "        130, 131, 132, 133, 134, 135, 136, 137, 138, 139, 140, 141, 142,\n",
       "        143, 144, 145, 146, 147, 148, 149, 150, 151, 152, 153, 154, 155,\n",
       "        156, 157, 158, 159, 160, 161, 162, 163, 164, 165, 166, 167, 168,\n",
       "        169, 170, 171, 172, 173, 174, 175, 176, 177, 178, 179, 180, 181,\n",
       "        182, 183, 184, 185, 186, 187, 188, 189, 190, 191, 192, 193, 194,\n",
       "        195, 196, 197, 198, 199, 200, 201, 202, 203, 204, 205, 206, 207,\n",
       "        208, 209, 210, 211, 212, 213, 214, 215, 216, 217, 218, 219, 220,\n",
       "        221, 222, 223, 224, 225, 226, 227, 228, 229, 230, 231, 232, 233,\n",
       "        234, 235, 236, 237, 238, 239, 240, 241, 242, 243, 244, 245, 246,\n",
       "        247, 248, 249, 250, 251, 252, 253, 254, 255, 256, 257, 258, 259,\n",
       "        260, 261, 262, 263, 264, 265, 266, 267, 268, 269, 270, 271, 272,\n",
       "        273, 274, 275, 276, 277, 278, 279, 280, 281, 282, 283, 284, 285,\n",
       "        286, 287, 288, 289, 290, 291, 292, 293, 294, 295, 296, 297, 298,\n",
       "        299, 300, 301, 302, 303, 304, 305, 306, 307, 308, 309, 310, 311,\n",
       "        312, 313, 314, 315, 316, 317, 318, 319, 320, 321, 322, 323, 324,\n",
       "        325, 326, 327, 328, 329, 330, 331, 332, 333, 334, 335, 336, 337,\n",
       "        338, 339, 340, 341, 342, 343, 344, 345, 346, 347, 348, 349, 350,\n",
       "        351, 352, 353, 354, 355, 356, 357, 358, 359, 360, 361, 362, 363,\n",
       "        364, 365, 366, 367, 368, 369, 370, 371, 372, 373, 374, 375, 376,\n",
       "        377, 378, 379, 380, 381, 382, 383, 384, 385, 386, 387, 388, 389,\n",
       "        390, 391, 392, 393, 394, 395, 396, 397, 398, 399]))]"
      ]
     },
     "execution_count": 28,
     "metadata": {},
     "output_type": "execute_result"
    }
   ],
   "source": [
    "xplt.elements # list of Elements objects"
   ]
  },
  {
   "cell_type": "code",
   "execution_count": 29,
   "metadata": {
    "execution": {
     "iopub.execute_input": "2024-06-14T20:35:56.338911Z",
     "iopub.status.busy": "2024-06-14T20:35:56.338487Z",
     "iopub.status.idle": "2024-06-14T20:35:56.347264Z",
     "shell.execute_reply": "2024-06-14T20:35:56.346545Z"
    }
   },
   "outputs": [
    {
     "data": {
      "text/plain": [
       "States(nodes=[StateData(name='displacement', dom=0, data=array([[[ 0.        ,  0.        ,  0.        ],\n",
       "        [ 0.        ,  0.        ,  0.        ],\n",
       "        [ 0.        ,  0.        ,  0.        ],\n",
       "        ...,\n",
       "        [ 0.        ,  0.        ,  0.        ],\n",
       "        [ 0.        ,  0.        ,  0.        ],\n",
       "        [ 0.        ,  0.        ,  0.        ]],\n",
       "\n",
       "       [[ 0.        ,  0.        ,  0.        ],\n",
       "        [-0.00241185, -0.00141284,  0.        ],\n",
       "        [-0.00460829, -0.00296836,  0.        ],\n",
       "        ...,\n",
       "        [ 0.03514386, -0.07879543,  0.        ],\n",
       "        [ 0.03548158, -0.08488715,  0.        ],\n",
       "        [ 0.03574249, -0.09127856,  0.        ]],\n",
       "\n",
       "       [[ 0.        ,  0.        ,  0.        ],\n",
       "        [-0.00438763, -0.00255033,  0.        ],\n",
       "        [-0.00835898, -0.00537066,  0.        ],\n",
       "        ...,\n",
       "        [ 0.06173341, -0.1440275 ,  0.        ],\n",
       "        [ 0.06217256, -0.154956  ,  0.        ],\n",
       "        [ 0.06246274, -0.16649833,  0.        ]],\n",
       "\n",
       "       ...,\n",
       "\n",
       "       [[ 0.        ,  0.        ,  0.        ],\n",
       "        [-0.01119141, -0.00654127,  0.        ],\n",
       "        [-0.02091032, -0.0140982 ,  0.        ],\n",
       "        ...,\n",
       "        [ 0.14965743, -0.3825299 ,  0.        ],\n",
       "        [ 0.14999932, -0.40942118,  0.        ],\n",
       "        [ 0.14971283, -0.4390082 ,  0.        ]],\n",
       "\n",
       "       [[ 0.        ,  0.        ,  0.        ],\n",
       "        [-0.01183677, -0.00695707,  0.        ],\n",
       "        [-0.02204275, -0.01506192,  0.        ],\n",
       "        ...,\n",
       "        [ 0.15935734, -0.40824923,  0.        ],\n",
       "        [ 0.15973683, -0.43669814,  0.        ],\n",
       "        [ 0.15939233, -0.46821073,  0.        ]],\n",
       "\n",
       "       [[ 0.        ,  0.        ,  0.        ],\n",
       "        [-0.01239656, -0.00733244,  0.        ],\n",
       "        [-0.02300878, -0.01594689,  0.        ],\n",
       "        ...,\n",
       "        [ 0.16844292, -0.43168595,  0.        ],\n",
       "        [ 0.16888118, -0.4615291 ,  0.        ],\n",
       "        [ 0.1684947 , -0.49480793,  0.        ]]], dtype=float32))], elements=[StateData(name='Lagrange strain', dom=1, data=array([[[ 0.00000000e+00,  0.00000000e+00,  0.00000000e+00,\n",
       "          0.00000000e+00,  0.00000000e+00,  0.00000000e+00],\n",
       "        [ 0.00000000e+00,  0.00000000e+00,  0.00000000e+00,\n",
       "          0.00000000e+00,  0.00000000e+00,  0.00000000e+00],\n",
       "        [ 0.00000000e+00,  0.00000000e+00,  0.00000000e+00,\n",
       "          0.00000000e+00,  0.00000000e+00,  0.00000000e+00],\n",
       "        ...,\n",
       "        [ 0.00000000e+00,  0.00000000e+00,  0.00000000e+00,\n",
       "          0.00000000e+00,  0.00000000e+00,  0.00000000e+00],\n",
       "        [ 0.00000000e+00,  0.00000000e+00,  0.00000000e+00,\n",
       "          0.00000000e+00,  0.00000000e+00,  0.00000000e+00],\n",
       "        [ 0.00000000e+00,  0.00000000e+00,  0.00000000e+00,\n",
       "          0.00000000e+00,  0.00000000e+00,  0.00000000e+00]],\n",
       "\n",
       "       [[-2.37153228e-02,  4.96507617e-08,  9.25132260e-03,\n",
       "         -7.05668749e-03,  8.77791172e-05,  8.75434343e-05],\n",
       "        [-1.55513035e-02,  4.19573579e-03,  6.64580334e-03,\n",
       "         -8.76835082e-04, -4.10028315e-06,  3.52151233e-06],\n",
       "        [-2.16151774e-02,  4.19573579e-03,  6.46888278e-03,\n",
       "         -3.71682271e-03, -1.87471978e-05, -3.00115735e-05],\n",
       "        ...,\n",
       "        [ 5.26419561e-03, -1.79060502e-03, -1.32319576e-03,\n",
       "         -1.09630043e-03,  1.35697308e-04, -9.22947293e-05],\n",
       "        [ 3.76348314e-03, -1.79060502e-03, -6.20446925e-04,\n",
       "         -1.20302581e-03,  3.88543667e-05,  1.51752083e-05],\n",
       "        [ 4.56833979e-03, -4.31854278e-03, -2.29850310e-04,\n",
       "         -2.06456636e-03, -6.20934181e-04,  2.85940798e-04]],\n",
       "\n",
       "       [[-4.25659008e-02,  1.59901958e-07,  1.65927690e-02,\n",
       "         -1.27380788e-02,  1.59318617e-04,  1.58670024e-04],\n",
       "        [-2.77379584e-02,  7.46000186e-03,  1.18833957e-02,\n",
       "         -1.59418711e-03, -7.71454506e-06,  5.81513541e-06],\n",
       "        [-3.85503881e-02,  7.46000186e-03,  1.15433391e-02,\n",
       "         -6.74896734e-03, -3.39396829e-05, -5.31097103e-05],\n",
       "        ...,\n",
       "        [ 1.04284454e-02, -3.59612191e-03, -2.62235897e-03,\n",
       "         -1.94375543e-03,  2.62485846e-04, -1.94640495e-04],\n",
       "        [ 7.60030141e-03, -3.59612191e-03, -1.25896640e-03,\n",
       "         -2.19966378e-03,  7.99982663e-05,  2.65306644e-05],\n",
       "        [ 9.37342457e-03, -8.74353014e-03, -5.09420410e-04,\n",
       "         -3.88680655e-03, -1.21673197e-03,  6.25563203e-04]],\n",
       "\n",
       "       ...,\n",
       "\n",
       "       [[-1.03454977e-01,  1.02291756e-06,  4.00860123e-02,\n",
       "         -3.26714478e-02,  4.17361414e-04,  4.09782020e-04],\n",
       "        [-6.36420026e-02,  1.68143846e-02,  2.79301554e-02,\n",
       "         -4.35827812e-03, -2.22580402e-05,  9.12787800e-06],\n",
       "        [-8.96661356e-02,  1.68143846e-02,  2.68445406e-02,\n",
       "         -1.82178933e-02, -8.80838707e-05, -1.21186145e-04],\n",
       "        ...,\n",
       "        [ 3.98490652e-02, -1.43709024e-02, -9.90649406e-03,\n",
       "         -4.42765653e-03,  9.21171857e-04, -8.83480243e-04],\n",
       "        [ 3.06131430e-02, -1.43709024e-02, -5.02734119e-03,\n",
       "         -6.15815260e-03,  3.49141104e-04,  5.58151733e-05],\n",
       "        [ 3.98919024e-02, -3.57674919e-02, -2.53269938e-03,\n",
       "         -1.22170681e-02, -4.47947998e-03,  3.11689964e-03]],\n",
       "\n",
       "       [[-1.08881332e-01,  1.15577188e-06,  4.21402082e-02,\n",
       "         -3.47481929e-02,  4.44912352e-04,  4.35584836e-04],\n",
       "        [-6.61997572e-02,  1.74349323e-02,  2.92007625e-02,\n",
       "         -4.69052047e-03, -2.38736247e-05,  8.95932772e-06],\n",
       "        [-9.36254486e-02,  1.74349323e-02,  2.80210096e-02,\n",
       "         -1.95591226e-02, -9.38163721e-05, -1.26437721e-04],\n",
       "        ...,\n",
       "        [ 4.45734523e-02, -1.61647107e-02, -1.10511193e-02,\n",
       "         -4.62550670e-03,  1.02171360e-03, -1.00175163e-03],\n",
       "        [ 3.43595631e-02, -1.61647107e-02, -5.62138064e-03,\n",
       "         -6.66673388e-03,  3.96208838e-04,  5.73999459e-05],\n",
       "        [ 4.50464040e-02, -4.02821973e-02, -2.88027129e-03,\n",
       "         -1.33820577e-02, -4.99419915e-03,  3.56116169e-03]],\n",
       "\n",
       "       [[-1.13529623e-01,  1.28303191e-06,  4.38876860e-02,\n",
       "         -3.66229638e-02,  4.69880557e-04,  4.58679424e-04],\n",
       "        [-6.81892633e-02,  1.79007482e-02,  3.02395485e-02,\n",
       "         -5.00305137e-03, -2.53279559e-05,  8.70800432e-06],\n",
       "        [-9.68414694e-02,  1.79007482e-02,  2.89726872e-02,\n",
       "         -2.08097380e-02, -9.90094777e-05, -1.30736560e-04],\n",
       "        ...,\n",
       "        [ 4.92642596e-02, -1.79609023e-02, -1.21797724e-02,\n",
       "         -4.79171658e-03,  1.12077757e-03, -1.11997582e-03],\n",
       "        [ 3.80752347e-02, -1.79609023e-02, -6.20363094e-03,\n",
       "         -7.15704774e-03,  4.43766272e-04,  5.84696500e-05],\n",
       "        [ 5.01992963e-02, -4.47962992e-02, -3.22508742e-03,\n",
       "         -1.45127149e-02, -5.50433807e-03,  4.00813343e-03]]],\n",
       "      dtype=float32)), StateData(name='stress', dom=1, data=array([[[ 0.00000000e+00,  0.00000000e+00,  0.00000000e+00,\n",
       "          0.00000000e+00,  0.00000000e+00,  0.00000000e+00],\n",
       "        [ 0.00000000e+00,  0.00000000e+00,  0.00000000e+00,\n",
       "          0.00000000e+00,  0.00000000e+00,  0.00000000e+00],\n",
       "        [ 0.00000000e+00,  0.00000000e+00,  0.00000000e+00,\n",
       "          0.00000000e+00,  0.00000000e+00,  0.00000000e+00],\n",
       "        ...,\n",
       "        [ 0.00000000e+00,  0.00000000e+00,  0.00000000e+00,\n",
       "          0.00000000e+00,  0.00000000e+00,  0.00000000e+00],\n",
       "        [ 0.00000000e+00,  0.00000000e+00,  0.00000000e+00,\n",
       "          0.00000000e+00,  0.00000000e+00,  0.00000000e+00],\n",
       "        [ 0.00000000e+00,  0.00000000e+00,  0.00000000e+00,\n",
       "          0.00000000e+00,  0.00000000e+00,  0.00000000e+00]],\n",
       "\n",
       "       [[-2.57104258e+04, -8.32338770e+03, -1.26783472e+03,\n",
       "         -5.00688428e+03,  6.47943573e+01,  5.92901344e+01],\n",
       "        [-1.43045918e+04,  5.29054504e+02,  2.43950635e+03,\n",
       "         -5.20961426e+02, -3.57376099e+00,  6.30108118e-01],\n",
       "        [-2.22493047e+04, -3.06733716e+03, -1.37425366e+03,\n",
       "         -2.51297241e+03, -1.46889915e+01, -2.43459587e+01],\n",
       "        ...,\n",
       "        [ 5.21573779e+03, -1.35725298e+01,  2.21767639e+02,\n",
       "         -1.16937219e+03,  1.08122086e+02, -6.51837006e+01],\n",
       "        [ 3.57415332e+03, -4.65898315e+02,  3.02325745e+02,\n",
       "         -1.17880908e+03,  2.89701767e+01,  1.33194933e+01],\n",
       "        [ 3.34443286e+03, -3.05312988e+03, -1.65135666e+02,\n",
       "         -1.99652502e+03, -4.88636292e+02,  1.92099396e+02]],\n",
       "\n",
       "       [[-4.48986719e+04, -1.49390605e+04, -2.35327466e+03,\n",
       "         -8.44365625e+03,  1.14041161e+02,  9.63064270e+01],\n",
       "        [-2.49900234e+04,  9.53104980e+02,  4.44329688e+03,\n",
       "         -7.30678345e+02, -7.26328564e+00, -2.20842171e+00],\n",
       "        [-3.87194727e+04, -5.47384131e+03, -2.50470239e+03,\n",
       "         -4.08328662e+03, -2.69665909e+01, -4.50076408e+01],\n",
       "        ...,\n",
       "        [ 1.01858477e+04,  1.17725616e+02,  4.08006592e+02,\n",
       "         -2.64370044e+03,  2.15578400e+02, -1.29467834e+02],\n",
       "        [ 7.06949512e+03, -7.02262695e+02,  6.12641724e+02,\n",
       "         -2.59109229e+03,  5.83572578e+01,  2.63640137e+01],\n",
       "        [ 6.61690186e+03, -5.68505859e+03, -3.21698456e+02,\n",
       "         -4.45147803e+03, -9.77332092e+02,  3.83120911e+02]],\n",
       "\n",
       "       ...,\n",
       "\n",
       "       [[-9.92679531e+04, -3.66051602e+04, -6.64452246e+03,\n",
       "         -1.68790059e+04,  2.73736389e+02,  1.60902344e+02],\n",
       "        [-5.36645586e+04,  2.33872754e+03,  1.14601699e+04,\n",
       "         -3.11623627e+02, -2.48822613e+01, -3.28758545e+01],\n",
       "        [-8.36302812e+04, -1.31645332e+04, -6.56354932e+03,\n",
       "         -7.30365869e+03, -7.28974838e+01, -1.22733002e+02],\n",
       "        ...,\n",
       "        [ 3.75855078e+04,  2.70891431e+03,  1.32031433e+03,\n",
       "         -1.40452988e+04,  8.46112244e+02, -5.05644989e+02],\n",
       "        [ 2.67828867e+04,  4.67094666e+02,  2.55825366e+03,\n",
       "         -1.31989033e+04,  2.39480713e+02,  1.01752251e+02],\n",
       "        [ 2.51069902e+04, -1.50549033e+04, -1.02165302e+03,\n",
       "         -2.35506895e+04, -3.90820166e+03,  1.51560632e+03]],\n",
       "\n",
       "       [[-1.03544789e+05, -3.85584258e+04, -7.13044482e+03,\n",
       "         -1.75093594e+04,  2.89711700e+02,  1.62880554e+02],\n",
       "        [-5.55197031e+04,  2.46515479e+03,  1.21460254e+04,\n",
       "         -2.14675766e+02, -2.70178871e+01, -3.74516640e+01],\n",
       "        [-8.68775391e+04, -1.38355576e+04, -6.98250635e+03,\n",
       "         -7.54512988e+03, -7.78906708e+01, -1.31013916e+02],\n",
       "        ...,\n",
       "        [ 4.19955117e+04,  3.29983154e+03,  1.46036755e+03,\n",
       "         -1.61555713e+04,  9.49114014e+02, -5.67525269e+02],\n",
       "        [ 2.99045957e+04,  8.80143616e+02,  2.87391748e+03,\n",
       "         -1.51469600e+04,  2.70181335e+02,  1.13927521e+02],\n",
       "        [ 2.80805938e+04, -1.58543672e+04, -1.11878113e+03,\n",
       "         -2.71071465e+04, -4.39746387e+03,  1.70316260e+03]],\n",
       "\n",
       "       [[-1.07134500e+05, -4.02281328e+04, -7.57302295e+03,\n",
       "         -1.80556445e+04,  3.04073822e+02,  1.64106705e+02],\n",
       "        [-5.69336562e+04,  2.57574097e+03,  1.27474004e+04,\n",
       "         -1.31921478e+02, -2.89687786e+01, -4.16831512e+01],\n",
       "        [-8.95182266e+04, -1.44029912e+04, -7.35732373e+03,\n",
       "         -7.77286230e+03, -8.24211807e+01, -1.38445099e+02],\n",
       "        ...,\n",
       "        [ 4.63999648e+04,  3.91850513e+03,  1.60029834e+03,\n",
       "         -1.83055371e+04,  1.05160632e+03, -6.29289734e+02],\n",
       "        [ 3.29913398e+04,  1.32787097e+03,  3.18541235e+03,\n",
       "         -1.71267695e+04,  3.01004028e+02,  1.25993431e+02],\n",
       "        [ 3.10444766e+04, -1.64842617e+04, -1.21277368e+03,\n",
       "         -3.07300488e+04, -4.88736279e+03,  1.89061377e+03]]],\n",
       "      dtype=float32))], surfaces=[], timesteps=array([0. , 0.1, 0.2, 0.3, 0.4, 0.5, 0.6, 0.7, 0.8, 0.9, 1. ],\n",
       "      dtype=float32))"
      ]
     },
     "execution_count": 29,
     "metadata": {},
     "output_type": "execute_result"
    }
   ],
   "source": [
    "xplt.states # list of States objects"
   ]
  },
  {
   "cell_type": "markdown",
   "metadata": {},
   "source": [
    "### States data:"
   ]
  },
  {
   "cell_type": "code",
   "execution_count": 30,
   "metadata": {
    "execution": {
     "iopub.execute_input": "2024-06-14T20:35:56.349771Z",
     "iopub.status.busy": "2024-06-14T20:35:56.349537Z",
     "iopub.status.idle": "2024-06-14T20:35:56.355130Z",
     "shell.execute_reply": "2024-06-14T20:35:56.354443Z"
    }
   },
   "outputs": [
    {
     "data": {
      "text/plain": [
       "StateData(name='displacement', dom=0, data=array([[[ 0.        ,  0.        ,  0.        ],\n",
       "        [ 0.        ,  0.        ,  0.        ],\n",
       "        [ 0.        ,  0.        ,  0.        ],\n",
       "        ...,\n",
       "        [ 0.        ,  0.        ,  0.        ],\n",
       "        [ 0.        ,  0.        ,  0.        ],\n",
       "        [ 0.        ,  0.        ,  0.        ]],\n",
       "\n",
       "       [[ 0.        ,  0.        ,  0.        ],\n",
       "        [-0.00241185, -0.00141284,  0.        ],\n",
       "        [-0.00460829, -0.00296836,  0.        ],\n",
       "        ...,\n",
       "        [ 0.03514386, -0.07879543,  0.        ],\n",
       "        [ 0.03548158, -0.08488715,  0.        ],\n",
       "        [ 0.03574249, -0.09127856,  0.        ]],\n",
       "\n",
       "       [[ 0.        ,  0.        ,  0.        ],\n",
       "        [-0.00438763, -0.00255033,  0.        ],\n",
       "        [-0.00835898, -0.00537066,  0.        ],\n",
       "        ...,\n",
       "        [ 0.06173341, -0.1440275 ,  0.        ],\n",
       "        [ 0.06217256, -0.154956  ,  0.        ],\n",
       "        [ 0.06246274, -0.16649833,  0.        ]],\n",
       "\n",
       "       ...,\n",
       "\n",
       "       [[ 0.        ,  0.        ,  0.        ],\n",
       "        [-0.01119141, -0.00654127,  0.        ],\n",
       "        [-0.02091032, -0.0140982 ,  0.        ],\n",
       "        ...,\n",
       "        [ 0.14965743, -0.3825299 ,  0.        ],\n",
       "        [ 0.14999932, -0.40942118,  0.        ],\n",
       "        [ 0.14971283, -0.4390082 ,  0.        ]],\n",
       "\n",
       "       [[ 0.        ,  0.        ,  0.        ],\n",
       "        [-0.01183677, -0.00695707,  0.        ],\n",
       "        [-0.02204275, -0.01506192,  0.        ],\n",
       "        ...,\n",
       "        [ 0.15935734, -0.40824923,  0.        ],\n",
       "        [ 0.15973683, -0.43669814,  0.        ],\n",
       "        [ 0.15939233, -0.46821073,  0.        ]],\n",
       "\n",
       "       [[ 0.        ,  0.        ,  0.        ],\n",
       "        [-0.01239656, -0.00733244,  0.        ],\n",
       "        [-0.02300878, -0.01594689,  0.        ],\n",
       "        ...,\n",
       "        [ 0.16844292, -0.43168595,  0.        ],\n",
       "        [ 0.16888118, -0.4615291 ,  0.        ],\n",
       "        [ 0.1684947 , -0.49480793,  0.        ]]], dtype=float32))"
      ]
     },
     "execution_count": 30,
     "metadata": {},
     "output_type": "execute_result"
    }
   ],
   "source": [
    "xplt.states.nodes[0]"
   ]
  },
  {
   "cell_type": "code",
   "execution_count": 31,
   "metadata": {
    "execution": {
     "iopub.execute_input": "2024-06-14T20:35:56.357732Z",
     "iopub.status.busy": "2024-06-14T20:35:56.357275Z",
     "iopub.status.idle": "2024-06-14T20:35:56.363351Z",
     "shell.execute_reply": "2024-06-14T20:35:56.362643Z"
    }
   },
   "outputs": [
    {
     "data": {
      "text/plain": [
       "StateData(name='Lagrange strain', dom=1, data=array([[[ 0.00000000e+00,  0.00000000e+00,  0.00000000e+00,\n",
       "          0.00000000e+00,  0.00000000e+00,  0.00000000e+00],\n",
       "        [ 0.00000000e+00,  0.00000000e+00,  0.00000000e+00,\n",
       "          0.00000000e+00,  0.00000000e+00,  0.00000000e+00],\n",
       "        [ 0.00000000e+00,  0.00000000e+00,  0.00000000e+00,\n",
       "          0.00000000e+00,  0.00000000e+00,  0.00000000e+00],\n",
       "        ...,\n",
       "        [ 0.00000000e+00,  0.00000000e+00,  0.00000000e+00,\n",
       "          0.00000000e+00,  0.00000000e+00,  0.00000000e+00],\n",
       "        [ 0.00000000e+00,  0.00000000e+00,  0.00000000e+00,\n",
       "          0.00000000e+00,  0.00000000e+00,  0.00000000e+00],\n",
       "        [ 0.00000000e+00,  0.00000000e+00,  0.00000000e+00,\n",
       "          0.00000000e+00,  0.00000000e+00,  0.00000000e+00]],\n",
       "\n",
       "       [[-2.37153228e-02,  4.96507617e-08,  9.25132260e-03,\n",
       "         -7.05668749e-03,  8.77791172e-05,  8.75434343e-05],\n",
       "        [-1.55513035e-02,  4.19573579e-03,  6.64580334e-03,\n",
       "         -8.76835082e-04, -4.10028315e-06,  3.52151233e-06],\n",
       "        [-2.16151774e-02,  4.19573579e-03,  6.46888278e-03,\n",
       "         -3.71682271e-03, -1.87471978e-05, -3.00115735e-05],\n",
       "        ...,\n",
       "        [ 5.26419561e-03, -1.79060502e-03, -1.32319576e-03,\n",
       "         -1.09630043e-03,  1.35697308e-04, -9.22947293e-05],\n",
       "        [ 3.76348314e-03, -1.79060502e-03, -6.20446925e-04,\n",
       "         -1.20302581e-03,  3.88543667e-05,  1.51752083e-05],\n",
       "        [ 4.56833979e-03, -4.31854278e-03, -2.29850310e-04,\n",
       "         -2.06456636e-03, -6.20934181e-04,  2.85940798e-04]],\n",
       "\n",
       "       [[-4.25659008e-02,  1.59901958e-07,  1.65927690e-02,\n",
       "         -1.27380788e-02,  1.59318617e-04,  1.58670024e-04],\n",
       "        [-2.77379584e-02,  7.46000186e-03,  1.18833957e-02,\n",
       "         -1.59418711e-03, -7.71454506e-06,  5.81513541e-06],\n",
       "        [-3.85503881e-02,  7.46000186e-03,  1.15433391e-02,\n",
       "         -6.74896734e-03, -3.39396829e-05, -5.31097103e-05],\n",
       "        ...,\n",
       "        [ 1.04284454e-02, -3.59612191e-03, -2.62235897e-03,\n",
       "         -1.94375543e-03,  2.62485846e-04, -1.94640495e-04],\n",
       "        [ 7.60030141e-03, -3.59612191e-03, -1.25896640e-03,\n",
       "         -2.19966378e-03,  7.99982663e-05,  2.65306644e-05],\n",
       "        [ 9.37342457e-03, -8.74353014e-03, -5.09420410e-04,\n",
       "         -3.88680655e-03, -1.21673197e-03,  6.25563203e-04]],\n",
       "\n",
       "       ...,\n",
       "\n",
       "       [[-1.03454977e-01,  1.02291756e-06,  4.00860123e-02,\n",
       "         -3.26714478e-02,  4.17361414e-04,  4.09782020e-04],\n",
       "        [-6.36420026e-02,  1.68143846e-02,  2.79301554e-02,\n",
       "         -4.35827812e-03, -2.22580402e-05,  9.12787800e-06],\n",
       "        [-8.96661356e-02,  1.68143846e-02,  2.68445406e-02,\n",
       "         -1.82178933e-02, -8.80838707e-05, -1.21186145e-04],\n",
       "        ...,\n",
       "        [ 3.98490652e-02, -1.43709024e-02, -9.90649406e-03,\n",
       "         -4.42765653e-03,  9.21171857e-04, -8.83480243e-04],\n",
       "        [ 3.06131430e-02, -1.43709024e-02, -5.02734119e-03,\n",
       "         -6.15815260e-03,  3.49141104e-04,  5.58151733e-05],\n",
       "        [ 3.98919024e-02, -3.57674919e-02, -2.53269938e-03,\n",
       "         -1.22170681e-02, -4.47947998e-03,  3.11689964e-03]],\n",
       "\n",
       "       [[-1.08881332e-01,  1.15577188e-06,  4.21402082e-02,\n",
       "         -3.47481929e-02,  4.44912352e-04,  4.35584836e-04],\n",
       "        [-6.61997572e-02,  1.74349323e-02,  2.92007625e-02,\n",
       "         -4.69052047e-03, -2.38736247e-05,  8.95932772e-06],\n",
       "        [-9.36254486e-02,  1.74349323e-02,  2.80210096e-02,\n",
       "         -1.95591226e-02, -9.38163721e-05, -1.26437721e-04],\n",
       "        ...,\n",
       "        [ 4.45734523e-02, -1.61647107e-02, -1.10511193e-02,\n",
       "         -4.62550670e-03,  1.02171360e-03, -1.00175163e-03],\n",
       "        [ 3.43595631e-02, -1.61647107e-02, -5.62138064e-03,\n",
       "         -6.66673388e-03,  3.96208838e-04,  5.73999459e-05],\n",
       "        [ 4.50464040e-02, -4.02821973e-02, -2.88027129e-03,\n",
       "         -1.33820577e-02, -4.99419915e-03,  3.56116169e-03]],\n",
       "\n",
       "       [[-1.13529623e-01,  1.28303191e-06,  4.38876860e-02,\n",
       "         -3.66229638e-02,  4.69880557e-04,  4.58679424e-04],\n",
       "        [-6.81892633e-02,  1.79007482e-02,  3.02395485e-02,\n",
       "         -5.00305137e-03, -2.53279559e-05,  8.70800432e-06],\n",
       "        [-9.68414694e-02,  1.79007482e-02,  2.89726872e-02,\n",
       "         -2.08097380e-02, -9.90094777e-05, -1.30736560e-04],\n",
       "        ...,\n",
       "        [ 4.92642596e-02, -1.79609023e-02, -1.21797724e-02,\n",
       "         -4.79171658e-03,  1.12077757e-03, -1.11997582e-03],\n",
       "        [ 3.80752347e-02, -1.79609023e-02, -6.20363094e-03,\n",
       "         -7.15704774e-03,  4.43766272e-04,  5.84696500e-05],\n",
       "        [ 5.01992963e-02, -4.47962992e-02, -3.22508742e-03,\n",
       "         -1.45127149e-02, -5.50433807e-03,  4.00813343e-03]]],\n",
       "      dtype=float32))"
      ]
     },
     "execution_count": 31,
     "metadata": {},
     "output_type": "execute_result"
    }
   ],
   "source": [
    "xplt.states.elements[0]"
   ]
  },
  {
   "cell_type": "markdown",
   "metadata": {},
   "source": [
    "## FEBio Container"
   ]
  },
  {
   "cell_type": "code",
   "execution_count": 32,
   "metadata": {
    "execution": {
     "iopub.execute_input": "2024-06-14T20:35:56.365902Z",
     "iopub.status.busy": "2024-06-14T20:35:56.365680Z",
     "iopub.status.idle": "2024-06-14T20:35:56.370630Z",
     "shell.execute_reply": "2024-06-14T20:35:56.370089Z"
    }
   },
   "outputs": [],
   "source": [
    "from febio_python import FEBioContainer\n",
    "\n",
    "container = FEBioContainer(feb=feb,\n",
    "                           xplt=xplt\n",
    "                           )"
   ]
  },
  {
   "cell_type": "markdown",
   "metadata": {},
   "source": [
    "Can also load from a file directly:"
   ]
  },
  {
   "cell_type": "code",
   "execution_count": 33,
   "metadata": {
    "execution": {
     "iopub.execute_input": "2024-06-14T20:35:56.373439Z",
     "iopub.status.busy": "2024-06-14T20:35:56.372923Z",
     "iopub.status.idle": "2024-06-14T20:35:56.387757Z",
     "shell.execute_reply": "2024-06-14T20:35:56.386956Z"
    }
   },
   "outputs": [],
   "source": [
    "container = FEBioContainer(feb=\"plane_mesh.feb\",\n",
    "                           xplt=\"plane_mesh.xplt\"\n",
    "                           )"
   ]
  },
  {
   "cell_type": "code",
   "execution_count": 34,
   "metadata": {
    "execution": {
     "iopub.execute_input": "2024-06-14T20:35:56.390948Z",
     "iopub.status.busy": "2024-06-14T20:35:56.390380Z",
     "iopub.status.idle": "2024-06-14T20:35:56.395189Z",
     "shell.execute_reply": "2024-06-14T20:35:56.394510Z"
    }
   },
   "outputs": [
    {
     "data": {
      "text/plain": [
       "Feb25(2.5):\n",
       "-> Module: solid\n",
       "-> Control: 15\n",
       "-> Material: 1\n",
       "-> Globals: 1\n",
       "-> Geometry: 5\n",
       "-> Boundary: 2\n",
       "-> Loads: 2\n",
       "-> Discrete: 0\n",
       "-> LoadData: 1\n",
       "-> Output: 1\n",
       "-> MeshData: 2"
      ]
     },
     "execution_count": 34,
     "metadata": {},
     "output_type": "execute_result"
    }
   ],
   "source": [
    "container.feb"
   ]
  },
  {
   "cell_type": "code",
   "execution_count": 35,
   "metadata": {
    "execution": {
     "iopub.execute_input": "2024-06-14T20:35:56.397999Z",
     "iopub.status.busy": "2024-06-14T20:35:56.397381Z",
     "iopub.status.idle": "2024-06-14T20:35:56.402163Z",
     "shell.execute_reply": "2024-06-14T20:35:56.401593Z"
    }
   },
   "outputs": [
    {
     "data": {
      "text/plain": [
       "Xplt object [140033113144576]:\n",
       "=== xplt_mesh: ===\n",
       "-Nodes:\n",
       "--->None: (231, 3)\n",
       "-Elements:\n",
       "--->None: (400, 4)\n",
       "=== States: ===\n",
       "-Nodes:\n",
       "--->displacement: (11, 231, 3)\n",
       "-Elements:\n",
       "--->Lagrange strain: (11, 400, 6)\n",
       "--->stress: (11, 400, 6)\n",
       "-Surfaces:"
      ]
     },
     "execution_count": 35,
     "metadata": {},
     "output_type": "execute_result"
    }
   ],
   "source": [
    "container.xplt"
   ]
  },
  {
   "cell_type": "code",
   "execution_count": 36,
   "metadata": {
    "execution": {
     "iopub.execute_input": "2024-06-14T20:35:56.404950Z",
     "iopub.status.busy": "2024-06-14T20:35:56.404711Z",
     "iopub.status.idle": "2024-06-14T20:35:56.413845Z",
     "shell.execute_reply": "2024-06-14T20:35:56.413242Z"
    }
   },
   "outputs": [
    {
     "data": {
      "text/plain": [
       "[Nodes(name='plane', coordinates=array([[-1. , -0.5,  0. ],\n",
       "        [-0.9, -0.5,  0. ],\n",
       "        [-0.8, -0.5,  0. ],\n",
       "        [-0.7, -0.5,  0. ],\n",
       "        [-0.6, -0.5,  0. ],\n",
       "        [-0.5, -0.5,  0. ],\n",
       "        [-0.4, -0.5,  0. ],\n",
       "        [-0.3, -0.5,  0. ],\n",
       "        [-0.2, -0.5,  0. ],\n",
       "        [-0.1, -0.5,  0. ],\n",
       "        [ 0. , -0.5,  0. ],\n",
       "        [ 0.1, -0.5,  0. ],\n",
       "        [ 0.2, -0.5,  0. ],\n",
       "        [ 0.3, -0.5,  0. ],\n",
       "        [ 0.4, -0.5,  0. ],\n",
       "        [ 0.5, -0.5,  0. ],\n",
       "        [ 0.6, -0.5,  0. ],\n",
       "        [ 0.7, -0.5,  0. ],\n",
       "        [ 0.8, -0.5,  0. ],\n",
       "        [ 0.9, -0.5,  0. ],\n",
       "        [ 1. , -0.5,  0. ],\n",
       "        [-1. , -0.4,  0. ],\n",
       "        [-0.9, -0.4,  0. ],\n",
       "        [-0.8, -0.4,  0. ],\n",
       "        [-0.7, -0.4,  0. ],\n",
       "        [-0.6, -0.4,  0. ],\n",
       "        [-0.5, -0.4,  0. ],\n",
       "        [-0.4, -0.4,  0. ],\n",
       "        [-0.3, -0.4,  0. ],\n",
       "        [-0.2, -0.4,  0. ],\n",
       "        [-0.1, -0.4,  0. ],\n",
       "        [ 0. , -0.4,  0. ],\n",
       "        [ 0.1, -0.4,  0. ],\n",
       "        [ 0.2, -0.4,  0. ],\n",
       "        [ 0.3, -0.4,  0. ],\n",
       "        [ 0.4, -0.4,  0. ],\n",
       "        [ 0.5, -0.4,  0. ],\n",
       "        [ 0.6, -0.4,  0. ],\n",
       "        [ 0.7, -0.4,  0. ],\n",
       "        [ 0.8, -0.4,  0. ],\n",
       "        [ 0.9, -0.4,  0. ],\n",
       "        [ 1. , -0.4,  0. ],\n",
       "        [-1. , -0.3,  0. ],\n",
       "        [-0.9, -0.3,  0. ],\n",
       "        [-0.8, -0.3,  0. ],\n",
       "        [-0.7, -0.3,  0. ],\n",
       "        [-0.6, -0.3,  0. ],\n",
       "        [-0.5, -0.3,  0. ],\n",
       "        [-0.4, -0.3,  0. ],\n",
       "        [-0.3, -0.3,  0. ],\n",
       "        [-0.2, -0.3,  0. ],\n",
       "        [-0.1, -0.3,  0. ],\n",
       "        [ 0. , -0.3,  0. ],\n",
       "        [ 0.1, -0.3,  0. ],\n",
       "        [ 0.2, -0.3,  0. ],\n",
       "        [ 0.3, -0.3,  0. ],\n",
       "        [ 0.4, -0.3,  0. ],\n",
       "        [ 0.5, -0.3,  0. ],\n",
       "        [ 0.6, -0.3,  0. ],\n",
       "        [ 0.7, -0.3,  0. ],\n",
       "        [ 0.8, -0.3,  0. ],\n",
       "        [ 0.9, -0.3,  0. ],\n",
       "        [ 1. , -0.3,  0. ],\n",
       "        [-1. , -0.2,  0. ],\n",
       "        [-0.9, -0.2,  0. ],\n",
       "        [-0.8, -0.2,  0. ],\n",
       "        [-0.7, -0.2,  0. ],\n",
       "        [-0.6, -0.2,  0. ],\n",
       "        [-0.5, -0.2,  0. ],\n",
       "        [-0.4, -0.2,  0. ],\n",
       "        [-0.3, -0.2,  0. ],\n",
       "        [-0.2, -0.2,  0. ],\n",
       "        [-0.1, -0.2,  0. ],\n",
       "        [ 0. , -0.2,  0. ],\n",
       "        [ 0.1, -0.2,  0. ],\n",
       "        [ 0.2, -0.2,  0. ],\n",
       "        [ 0.3, -0.2,  0. ],\n",
       "        [ 0.4, -0.2,  0. ],\n",
       "        [ 0.5, -0.2,  0. ],\n",
       "        [ 0.6, -0.2,  0. ],\n",
       "        [ 0.7, -0.2,  0. ],\n",
       "        [ 0.8, -0.2,  0. ],\n",
       "        [ 0.9, -0.2,  0. ],\n",
       "        [ 1. , -0.2,  0. ],\n",
       "        [-1. , -0.1,  0. ],\n",
       "        [-0.9, -0.1,  0. ],\n",
       "        [-0.8, -0.1,  0. ],\n",
       "        [-0.7, -0.1,  0. ],\n",
       "        [-0.6, -0.1,  0. ],\n",
       "        [-0.5, -0.1,  0. ],\n",
       "        [-0.4, -0.1,  0. ],\n",
       "        [-0.3, -0.1,  0. ],\n",
       "        [-0.2, -0.1,  0. ],\n",
       "        [-0.1, -0.1,  0. ],\n",
       "        [ 0. , -0.1,  0. ],\n",
       "        [ 0.1, -0.1,  0. ],\n",
       "        [ 0.2, -0.1,  0. ],\n",
       "        [ 0.3, -0.1,  0. ],\n",
       "        [ 0.4, -0.1,  0. ],\n",
       "        [ 0.5, -0.1,  0. ],\n",
       "        [ 0.6, -0.1,  0. ],\n",
       "        [ 0.7, -0.1,  0. ],\n",
       "        [ 0.8, -0.1,  0. ],\n",
       "        [ 0.9, -0.1,  0. ],\n",
       "        [ 1. , -0.1,  0. ],\n",
       "        [-1. ,  0. ,  0. ],\n",
       "        [-0.9,  0. ,  0. ],\n",
       "        [-0.8,  0. ,  0. ],\n",
       "        [-0.7,  0. ,  0. ],\n",
       "        [-0.6,  0. ,  0. ],\n",
       "        [-0.5,  0. ,  0. ],\n",
       "        [-0.4,  0. ,  0. ],\n",
       "        [-0.3,  0. ,  0. ],\n",
       "        [-0.2,  0. ,  0. ],\n",
       "        [-0.1,  0. ,  0. ],\n",
       "        [ 0. ,  0. ,  0. ],\n",
       "        [ 0.1,  0. ,  0. ],\n",
       "        [ 0.2,  0. ,  0. ],\n",
       "        [ 0.3,  0. ,  0. ],\n",
       "        [ 0.4,  0. ,  0. ],\n",
       "        [ 0.5,  0. ,  0. ],\n",
       "        [ 0.6,  0. ,  0. ],\n",
       "        [ 0.7,  0. ,  0. ],\n",
       "        [ 0.8,  0. ,  0. ],\n",
       "        [ 0.9,  0. ,  0. ],\n",
       "        [ 1. ,  0. ,  0. ],\n",
       "        [-1. ,  0.1,  0. ],\n",
       "        [-0.9,  0.1,  0. ],\n",
       "        [-0.8,  0.1,  0. ],\n",
       "        [-0.7,  0.1,  0. ],\n",
       "        [-0.6,  0.1,  0. ],\n",
       "        [-0.5,  0.1,  0. ],\n",
       "        [-0.4,  0.1,  0. ],\n",
       "        [-0.3,  0.1,  0. ],\n",
       "        [-0.2,  0.1,  0. ],\n",
       "        [-0.1,  0.1,  0. ],\n",
       "        [ 0. ,  0.1,  0. ],\n",
       "        [ 0.1,  0.1,  0. ],\n",
       "        [ 0.2,  0.1,  0. ],\n",
       "        [ 0.3,  0.1,  0. ],\n",
       "        [ 0.4,  0.1,  0. ],\n",
       "        [ 0.5,  0.1,  0. ],\n",
       "        [ 0.6,  0.1,  0. ],\n",
       "        [ 0.7,  0.1,  0. ],\n",
       "        [ 0.8,  0.1,  0. ],\n",
       "        [ 0.9,  0.1,  0. ],\n",
       "        [ 1. ,  0.1,  0. ],\n",
       "        [-1. ,  0.2,  0. ],\n",
       "        [-0.9,  0.2,  0. ],\n",
       "        [-0.8,  0.2,  0. ],\n",
       "        [-0.7,  0.2,  0. ],\n",
       "        [-0.6,  0.2,  0. ],\n",
       "        [-0.5,  0.2,  0. ],\n",
       "        [-0.4,  0.2,  0. ],\n",
       "        [-0.3,  0.2,  0. ],\n",
       "        [-0.2,  0.2,  0. ],\n",
       "        [-0.1,  0.2,  0. ],\n",
       "        [ 0. ,  0.2,  0. ],\n",
       "        [ 0.1,  0.2,  0. ],\n",
       "        [ 0.2,  0.2,  0. ],\n",
       "        [ 0.3,  0.2,  0. ],\n",
       "        [ 0.4,  0.2,  0. ],\n",
       "        [ 0.5,  0.2,  0. ],\n",
       "        [ 0.6,  0.2,  0. ],\n",
       "        [ 0.7,  0.2,  0. ],\n",
       "        [ 0.8,  0.2,  0. ],\n",
       "        [ 0.9,  0.2,  0. ],\n",
       "        [ 1. ,  0.2,  0. ],\n",
       "        [-1. ,  0.3,  0. ],\n",
       "        [-0.9,  0.3,  0. ],\n",
       "        [-0.8,  0.3,  0. ],\n",
       "        [-0.7,  0.3,  0. ],\n",
       "        [-0.6,  0.3,  0. ],\n",
       "        [-0.5,  0.3,  0. ],\n",
       "        [-0.4,  0.3,  0. ],\n",
       "        [-0.3,  0.3,  0. ],\n",
       "        [-0.2,  0.3,  0. ],\n",
       "        [-0.1,  0.3,  0. ],\n",
       "        [ 0. ,  0.3,  0. ],\n",
       "        [ 0.1,  0.3,  0. ],\n",
       "        [ 0.2,  0.3,  0. ],\n",
       "        [ 0.3,  0.3,  0. ],\n",
       "        [ 0.4,  0.3,  0. ],\n",
       "        [ 0.5,  0.3,  0. ],\n",
       "        [ 0.6,  0.3,  0. ],\n",
       "        [ 0.7,  0.3,  0. ],\n",
       "        [ 0.8,  0.3,  0. ],\n",
       "        [ 0.9,  0.3,  0. ],\n",
       "        [ 1. ,  0.3,  0. ],\n",
       "        [-1. ,  0.4,  0. ],\n",
       "        [-0.9,  0.4,  0. ],\n",
       "        [-0.8,  0.4,  0. ],\n",
       "        [-0.7,  0.4,  0. ],\n",
       "        [-0.6,  0.4,  0. ],\n",
       "        [-0.5,  0.4,  0. ],\n",
       "        [-0.4,  0.4,  0. ],\n",
       "        [-0.3,  0.4,  0. ],\n",
       "        [-0.2,  0.4,  0. ],\n",
       "        [-0.1,  0.4,  0. ],\n",
       "        [ 0. ,  0.4,  0. ],\n",
       "        [ 0.1,  0.4,  0. ],\n",
       "        [ 0.2,  0.4,  0. ],\n",
       "        [ 0.3,  0.4,  0. ],\n",
       "        [ 0.4,  0.4,  0. ],\n",
       "        [ 0.5,  0.4,  0. ],\n",
       "        [ 0.6,  0.4,  0. ],\n",
       "        [ 0.7,  0.4,  0. ],\n",
       "        [ 0.8,  0.4,  0. ],\n",
       "        [ 0.9,  0.4,  0. ],\n",
       "        [ 1. ,  0.4,  0. ],\n",
       "        [-1. ,  0.5,  0. ],\n",
       "        [-0.9,  0.5,  0. ],\n",
       "        [-0.8,  0.5,  0. ],\n",
       "        [-0.7,  0.5,  0. ],\n",
       "        [-0.6,  0.5,  0. ],\n",
       "        [-0.5,  0.5,  0. ],\n",
       "        [-0.4,  0.5,  0. ],\n",
       "        [-0.3,  0.5,  0. ],\n",
       "        [-0.2,  0.5,  0. ],\n",
       "        [-0.1,  0.5,  0. ],\n",
       "        [ 0. ,  0.5,  0. ],\n",
       "        [ 0.1,  0.5,  0. ],\n",
       "        [ 0.2,  0.5,  0. ],\n",
       "        [ 0.3,  0.5,  0. ],\n",
       "        [ 0.4,  0.5,  0. ],\n",
       "        [ 0.5,  0.5,  0. ],\n",
       "        [ 0.6,  0.5,  0. ],\n",
       "        [ 0.7,  0.5,  0. ],\n",
       "        [ 0.8,  0.5,  0. ],\n",
       "        [ 0.9,  0.5,  0. ],\n",
       "        [ 1. ,  0.5,  0. ]], dtype=float32), ids=array([  0,   1,   2,   3,   4,   5,   6,   7,   8,   9,  10,  11,  12,\n",
       "         13,  14,  15,  16,  17,  18,  19,  20,  21,  22,  23,  24,  25,\n",
       "         26,  27,  28,  29,  30,  31,  32,  33,  34,  35,  36,  37,  38,\n",
       "         39,  40,  41,  42,  43,  44,  45,  46,  47,  48,  49,  50,  51,\n",
       "         52,  53,  54,  55,  56,  57,  58,  59,  60,  61,  62,  63,  64,\n",
       "         65,  66,  67,  68,  69,  70,  71,  72,  73,  74,  75,  76,  77,\n",
       "         78,  79,  80,  81,  82,  83,  84,  85,  86,  87,  88,  89,  90,\n",
       "         91,  92,  93,  94,  95,  96,  97,  98,  99, 100, 101, 102, 103,\n",
       "        104, 105, 106, 107, 108, 109, 110, 111, 112, 113, 114, 115, 116,\n",
       "        117, 118, 119, 120, 121, 122, 123, 124, 125, 126, 127, 128, 129,\n",
       "        130, 131, 132, 133, 134, 135, 136, 137, 138, 139, 140, 141, 142,\n",
       "        143, 144, 145, 146, 147, 148, 149, 150, 151, 152, 153, 154, 155,\n",
       "        156, 157, 158, 159, 160, 161, 162, 163, 164, 165, 166, 167, 168,\n",
       "        169, 170, 171, 172, 173, 174, 175, 176, 177, 178, 179, 180, 181,\n",
       "        182, 183, 184, 185, 186, 187, 188, 189, 190, 191, 192, 193, 194,\n",
       "        195, 196, 197, 198, 199, 200, 201, 202, 203, 204, 205, 206, 207,\n",
       "        208, 209, 210, 211, 212, 213, 214, 215, 216, 217, 218, 219, 220,\n",
       "        221, 222, 223, 224, 225, 226, 227, 228, 229, 230]))]"
      ]
     },
     "execution_count": 36,
     "metadata": {},
     "output_type": "execute_result"
    }
   ],
   "source": [
    "container.nodes"
   ]
  },
  {
   "cell_type": "markdown",
   "metadata": {},
   "source": [
    "## Ploting Feb or Xplt"
   ]
  },
  {
   "cell_type": "code",
   "execution_count": 37,
   "metadata": {
    "execution": {
     "iopub.execute_input": "2024-06-14T20:35:56.416447Z",
     "iopub.status.busy": "2024-06-14T20:35:56.416220Z",
     "iopub.status.idle": "2024-06-14T20:35:56.802572Z",
     "shell.execute_reply": "2024-06-14T20:35:56.801796Z"
    }
   },
   "outputs": [
    {
     "ename": "ModuleNotFoundError",
     "evalue": "No module named 'scipy'",
     "output_type": "error",
     "traceback": [
      "\u001b[0;31m---------------------------------------------------------------------------\u001b[0m",
      "\u001b[0;31mModuleNotFoundError\u001b[0m                       Traceback (most recent call last)",
      "Cell \u001b[0;32mIn[37], line 3\u001b[0m\n\u001b[1;32m      1\u001b[0m \u001b[38;5;28;01mfrom\u001b[39;00m \u001b[38;5;21;01mfebio_python\u001b[39;00m\u001b[38;5;21;01m.\u001b[39;00m\u001b[38;5;21;01mutils\u001b[39;00m\u001b[38;5;21;01m.\u001b[39;00m\u001b[38;5;21;01mpyvista_utils\u001b[39;00m \u001b[38;5;28;01mimport\u001b[39;00m febio_to_pyvista\n\u001b[0;32m----> 3\u001b[0m grids_list \u001b[38;5;241m=\u001b[39m \u001b[43mfebio_to_pyvista\u001b[49m\u001b[43m(\u001b[49m\u001b[43mcontainer\u001b[49m\u001b[43m)\u001b[49m\n\u001b[1;32m      4\u001b[0m \u001b[38;5;28mlen\u001b[39m(grids_list)\n",
      "File \u001b[0;32m~/work/febio-python/febio-python/febio_python/utils/pyvista_utils.py:75\u001b[0m, in \u001b[0;36mfebio_to_pyvista\u001b[0;34m(data, apply_load_curves)\u001b[0m\n\u001b[1;32m     72\u001b[0m grid \u001b[38;5;241m=\u001b[39m add_boundary_conditions(container, grid)\n\u001b[1;32m     74\u001b[0m \u001b[38;5;66;03m# If states data is available, we should create a list of grids for each state\u001b[39;00m\n\u001b[0;32m---> 75\u001b[0m grid_or_list_of_grids \u001b[38;5;241m=\u001b[39m \u001b[43madd_states_to_grid\u001b[49m\u001b[43m(\u001b[49m\u001b[43mcontainer\u001b[49m\u001b[43m,\u001b[49m\u001b[43m \u001b[49m\u001b[43mgrid\u001b[49m\u001b[43m,\u001b[49m\u001b[43m \u001b[49m\u001b[43mapply_load_curves\u001b[49m\u001b[38;5;241;43m=\u001b[39;49m\u001b[43mapply_load_curves\u001b[49m\u001b[43m)\u001b[49m\n\u001b[1;32m     77\u001b[0m \u001b[38;5;28;01mif\u001b[39;00m \u001b[38;5;129;01mnot\u001b[39;00m \u001b[38;5;28misinstance\u001b[39m(grid_or_list_of_grids, \u001b[38;5;28mlist\u001b[39m):\n\u001b[1;32m     78\u001b[0m     \u001b[38;5;28;01mreturn\u001b[39;00m [grid_or_list_of_grids]\n",
      "File \u001b[0;32m~/work/febio-python/febio-python/febio_python/utils/pyvista_utils.py:684\u001b[0m, in \u001b[0;36madd_states_to_grid\u001b[0;34m(container, grid, apply_load_curves)\u001b[0m\n\u001b[1;32m    682\u001b[0m \u001b[38;5;66;03m# Now, we need to interpolate the load curves, based on the timesteps\u001b[39;00m\n\u001b[1;32m    683\u001b[0m \u001b[38;5;28;01mif\u001b[39;00m apply_load_curves:\n\u001b[0;32m--> 684\u001b[0m     interpolators \u001b[38;5;241m=\u001b[39m \u001b[43m_load_curvers_to_interpolators\u001b[49m\u001b[43m(\u001b[49m\u001b[43mcontainer\u001b[49m\u001b[43m)\u001b[49m\n\u001b[1;32m    685\u001b[0m     \u001b[38;5;28;01mfor\u001b[39;00m lc_id, interpolator \u001b[38;5;129;01min\u001b[39;00m interpolators\u001b[38;5;241m.\u001b[39mitems():\n\u001b[1;32m    686\u001b[0m         \u001b[38;5;28;01mfor\u001b[39;00m i, grid \u001b[38;5;129;01min\u001b[39;00m \u001b[38;5;28menumerate\u001b[39m(state_grids):\n",
      "File \u001b[0;32m~/work/febio-python/febio-python/febio_python/utils/pyvista_utils.py:621\u001b[0m, in \u001b[0;36m_load_curvers_to_interpolators\u001b[0;34m(container)\u001b[0m\n\u001b[1;32m    620\u001b[0m \u001b[38;5;28;01mdef\u001b[39;00m \u001b[38;5;21m_load_curvers_to_interpolators\u001b[39m(container: FEBioContainer) \u001b[38;5;241m-\u001b[39m\u001b[38;5;241m>\u001b[39m \u001b[38;5;28mdict\u001b[39m:\n\u001b[0;32m--> 621\u001b[0m     \u001b[38;5;28;01mfrom\u001b[39;00m \u001b[38;5;21;01mscipy\u001b[39;00m \u001b[38;5;28;01mimport\u001b[39;00m interpolate\n\u001b[1;32m    622\u001b[0m     interpolators \u001b[38;5;241m=\u001b[39m \u001b[38;5;28mdict\u001b[39m()\n\u001b[1;32m    623\u001b[0m     loadcurves \u001b[38;5;241m=\u001b[39m container\u001b[38;5;241m.\u001b[39mload_curves\n",
      "\u001b[0;31mModuleNotFoundError\u001b[0m: No module named 'scipy'"
     ]
    }
   ],
   "source": [
    "from febio_python.utils.pyvista_utils import febio_to_pyvista\n",
    "\n",
    "grids_list = febio_to_pyvista(container)\n",
    "len(grids_list)"
   ]
  },
  {
   "cell_type": "code",
   "execution_count": 38,
   "metadata": {
    "execution": {
     "iopub.execute_input": "2024-06-14T20:35:56.805361Z",
     "iopub.status.busy": "2024-06-14T20:35:56.804880Z",
     "iopub.status.idle": "2024-06-14T20:35:56.820048Z",
     "shell.execute_reply": "2024-06-14T20:35:56.819490Z"
    }
   },
   "outputs": [
    {
     "ename": "NameError",
     "evalue": "name 'grids_list' is not defined",
     "output_type": "error",
     "traceback": [
      "\u001b[0;31m---------------------------------------------------------------------------\u001b[0m",
      "\u001b[0;31mNameError\u001b[0m                                 Traceback (most recent call last)",
      "Cell \u001b[0;32mIn[38], line 1\u001b[0m\n\u001b[0;32m----> 1\u001b[0m \u001b[43mgrids_list\u001b[49m[\u001b[38;5;241m-\u001b[39m\u001b[38;5;241m1\u001b[39m]\u001b[38;5;241m.\u001b[39mplot(cpos\u001b[38;5;241m=\u001b[39m\u001b[38;5;124m'\u001b[39m\u001b[38;5;124mxy\u001b[39m\u001b[38;5;124m'\u001b[39m, show_edges\u001b[38;5;241m=\u001b[39m\u001b[38;5;28;01mTrue\u001b[39;00m, scalars\u001b[38;5;241m=\u001b[39m\u001b[38;5;124m\"\u001b[39m\u001b[38;5;124mstress\u001b[39m\u001b[38;5;124m\"\u001b[39m)\n",
      "\u001b[0;31mNameError\u001b[0m: name 'grids_list' is not defined"
     ]
    }
   ],
   "source": [
    "grids_list[-1].plot(cpos='xy', show_edges=True, scalars=\"stress\")"
   ]
  },
  {
   "cell_type": "markdown",
   "metadata": {},
   "source": [
    "You can also quickly convert all cell data to node data:"
   ]
  },
  {
   "cell_type": "code",
   "execution_count": 39,
   "metadata": {
    "execution": {
     "iopub.execute_input": "2024-06-14T20:35:56.822922Z",
     "iopub.status.busy": "2024-06-14T20:35:56.822478Z",
     "iopub.status.idle": "2024-06-14T20:35:56.838450Z",
     "shell.execute_reply": "2024-06-14T20:35:56.837846Z"
    }
   },
   "outputs": [
    {
     "ename": "NameError",
     "evalue": "name 'grids_list' is not defined",
     "output_type": "error",
     "traceback": [
      "\u001b[0;31m---------------------------------------------------------------------------\u001b[0m",
      "\u001b[0;31mNameError\u001b[0m                                 Traceback (most recent call last)",
      "Cell \u001b[0;32mIn[39], line 1\u001b[0m\n\u001b[0;32m----> 1\u001b[0m last_grid_as_nodal_data \u001b[38;5;241m=\u001b[39m \u001b[43mgrids_list\u001b[49m[\u001b[38;5;241m-\u001b[39m\u001b[38;5;241m1\u001b[39m]\u001b[38;5;241m.\u001b[39mcell_data_to_point_data()\n\u001b[1;32m      2\u001b[0m last_grid_as_nodal_data\u001b[38;5;241m.\u001b[39mplot(cpos\u001b[38;5;241m=\u001b[39m\u001b[38;5;124m'\u001b[39m\u001b[38;5;124mxy\u001b[39m\u001b[38;5;124m'\u001b[39m, show_edges\u001b[38;5;241m=\u001b[39m\u001b[38;5;28;01mTrue\u001b[39;00m, scalars\u001b[38;5;241m=\u001b[39m\u001b[38;5;124m\"\u001b[39m\u001b[38;5;124mstress\u001b[39m\u001b[38;5;124m\"\u001b[39m)\n",
      "\u001b[0;31mNameError\u001b[0m: name 'grids_list' is not defined"
     ]
    }
   ],
   "source": [
    "last_grid_as_nodal_data = grids_list[-1].cell_data_to_point_data()\n",
    "last_grid_as_nodal_data.plot(cpos='xy', show_edges=True, scalars=\"stress\")"
   ]
  },
  {
   "cell_type": "code",
   "execution_count": 40,
   "metadata": {
    "execution": {
     "iopub.execute_input": "2024-06-14T20:35:56.840850Z",
     "iopub.status.busy": "2024-06-14T20:35:56.840631Z",
     "iopub.status.idle": "2024-06-14T20:35:56.856267Z",
     "shell.execute_reply": "2024-06-14T20:35:56.855680Z"
    }
   },
   "outputs": [
    {
     "ename": "NameError",
     "evalue": "name 'last_grid_as_nodal_data' is not defined",
     "output_type": "error",
     "traceback": [
      "\u001b[0;31m---------------------------------------------------------------------------\u001b[0m",
      "\u001b[0;31mNameError\u001b[0m                                 Traceback (most recent call last)",
      "Cell \u001b[0;32mIn[40], line 1\u001b[0m\n\u001b[0;32m----> 1\u001b[0m \u001b[43mlast_grid_as_nodal_data\u001b[49m\n",
      "\u001b[0;31mNameError\u001b[0m: name 'last_grid_as_nodal_data' is not defined"
     ]
    }
   ],
   "source": [
    "last_grid_as_nodal_data"
   ]
  },
  {
   "cell_type": "markdown",
   "metadata": {},
   "source": [
    "When using the FEBio container, we have access to both Feb and Xplt data. This means that we can retrieve nodal load, boundary conditions, etc. Here is a cool plot that we can do:"
   ]
  },
  {
   "cell_type": "code",
   "execution_count": 41,
   "metadata": {
    "execution": {
     "iopub.execute_input": "2024-06-14T20:35:56.858853Z",
     "iopub.status.busy": "2024-06-14T20:35:56.858604Z",
     "iopub.status.idle": "2024-06-14T20:35:56.883633Z",
     "shell.execute_reply": "2024-06-14T20:35:56.882851Z"
    }
   },
   "outputs": [
    {
     "ename": "NameError",
     "evalue": "name 'last_grid_as_nodal_data' is not defined",
     "output_type": "error",
     "traceback": [
      "\u001b[0;31m---------------------------------------------------------------------------\u001b[0m",
      "\u001b[0;31mNameError\u001b[0m                                 Traceback (most recent call last)",
      "Cell \u001b[0;32mIn[41], line 2\u001b[0m\n\u001b[1;32m      1\u001b[0m plotter \u001b[38;5;241m=\u001b[39m pv\u001b[38;5;241m.\u001b[39mPlotter()\n\u001b[0;32m----> 2\u001b[0m strain_xx \u001b[38;5;241m=\u001b[39m \u001b[43mlast_grid_as_nodal_data\u001b[49m[\u001b[38;5;124m\"\u001b[39m\u001b[38;5;124mLagrange strain\u001b[39m\u001b[38;5;124m\"\u001b[39m][:, \u001b[38;5;241m0\u001b[39m]\n\u001b[1;32m      3\u001b[0m fixed_nodes \u001b[38;5;241m=\u001b[39m last_grid_as_nodal_data[\u001b[38;5;124m\"\u001b[39m\u001b[38;5;124mfix\u001b[39m\u001b[38;5;124m\"\u001b[39m]\u001b[38;5;241m.\u001b[39msum(\u001b[38;5;241m1\u001b[39m)\n\u001b[1;32m      5\u001b[0m plotter\u001b[38;5;241m.\u001b[39madd_mesh(last_grid_as_nodal_data, \n\u001b[1;32m      6\u001b[0m                  scalars\u001b[38;5;241m=\u001b[39mstrain_xx, \n\u001b[1;32m      7\u001b[0m                  cmap\u001b[38;5;241m=\u001b[39m\u001b[38;5;124m\"\u001b[39m\u001b[38;5;124mcoolwarm\u001b[39m\u001b[38;5;124m\"\u001b[39m, \n\u001b[1;32m      8\u001b[0m                  show_edges\u001b[38;5;241m=\u001b[39m\u001b[38;5;28;01mTrue\u001b[39;00m, \n\u001b[1;32m      9\u001b[0m                  scalar_bar_args\u001b[38;5;241m=\u001b[39m{\u001b[38;5;124m\"\u001b[39m\u001b[38;5;124mtitle\u001b[39m\u001b[38;5;124m\"\u001b[39m: \u001b[38;5;124m\"\u001b[39m\u001b[38;5;124mStrain - XX\u001b[39m\u001b[38;5;124m\"\u001b[39m})\n",
      "\u001b[0;31mNameError\u001b[0m: name 'last_grid_as_nodal_data' is not defined"
     ]
    }
   ],
   "source": [
    "plotter = pv.Plotter()\n",
    "strain_xx = last_grid_as_nodal_data[\"Lagrange strain\"][:, 0]\n",
    "fixed_nodes = last_grid_as_nodal_data[\"fix\"].sum(1)\n",
    "\n",
    "plotter.add_mesh(last_grid_as_nodal_data, \n",
    "                 scalars=strain_xx, \n",
    "                 cmap=\"coolwarm\", \n",
    "                 show_edges=True, \n",
    "                 scalar_bar_args={\"title\": \"Strain - XX\"})\n",
    "plotter.add_mesh(last_grid_as_nodal_data.points, \n",
    "                 scalars=fixed_nodes, \n",
    "                 cmap=\"viridis\",\n",
    "                 style=\"points\", \n",
    "                 point_size=10, \n",
    "                 render_points_as_spheres=True, show_scalar_bar=False)\n",
    "plotter.add_arrows(last_grid_as_nodal_data.points, \n",
    "                   last_grid_as_nodal_data[\"nodal_load\"], \n",
    "                   mag=5e-3, # This controls the mag of the arrows. Not the actual load. There may be a better way to control this.\n",
    "                   show_scalar_bar=False,\n",
    "                   color=\"orange\")\n",
    "plotter.show(cpos=\"xy\")\n"
   ]
  }
 ],
 "metadata": {
  "kernelspec": {
   "display_name": "torch_cuda",
   "language": "python",
   "name": "python3"
  },
  "language_info": {
   "codemirror_mode": {
    "name": "ipython",
    "version": 3
   },
   "file_extension": ".py",
   "mimetype": "text/x-python",
   "name": "python",
   "nbconvert_exporter": "python",
   "pygments_lexer": "ipython3",
   "version": "3.9.18"
  },
  "widgets": {
   "application/vnd.jupyter.widget-state+json": {
    "state": {
     "03431bccf31546c6aba5961ab94c7a06": {
      "model_module": "@jupyter-widgets/base",
      "model_module_version": "2.0.0",
      "model_name": "LayoutModel",
      "state": {
       "_model_module": "@jupyter-widgets/base",
       "_model_module_version": "2.0.0",
       "_model_name": "LayoutModel",
       "_view_count": null,
       "_view_module": "@jupyter-widgets/base",
       "_view_module_version": "2.0.0",
       "_view_name": "LayoutView",
       "align_content": null,
       "align_items": null,
       "align_self": null,
       "border_bottom": null,
       "border_left": null,
       "border_right": null,
       "border_top": null,
       "bottom": null,
       "display": null,
       "flex": null,
       "flex_flow": null,
       "grid_area": null,
       "grid_auto_columns": null,
       "grid_auto_flow": null,
       "grid_auto_rows": null,
       "grid_column": null,
       "grid_gap": null,
       "grid_row": null,
       "grid_template_areas": null,
       "grid_template_columns": null,
       "grid_template_rows": null,
       "height": null,
       "justify_content": null,
       "justify_items": null,
       "left": null,
       "margin": null,
       "max_height": null,
       "max_width": null,
       "min_height": null,
       "min_width": null,
       "object_fit": null,
       "object_position": null,
       "order": null,
       "overflow": null,
       "padding": null,
       "right": null,
       "top": null,
       "visibility": null,
       "width": null
      }
     },
     "0462ac6c06274d338a9891d84ea45640": {
      "model_module": "@jupyter-widgets/controls",
      "model_module_version": "2.0.0",
      "model_name": "HTMLStyleModel",
      "state": {
       "_model_module": "@jupyter-widgets/controls",
       "_model_module_version": "2.0.0",
       "_model_name": "HTMLStyleModel",
       "_view_count": null,
       "_view_module": "@jupyter-widgets/base",
       "_view_module_version": "2.0.0",
       "_view_name": "StyleView",
       "background": null,
       "description_width": "",
       "font_size": null,
       "text_color": null
      }
     },
     "12e512e596fb4a9387246e4742ddc789": {
      "model_module": "@jupyter-widgets/controls",
      "model_module_version": "2.0.0",
      "model_name": "HTMLModel",
      "state": {
       "_dom_classes": [],
       "_model_module": "@jupyter-widgets/controls",
       "_model_module_version": "2.0.0",
       "_model_name": "HTMLModel",
       "_view_count": null,
       "_view_module": "@jupyter-widgets/controls",
       "_view_module_version": "2.0.0",
       "_view_name": "HTMLView",
       "description": "",
       "description_allow_html": false,
       "layout": "IPY_MODEL_c6440419a74f4297acd1ec8352eed2b1",
       "placeholder": "​",
       "style": "IPY_MODEL_0462ac6c06274d338a9891d84ea45640",
       "tabbable": null,
       "tooltip": null,
       "value": "<iframe src=\"http://localhost:36091/index.html?ui=P_0x7f5c1fefddc0_1&reconnect=auto\" class=\"pyvista\" style=\"width: 800px; height: 400px; border: 1px solid rgb(221,221,221);\"></iframe>"
      }
     },
     "61d56726101543de807dc8713567a042": {
      "model_module": "@jupyter-widgets/controls",
      "model_module_version": "2.0.0",
      "model_name": "HTMLStyleModel",
      "state": {
       "_model_module": "@jupyter-widgets/controls",
       "_model_module_version": "2.0.0",
       "_model_name": "HTMLStyleModel",
       "_view_count": null,
       "_view_module": "@jupyter-widgets/base",
       "_view_module_version": "2.0.0",
       "_view_name": "StyleView",
       "background": null,
       "description_width": "",
       "font_size": null,
       "text_color": null
      }
     },
     "8678a022f9dc492e94122b2d9c84c84b": {
      "model_module": "@jupyter-widgets/controls",
      "model_module_version": "2.0.0",
      "model_name": "HTMLModel",
      "state": {
       "_dom_classes": [],
       "_model_module": "@jupyter-widgets/controls",
       "_model_module_version": "2.0.0",
       "_model_name": "HTMLModel",
       "_view_count": null,
       "_view_module": "@jupyter-widgets/controls",
       "_view_module_version": "2.0.0",
       "_view_name": "HTMLView",
       "description": "",
       "description_allow_html": false,
       "layout": "IPY_MODEL_03431bccf31546c6aba5961ab94c7a06",
       "placeholder": "​",
       "style": "IPY_MODEL_ececfcecbd474975a91d53dd3d5b75b4",
       "tabbable": null,
       "tooltip": null,
       "value": "<iframe src=\"http://localhost:36091/index.html?ui=P_0x7f5c38d8fee0_2&reconnect=auto\" class=\"pyvista\" style=\"width: 800px; height: 400px; border: 1px solid rgb(221,221,221);\"></iframe>"
      }
     },
     "ba40ae9d11dd4d64b93ad07b86c5dfcd": {
      "model_module": "@jupyter-widgets/base",
      "model_module_version": "2.0.0",
      "model_name": "LayoutModel",
      "state": {
       "_model_module": "@jupyter-widgets/base",
       "_model_module_version": "2.0.0",
       "_model_name": "LayoutModel",
       "_view_count": null,
       "_view_module": "@jupyter-widgets/base",
       "_view_module_version": "2.0.0",
       "_view_name": "LayoutView",
       "align_content": null,
       "align_items": null,
       "align_self": null,
       "border_bottom": null,
       "border_left": null,
       "border_right": null,
       "border_top": null,
       "bottom": null,
       "display": null,
       "flex": null,
       "flex_flow": null,
       "grid_area": null,
       "grid_auto_columns": null,
       "grid_auto_flow": null,
       "grid_auto_rows": null,
       "grid_column": null,
       "grid_gap": null,
       "grid_row": null,
       "grid_template_areas": null,
       "grid_template_columns": null,
       "grid_template_rows": null,
       "height": null,
       "justify_content": null,
       "justify_items": null,
       "left": null,
       "margin": null,
       "max_height": null,
       "max_width": null,
       "min_height": null,
       "min_width": null,
       "object_fit": null,
       "object_position": null,
       "order": null,
       "overflow": null,
       "padding": null,
       "right": null,
       "top": null,
       "visibility": null,
       "width": null
      }
     },
     "bce030384e6e44a59ca17e82df11c059": {
      "model_module": "@jupyter-widgets/controls",
      "model_module_version": "2.0.0",
      "model_name": "HTMLModel",
      "state": {
       "_dom_classes": [],
       "_model_module": "@jupyter-widgets/controls",
       "_model_module_version": "2.0.0",
       "_model_name": "HTMLModel",
       "_view_count": null,
       "_view_module": "@jupyter-widgets/controls",
       "_view_module_version": "2.0.0",
       "_view_name": "HTMLView",
       "description": "",
       "description_allow_html": false,
       "layout": "IPY_MODEL_ba40ae9d11dd4d64b93ad07b86c5dfcd",
       "placeholder": "​",
       "style": "IPY_MODEL_61d56726101543de807dc8713567a042",
       "tabbable": null,
       "tooltip": null,
       "value": "<iframe src=\"http://localhost:36091/index.html?ui=P_0x7f5c1fefd6a0_0&reconnect=auto\" class=\"pyvista\" style=\"width: 800px; height: 400px; border: 1px solid rgb(221,221,221);\"></iframe>"
      }
     },
     "c6440419a74f4297acd1ec8352eed2b1": {
      "model_module": "@jupyter-widgets/base",
      "model_module_version": "2.0.0",
      "model_name": "LayoutModel",
      "state": {
       "_model_module": "@jupyter-widgets/base",
       "_model_module_version": "2.0.0",
       "_model_name": "LayoutModel",
       "_view_count": null,
       "_view_module": "@jupyter-widgets/base",
       "_view_module_version": "2.0.0",
       "_view_name": "LayoutView",
       "align_content": null,
       "align_items": null,
       "align_self": null,
       "border_bottom": null,
       "border_left": null,
       "border_right": null,
       "border_top": null,
       "bottom": null,
       "display": null,
       "flex": null,
       "flex_flow": null,
       "grid_area": null,
       "grid_auto_columns": null,
       "grid_auto_flow": null,
       "grid_auto_rows": null,
       "grid_column": null,
       "grid_gap": null,
       "grid_row": null,
       "grid_template_areas": null,
       "grid_template_columns": null,
       "grid_template_rows": null,
       "height": null,
       "justify_content": null,
       "justify_items": null,
       "left": null,
       "margin": null,
       "max_height": null,
       "max_width": null,
       "min_height": null,
       "min_width": null,
       "object_fit": null,
       "object_position": null,
       "order": null,
       "overflow": null,
       "padding": null,
       "right": null,
       "top": null,
       "visibility": null,
       "width": null
      }
     },
     "ececfcecbd474975a91d53dd3d5b75b4": {
      "model_module": "@jupyter-widgets/controls",
      "model_module_version": "2.0.0",
      "model_name": "HTMLStyleModel",
      "state": {
       "_model_module": "@jupyter-widgets/controls",
       "_model_module_version": "2.0.0",
       "_model_name": "HTMLStyleModel",
       "_view_count": null,
       "_view_module": "@jupyter-widgets/base",
       "_view_module_version": "2.0.0",
       "_view_name": "StyleView",
       "background": null,
       "description_width": "",
       "font_size": null,
       "text_color": null
      }
     }
    },
    "version_major": 2,
    "version_minor": 0
   }
  }
 },
 "nbformat": 4,
 "nbformat_minor": 2
}
