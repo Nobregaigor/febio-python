{
 "cells": [
  {
   "cell_type": "markdown",
   "metadata": {},
   "source": [
    "# Adding Basic Components (v4.0)"
   ]
  },
  {
   "cell_type": "markdown",
   "metadata": {},
   "source": [
    "## Creating a new Feb object"
   ]
  },
  {
   "cell_type": "markdown",
   "metadata": {},
   "source": [
    "### The basics"
   ]
  },
  {
   "cell_type": "markdown",
   "metadata": {},
   "source": [
    "We can create a new FEB file with basically no information. To do so, we can simply call Feb and provide it a version. Right now, we accept versions 2.5 and 3.0."
   ]
  },
  {
   "cell_type": "code",
   "execution_count": 1,
   "metadata": {},
   "outputs": [
    {
     "data": {
      "text/plain": [
       "Feb40(4.0):\n",
       "-> Module: Unknown\n",
       "-> Control: 0\n",
       "-> Material: 0\n",
       "-> Globals: 0\n",
       "-> Mesh: 0\n",
       "-> MeshDomains: 0\n",
       "-> MeshData: 0\n",
       "-> Boundary: 0\n",
       "-> Loads: 0\n",
       "-> Discrete: 0\n",
       "-> LoadData: 0\n",
       "-> Output: 0"
      ]
     },
     "execution_count": 1,
     "metadata": {},
     "output_type": "execute_result"
    }
   ],
   "source": [
    "from febio_python import Feb\n",
    "from febio_python.feb import Feb40 # for type hinting\n",
    "\n",
    "feb: Feb40 = Feb(version=4.0)\n",
    "feb"
   ]
  },
  {
   "cell_type": "markdown",
   "metadata": {},
   "source": [
    "You will notices that all contents of the feb file are zero. This means that there is nothing stored in the feb right now. Let's start modifying it. We will begin with simple structures, like module, globals and controls:"
   ]
  },
  {
   "cell_type": "code",
   "execution_count": 2,
   "metadata": {},
   "outputs": [
    {
     "name": "stdout",
     "output_type": "stream",
     "text": [
      "qn_method {'attr_type': 'BFGS', 'max_ups': 10, 'max_buffer_size': 0, 'cycle_buffer': 1, 'cmax': 100000}\n"
     ]
    }
   ],
   "source": [
    "feb.setup_module(module_type=\"solid\") # default values\n",
    "feb.setup_globals(T=0, P=0, R=0, Fc=0) # default values\n",
    "feb.setup_controls(analysis=\"STATIC\") # here, you can change basic settings. See docs for more info.\n",
    "feb.setup_output(variables=[\"displacement\", \"Lagrange strain\", \"stress\"]) # default values"
   ]
  },
  {
   "cell_type": "markdown",
   "metadata": {},
   "source": [
    "We can check the FEB object. It now has some data:"
   ]
  },
  {
   "cell_type": "code",
   "execution_count": 3,
   "metadata": {},
   "outputs": [
    {
     "data": {
      "text/plain": [
       "Feb40(4.0):\n",
       "-> Module: solid\n",
       "-> Control: 12\n",
       "-> Material: 0\n",
       "-> Globals: 1\n",
       "-> Mesh: 0\n",
       "-> MeshDomains: 0\n",
       "-> MeshData: 0\n",
       "-> Boundary: 0\n",
       "-> Loads: 0\n",
       "-> Discrete: 0\n",
       "-> Output: 1\n",
       "-> LoadData: 0"
      ]
     },
     "execution_count": 3,
     "metadata": {},
     "output_type": "execute_result"
    }
   ],
   "source": [
    "feb"
   ]
  },
  {
   "cell_type": "markdown",
   "metadata": {},
   "source": [
    "### Adding Mesh"
   ]
  },
  {
   "cell_type": "markdown",
   "metadata": {},
   "source": [
    "We will now add more interestind data to our feb. Let's start by creating a simple mesh with pyvista:"
   ]
  },
  {
   "cell_type": "code",
   "execution_count": 4,
   "metadata": {},
   "outputs": [
    {
     "data": {
      "image/png": "[encoded data removed]",
      "text/plain": [
       "<PIL.Image.Image image mode=RGB size=800x400>"
      ]
     },
     "metadata": {},
     "output_type": "display_data"
    }
   ],
   "source": [
    "import pyvista as pv\n",
    "pv.set_jupyter_backend('static')\n",
    "\n",
    "# Create a simple mesh (plane mesh)\n",
    "mesh = pv.Plane(direction=(0,0,1), i_size=2, j_size=1, i_resolution=6, j_resolution=3)\n",
    "mesh = mesh.cast_to_unstructured_grid() # we will be using unstructured grid for FEBio\n",
    "mesh.plot(show_edges=True, window_size=(800, 400), cpos='xy')"
   ]
  },
  {
   "cell_type": "markdown",
   "metadata": {},
   "source": [
    "In Pyvista, an unstructured grid is defined as \"points\" (nodes) and \"cells\" (elements). We can access them like this: "
   ]
  },
  {
   "cell_type": "code",
   "execution_count": 5,
   "metadata": {},
   "outputs": [
    {
     "data": {
      "text/plain": [
       "pyvista_ndarray([[-1.        , -0.5       ,  0.        ],\n",
       "                 [-0.6666667 , -0.5       ,  0.        ],\n",
       "                 [-0.33333334, -0.5       ,  0.        ],\n",
       "                 [ 0.        , -0.5       ,  0.        ],\n",
       "                 [ 0.33333334, -0.5       ,  0.        ],\n",
       "                 [ 0.6666667 , -0.5       ,  0.        ],\n",
       "                 [ 1.        , -0.5       ,  0.        ],\n",
       "                 [-1.        , -0.16666667,  0.        ],\n",
       "                 [-0.6666667 , -0.16666667,  0.        ],\n",
       "                 [-0.33333334, -0.16666667,  0.        ],\n",
       "                 [ 0.        , -0.16666667,  0.        ],\n",
       "                 [ 0.33333334, -0.16666667,  0.        ],\n",
       "                 [ 0.6666667 , -0.16666667,  0.        ],\n",
       "                 [ 1.        , -0.16666667,  0.        ],\n",
       "                 [-1.        ,  0.16666667,  0.        ],\n",
       "                 [-0.6666667 ,  0.16666667,  0.        ],\n",
       "                 [-0.33333334,  0.16666667,  0.        ],\n",
       "                 [ 0.        ,  0.16666667,  0.        ],\n",
       "                 [ 0.33333334,  0.16666667,  0.        ],\n",
       "                 [ 0.6666667 ,  0.16666667,  0.        ],\n",
       "                 [ 1.        ,  0.16666667,  0.        ],\n",
       "                 [-1.        ,  0.5       ,  0.        ],\n",
       "                 [-0.6666667 ,  0.5       ,  0.        ],\n",
       "                 [-0.33333334,  0.5       ,  0.        ],\n",
       "                 [ 0.        ,  0.5       ,  0.        ],\n",
       "                 [ 0.33333334,  0.5       ,  0.        ],\n",
       "                 [ 0.6666667 ,  0.5       ,  0.        ],\n",
       "                 [ 1.        ,  0.5       ,  0.        ]], dtype=float32)"
      ]
     },
     "execution_count": 5,
     "metadata": {},
     "output_type": "execute_result"
    }
   ],
   "source": [
    "mesh.points"
   ]
  },
  {
   "cell_type": "code",
   "execution_count": 6,
   "metadata": {},
   "outputs": [
    {
     "data": {
      "text/plain": [
       "{9: array([[ 0,  1,  8,  7],\n",
       "        [ 1,  2,  9,  8],\n",
       "        [ 2,  3, 10,  9],\n",
       "        [ 3,  4, 11, 10],\n",
       "        [ 4,  5, 12, 11],\n",
       "        [ 5,  6, 13, 12],\n",
       "        [ 7,  8, 15, 14],\n",
       "        [ 8,  9, 16, 15],\n",
       "        [ 9, 10, 17, 16],\n",
       "        [10, 11, 18, 17],\n",
       "        [11, 12, 19, 18],\n",
       "        [12, 13, 20, 19],\n",
       "        [14, 15, 22, 21],\n",
       "        [15, 16, 23, 22],\n",
       "        [16, 17, 24, 23],\n",
       "        [17, 18, 25, 24],\n",
       "        [18, 19, 26, 25],\n",
       "        [19, 20, 27, 26]], dtype=int64)}"
      ]
     },
     "execution_count": 6,
     "metadata": {},
     "output_type": "execute_result"
    }
   ],
   "source": [
    "mesh.cells_dict"
   ]
  },
  {
   "cell_type": "code",
   "execution_count": 7,
   "metadata": {},
   "outputs": [
    {
     "name": "stdout",
     "output_type": "stream",
     "text": [
      "Number of nodes: 28\n",
      "Number of elements: 18\n"
     ]
    }
   ],
   "source": [
    "print(f\"Number of nodes: {mesh.points.shape[0]}\")\n",
    "print(f\"Number of elements: {mesh.cells_dict[pv.CellType.QUAD].shape[0]}\")"
   ]
  },
  {
   "cell_type": "code",
   "execution_count": 8,
   "metadata": {},
   "outputs": [],
   "source": [
    "from febio_python.core import Nodes, Elements\n",
    "# Create nodes\n",
    "nodes = Nodes(name=\"plane\", coordinates=mesh.points)\n",
    "# Create elements\n",
    "elements = Elements(name=\"plane_elements\",\n",
    "                    mat=\"1\",\n",
    "                    part=\"Part1\",\n",
    "                    type=\"QUAD\",\n",
    "                    connectivity=mesh.cells_dict[pv.CellType.QUAD.value],\n",
    "                    )\n",
    "# Add nodes and elements to the feb object (need to be lists)\n",
    "feb.add_nodes([nodes])\n",
    "feb.add_elements([elements])"
   ]
  },
  {
   "cell_type": "markdown",
   "metadata": {},
   "source": [
    "We can now see that we have two 'Mesh' items:"
   ]
  },
  {
   "cell_type": "code",
   "execution_count": 9,
   "metadata": {},
   "outputs": [
    {
     "data": {
      "text/plain": [
       "Feb40(4.0):\n",
       "-> Module: solid\n",
       "-> Control: 12\n",
       "-> Material: 0\n",
       "-> Globals: 1\n",
       "-> Mesh: 2\n",
       "-> MeshDomains: 0\n",
       "-> MeshData: 0\n",
       "-> Boundary: 0\n",
       "-> Loads: 0\n",
       "-> Discrete: 0\n",
       "-> Output: 1\n",
       "-> LoadData: 0"
      ]
     },
     "execution_count": 9,
     "metadata": {},
     "output_type": "execute_result"
    }
   ],
   "source": [
    "feb"
   ]
  },
  {
   "cell_type": "markdown",
   "metadata": {},
   "source": [
    "We can further inspect them:"
   ]
  },
  {
   "cell_type": "code",
   "execution_count": 10,
   "metadata": {},
   "outputs": [
    {
     "name": "stdout",
     "output_type": "stream",
     "text": [
      "--> Nodes 'plane': 28\n",
      "--> Elements 'plane_elements': 18\n",
      "\n"
     ]
    }
   ],
   "source": [
    "feb.inspect_nodes_and_elements()"
   ]
  },
  {
   "cell_type": "markdown",
   "metadata": {},
   "source": [
    "### Modfying nodes/elements"
   ]
  },
  {
   "cell_type": "markdown",
   "metadata": {},
   "source": [
    "Oh no! We have defined a too coarse mesh! Let's create a fine mesh and update our feb."
   ]
  },
  {
   "cell_type": "code",
   "execution_count": 11,
   "metadata": {},
   "outputs": [
    {
     "data": {
      "image/png": "[encoded data removed]",
      "text/plain": [
       "<PIL.Image.Image image mode=RGB size=800x400>"
      ]
     },
     "metadata": {},
     "output_type": "display_data"
    }
   ],
   "source": [
    "# Create a simple mesh (plane mesh)\n",
    "mesh = pv.Plane(direction=(0,0,1), i_size=2, j_size=1, i_resolution=10, j_resolution=5)\n",
    "mesh = mesh.cast_to_unstructured_grid() # we will be using unstructured grid for FEBio\n",
    "mesh.plot(show_edges=True, window_size=(800, 400), cpos='xy')"
   ]
  },
  {
   "cell_type": "code",
   "execution_count": 12,
   "metadata": {},
   "outputs": [
    {
     "name": "stdout",
     "output_type": "stream",
     "text": [
      "Number of nodes: 66\n",
      "Number of elements: 50\n"
     ]
    }
   ],
   "source": [
    "print(f\"Number of nodes: {mesh.points.shape[0]}\")\n",
    "print(f\"Number of elements: {mesh.cells_dict[pv.CellType.QUAD].shape[0]}\")"
   ]
  },
  {
   "cell_type": "markdown",
   "metadata": {},
   "source": [
    "Note that if we use the function \"ADD\" again, it will add the new nodes to the existing nodes in the same mesh. This is used when we are creating mesh in an iterative process. Let's try:"
   ]
  },
  {
   "cell_type": "code",
   "execution_count": 13,
   "metadata": {},
   "outputs": [
    {
     "name": "stdout",
     "output_type": "stream",
     "text": [
      "--> Nodes 'plane': 94\n",
      "--> Elements 'plane_elements': 68\n",
      "\n"
     ]
    }
   ],
   "source": [
    "# Create nodes\n",
    "nodes = Nodes(name=\"plane\", coordinates=mesh.points)\n",
    "# Create elements\n",
    "elements = Elements(name=\"plane_elements\",\n",
    "                    mat=\"1\",\n",
    "                    part=\"Part1\",\n",
    "                    type=\"QUAD\",\n",
    "                    connectivity=mesh.cells_dict[pv.CellType.QUAD.value],\n",
    "                    )\n",
    "# Add nodes and elements to the feb object (need to be lists)\n",
    "feb.add_nodes([nodes])\n",
    "feb.add_elements([elements])\n",
    "# Inspect nodes and elements\n",
    "feb.inspect_nodes_and_elements()"
   ]
  },
  {
   "cell_type": "markdown",
   "metadata": {},
   "source": [
    "You can see that it had inscrease the number of nodes/elements. But this is not what we are looking for.\n",
    "Let's clean the feb data and add it again:"
   ]
  },
  {
   "cell_type": "code",
   "execution_count": 14,
   "metadata": {},
   "outputs": [
    {
     "data": {
      "text/plain": [
       "Feb40(4.0):\n",
       "-> Module: solid\n",
       "-> Control: 12\n",
       "-> Material: 0\n",
       "-> Globals: 1\n",
       "-> Mesh: 0\n",
       "-> MeshDomains: 0\n",
       "-> MeshData: 0\n",
       "-> Boundary: 0\n",
       "-> Loads: 0\n",
       "-> Discrete: 0\n",
       "-> Output: 1\n",
       "-> LoadData: 0"
      ]
     },
     "execution_count": 14,
     "metadata": {},
     "output_type": "execute_result"
    }
   ],
   "source": [
    "feb.clear_nodes()\n",
    "feb.clear_elements()\n",
    "feb"
   ]
  },
  {
   "cell_type": "code",
   "execution_count": 15,
   "metadata": {},
   "outputs": [
    {
     "name": "stdout",
     "output_type": "stream",
     "text": [
      "--> Nodes 'plane': 66\n",
      "--> Elements 'plane_elements': 50\n",
      "\n"
     ]
    }
   ],
   "source": [
    "feb.add_nodes([nodes])\n",
    "feb.add_elements([elements])\n",
    "feb.inspect_nodes_and_elements()"
   ]
  },
  {
   "cell_type": "markdown",
   "metadata": {},
   "source": [
    "Is there another method? We need triangle elements!! Also, What if we have multiple nodes or elements and we do not want to delete all of them and just update the existing ones? Let's create another mesh and update the 'plane' mesh in the feb file."
   ]
  },
  {
   "cell_type": "code",
   "execution_count": 16,
   "metadata": {},
   "outputs": [
    {
     "data": {
      "image/png": "[encoded data removed]",
      "text/plain": [
       "<PIL.Image.Image image mode=RGB size=800x400>"
      ]
     },
     "metadata": {},
     "output_type": "display_data"
    }
   ],
   "source": [
    "# Create a simple mesh (plane mesh)\n",
    "mesh = pv.Plane(direction=(0,0,1), i_size=2, j_size=1, i_resolution=20, j_resolution=10)\n",
    "mesh = mesh.triangulate() # we will be using unstructured grid for FEBio\n",
    "mesh = mesh.cast_to_unstructured_grid() # we will be using unstructured grid for FEBio\n",
    "mesh.plot(show_edges=True, window_size=(800, 400), cpos='xy')"
   ]
  },
  {
   "cell_type": "code",
   "execution_count": 17,
   "metadata": {},
   "outputs": [
    {
     "name": "stdout",
     "output_type": "stream",
     "text": [
      "Number of nodes: 231\n",
      "Number of elements: 400\n"
     ]
    }
   ],
   "source": [
    "print(f\"Number of nodes: {mesh.points.shape[0]}\")\n",
    "print(f\"Number of elements: {mesh.cells_dict[pv.CellType.TRIANGLE].shape[0]}\")"
   ]
  },
  {
   "cell_type": "code",
   "execution_count": 18,
   "metadata": {},
   "outputs": [
    {
     "name": "stdout",
     "output_type": "stream",
     "text": [
      "--> Nodes 'plane': 231\n",
      "--> Elements 'plane_elements': 400\n",
      "\n"
     ]
    }
   ],
   "source": [
    "# Create nodes\n",
    "nodes = Nodes(name=\"plane\", coordinates=mesh.points)\n",
    "# Create elements\n",
    "elements = Elements(name=\"plane_elements\",\n",
    "                    mat=\"1\",\n",
    "                    part=\"Part1\",\n",
    "                    type=\"TRIANGLE\",\n",
    "                    connectivity=mesh.cells_dict[pv.CellType.TRIANGLE.value],\n",
    "                    )\n",
    "# Add nodes and elements to the feb object (need to be lists)\n",
    "feb.update_nodes([nodes])\n",
    "feb.update_elements([elements])\n",
    "# Inspect nodes and elements\n",
    "feb.inspect_nodes_and_elements()"
   ]
  },
  {
   "cell_type": "markdown",
   "metadata": {},
   "source": [
    "### Adding Mesh Domains"
   ]
  },
  {
   "cell_type": "code",
   "execution_count": 19,
   "metadata": {},
   "outputs": [],
   "source": [
    "from febio_python.core import ShellDomain\n",
    "\n",
    "# create a shell domain\n",
    "shell = ShellDomain(\n",
    "    id=1,\n",
    "    name=\"plane_elements\", # this must match one of the element names\n",
    "    mat=\"plane material\", # this must match one of the material names\n",
    "    type=\"elastic-shell\", # type of shell element\n",
    "    shell_normal_nodal = 1, # normal to the shell\n",
    "    shell_thickness=0.01, # thickness of the shell\n",
    "    )\n",
    "feb.add_mesh_domains([shell])"
   ]
  },
  {
   "cell_type": "markdown",
   "metadata": {},
   "source": [
    "### Adding Load"
   ]
  },
  {
   "cell_type": "markdown",
   "metadata": {},
   "source": [
    "Let's try adding a shear load to the mesh:"
   ]
  },
  {
   "cell_type": "code",
   "execution_count": 20,
   "metadata": {},
   "outputs": [
    {
     "data": {
      "text/plain": [
       "Feb40(4.0):\n",
       "-> Module: solid\n",
       "-> Control: 12\n",
       "-> Material: 0\n",
       "-> Globals: 1\n",
       "-> Mesh: 3\n",
       "-> MeshDomains: 1\n",
       "-> MeshData: 0\n",
       "-> Boundary: 0\n",
       "-> Loads: 1\n",
       "-> Discrete: 0\n",
       "-> Output: 1\n",
       "-> LoadData: 1"
      ]
     },
     "execution_count": 20,
     "metadata": {},
     "output_type": "execute_result"
    }
   ],
   "source": [
    "import numpy as np\n",
    "from febio_python.core import NodalLoad, LoadCurve, NodeSet\n",
    "\n",
    "# First, let's select the nodeset to apply the load.\n",
    "# we will add load to the nodes at the right edge of the mesh\n",
    "x_values = mesh.points[:, 0]\n",
    "selected_nodes = np.where(x_values == x_values.max())[0]\n",
    "\n",
    "# Create a nodeset\n",
    "nodeset = NodeSet(name=\"right_edge\", ids=selected_nodes)\n",
    "# Create a nodal load\n",
    "shear_load = NodalLoad(node_set=\"right_edge\",\n",
    "                       dof=\"y\",\n",
    "                       scale=-25.0, # negative value means force is pointing in the negative direction\n",
    "                       load_curve=1,\n",
    "                       )\n",
    "# Create a load curve\n",
    "load_curve = LoadCurve(id=1, interpolate_type=\"smooth\", data=[(0, 0), (1, 1)])\n",
    "\n",
    "# Add nodeset, nodal load and load curve to the feb object\n",
    "feb.add_node_sets([nodeset])\n",
    "feb.add_nodal_loads([shear_load])\n",
    "feb.add_load_curves([load_curve])\n",
    "feb"
   ]
  },
  {
   "cell_type": "markdown",
   "metadata": {},
   "source": [
    "Let's try to add a non-linear load now. Pointing in the x-direction"
   ]
  },
  {
   "cell_type": "code",
   "execution_count": 21,
   "metadata": {},
   "outputs": [
    {
     "data": {
      "image/png": "[encoded data removed]",
      "text/plain": [
       "<Figure size 640x480 with 1 Axes>"
      ]
     },
     "metadata": {},
     "output_type": "display_data"
    },
    {
     "data": {
      "text/plain": [
       "Feb40(4.0):\n",
       "-> Module: solid\n",
       "-> Control: 12\n",
       "-> Material: 0\n",
       "-> Globals: 1\n",
       "-> Mesh: 3\n",
       "-> MeshDomains: 1\n",
       "-> MeshData: 1\n",
       "-> Boundary: 0\n",
       "-> Loads: 2\n",
       "-> Discrete: 0\n",
       "-> Output: 1\n",
       "-> LoadData: 1"
      ]
     },
     "execution_count": 21,
     "metadata": {},
     "output_type": "execute_result"
    }
   ],
   "source": [
    "# first, get the y position of the nodes\n",
    "y_values = mesh.points[selected_nodes, 1]\n",
    "# then, normalize the y values, so that we can use them as 'maps'\n",
    "y_values = (y_values - y_values.min()) / (y_values.max() - y_values.min())\n",
    "# now, create a normal distribution curve using the y values, centered at\n",
    "# middle of the y values (0.5)\n",
    "tensile_load_map = np.exp(-((y_values - 0.5) ** 2) / 0.1)\n",
    "# plot the load curve\n",
    "import matplotlib.pyplot as plt\n",
    "plt.plot(y_values, tensile_load_map)\n",
    "plt.xlabel(\"Normalized y position\")\n",
    "plt.ylabel(\"Load curve\")\n",
    "plt.title(\"Load curve for the shear load\")\n",
    "plt.show()\n",
    "\n",
    "# Create a nodal load\n",
    "tensile_load = NodalLoad(node_set=\"right_edge\",\n",
    "                         dof=\"x\",\n",
    "                       scale=100.0*tensile_load_map, #\n",
    "                       load_curve=1,\n",
    "                       )\n",
    "feb.add_nodal_loads([tensile_load])\n",
    "feb"
   ]
  },
  {
   "cell_type": "markdown",
   "metadata": {},
   "source": [
    "### Add boundary condition"
   ]
  },
  {
   "cell_type": "markdown",
   "metadata": {},
   "source": [
    "Now, let's fix the left boundary of the mesh. We will be applying fixed condition to restrain the mesh in all coordinates. In addition, since this is a simple plane mesh, we will apply constraint in z (for all nodes) and rotation (shell constrain) for all the left nodes."
   ]
  },
  {
   "cell_type": "code",
   "execution_count": 22,
   "metadata": {},
   "outputs": [],
   "source": [
    "from febio_python.core import ZeroDisplacementCondition, ZeroShellDisplacementCondition\n",
    "\n",
    "# Fix the left edge of the mesh\n",
    "x_values = mesh.points[:, 0]\n",
    "selected_nodes = np.where(x_values == x_values.min())[0]\n",
    "all_nodes = np.arange(mesh.points.shape[0]) # used to fix all nodes in the z direction\n",
    "# Create nodesets\n",
    "left_nodeset = NodeSet(name=\"left_edge\", ids=selected_nodes)\n",
    "all_nodeset = NodeSet(name=\"all_nodes\", ids=all_nodes)\n",
    "# Create a fix condition\n",
    "left_fix_condition = ZeroDisplacementCondition(dof=\"x,y,z\", node_set=\"left_edge\")\n",
    "left_shell_fix_condition = ZeroShellDisplacementCondition(dof=\"sx,sy,sz\", node_set=\"left_edge\")\n",
    "# we will\n",
    "all_fix_condition = ZeroDisplacementCondition(dof=\"z\", node_set=\"all_nodes\")\n",
    "\n",
    "# Add nodeset and fix condition to the feb object\n",
    "feb.add_node_sets([left_nodeset, all_nodeset])\n",
    "feb.add_boundary_conditions([left_fix_condition, left_shell_fix_condition, all_fix_condition])"
   ]
  },
  {
   "cell_type": "markdown",
   "metadata": {},
   "source": [
    "### Adding Material"
   ]
  },
  {
   "cell_type": "markdown",
   "metadata": {},
   "source": [
    "Now, let's add a material. We will use simple Isotropic-Elastic."
   ]
  },
  {
   "cell_type": "code",
   "execution_count": 23,
   "metadata": {},
   "outputs": [],
   "source": [
    "from febio_python.core import Material\n",
    "\n",
    "mat = Material(\n",
    "    id=1,\n",
    "    type=\"isotropic elastic\",\n",
    "    name=\"plane material\",\n",
    "    parameters=dict(\n",
    "        E=1e6,\n",
    "        v=0.3,\n",
    "        density=1,\n",
    "    )\n",
    ")\n",
    "\n",
    "feb.add_materials([mat])"
   ]
  },
  {
   "cell_type": "markdown",
   "metadata": {},
   "source": [
    "### Add Element data"
   ]
  },
  {
   "cell_type": "code",
   "execution_count": 24,
   "metadata": {},
   "outputs": [],
   "source": [
    "from febio_python.core import ElementData\n",
    "\n",
    "shell_thickness = ElementData(\n",
    "    name=\"Element thickness\",\n",
    "    elem_set=\"plane_elements\",\n",
    "    data=np.full((mesh.n_cells, 3), 0.01),\n",
    "    ids=np.arange(0, mesh.n_cells + 1),\n",
    ")\n",
    "feb.add_element_data([shell_thickness])"
   ]
  },
  {
   "cell_type": "markdown",
   "metadata": {},
   "source": [
    "## Running FEB"
   ]
  },
  {
   "cell_type": "markdown",
   "metadata": {},
   "source": [
    "Uncomment and run the code below:"
   ]
  },
  {
   "cell_type": "code",
   "execution_count": 25,
   "metadata": {},
   "outputs": [],
   "source": [
    "# from febio_python.feb import run\n",
    "# # Save the FEB file\n",
    "# feb.write(\"plane_mesh_v40.feb\")\n",
    "# run(\"plane_mesh_v40.feb\")"
   ]
  },
  {
   "cell_type": "markdown",
   "metadata": {},
   "source": [
    "## Reading XPLT"
   ]
  },
  {
   "cell_type": "code",
   "execution_count": 26,
   "metadata": {},
   "outputs": [
    {
     "data": {
      "text/plain": [
       "Xplt object [1977296799008]:\n",
       "=== xplt_mesh: ===\n",
       "-Nodes:\n",
       "--->None: (231, 3)\n",
       "-Elements:\n",
       "--->None: (400, 3)\n",
       "=== States: ===\n",
       "-Nodes:\n",
       "--->displacement: (11, 231, 3)\n",
       "-Elements:\n",
       "--->Lagrange strain: (11, 400, 6)\n",
       "--->stress: (11, 400, 6)\n",
       "-Surfaces:"
      ]
     },
     "execution_count": 26,
     "metadata": {},
     "output_type": "execute_result"
    }
   ],
   "source": [
    "from febio_python import Xplt\n",
    "\n",
    "xplt = Xplt(\"plane_mesh_v40.xplt\")\n",
    "xplt"
   ]
  },
  {
   "cell_type": "markdown",
   "metadata": {},
   "source": [
    "### Example properties"
   ]
  },
  {
   "cell_type": "code",
   "execution_count": 27,
   "metadata": {},
   "outputs": [
    {
     "data": {
      "text/plain": [
       "[Nodes(name=None, coordinates=array([[-1.        , -0.5       ,  0.        ],\n",
       "        [-0.89999998, -0.5       ,  0.        ],\n",
       "        [-0.80000001, -0.5       ,  0.        ],\n",
       "        [-0.69999999, -0.5       ,  0.        ],\n",
       "        [-0.60000002, -0.5       ,  0.        ],\n",
       "        [-0.5       , -0.5       ,  0.        ],\n",
       "        [-0.40000001, -0.5       ,  0.        ],\n",
       "        [-0.30000001, -0.5       ,  0.        ],\n",
       "        [-0.2       , -0.5       ,  0.        ],\n",
       "        [-0.1       , -0.5       ,  0.        ],\n",
       "        [ 0.        , -0.5       ,  0.        ],\n",
       "        [ 0.1       , -0.5       ,  0.        ],\n",
       "        [ 0.2       , -0.5       ,  0.        ],\n",
       "        [ 0.30000001, -0.5       ,  0.        ],\n",
       "        [ 0.40000001, -0.5       ,  0.        ],\n",
       "        [ 0.5       , -0.5       ,  0.        ],\n",
       "        [ 0.60000002, -0.5       ,  0.        ],\n",
       "        [ 0.69999999, -0.5       ,  0.        ],\n",
       "        [ 0.80000001, -0.5       ,  0.        ],\n",
       "        [ 0.89999998, -0.5       ,  0.        ],\n",
       "        [ 1.        , -0.5       ,  0.        ],\n",
       "        [-1.        , -0.40000001,  0.        ],\n",
       "        [-0.89999998, -0.40000001,  0.        ],\n",
       "        [-0.80000001, -0.40000001,  0.        ],\n",
       "        [-0.69999999, -0.40000001,  0.        ],\n",
       "        [-0.60000002, -0.40000001,  0.        ],\n",
       "        [-0.5       , -0.40000001,  0.        ],\n",
       "        [-0.40000001, -0.40000001,  0.        ],\n",
       "        [-0.30000001, -0.40000001,  0.        ],\n",
       "        [-0.2       , -0.40000001,  0.        ],\n",
       "        [-0.1       , -0.40000001,  0.        ],\n",
       "        [ 0.        , -0.40000001,  0.        ],\n",
       "        [ 0.1       , -0.40000001,  0.        ],\n",
       "        [ 0.2       , -0.40000001,  0.        ],\n",
       "        [ 0.30000001, -0.40000001,  0.        ],\n",
       "        [ 0.40000001, -0.40000001,  0.        ],\n",
       "        [ 0.5       , -0.40000001,  0.        ],\n",
       "        [ 0.60000002, -0.40000001,  0.        ],\n",
       "        [ 0.69999999, -0.40000001,  0.        ],\n",
       "        [ 0.80000001, -0.40000001,  0.        ],\n",
       "        [ 0.89999998, -0.40000001,  0.        ],\n",
       "        [ 1.        , -0.40000001,  0.        ],\n",
       "        [-1.        , -0.30000001,  0.        ],\n",
       "        [-0.89999998, -0.30000001,  0.        ],\n",
       "        [-0.80000001, -0.30000001,  0.        ],\n",
       "        [-0.69999999, -0.30000001,  0.        ],\n",
       "        [-0.60000002, -0.30000001,  0.        ],\n",
       "        [-0.5       , -0.30000001,  0.        ],\n",
       "        [-0.40000001, -0.30000001,  0.        ],\n",
       "        [-0.30000001, -0.30000001,  0.        ],\n",
       "        [-0.2       , -0.30000001,  0.        ],\n",
       "        [-0.1       , -0.30000001,  0.        ],\n",
       "        [ 0.        , -0.30000001,  0.        ],\n",
       "        [ 0.1       , -0.30000001,  0.        ],\n",
       "        [ 0.2       , -0.30000001,  0.        ],\n",
       "        [ 0.30000001, -0.30000001,  0.        ],\n",
       "        [ 0.40000001, -0.30000001,  0.        ],\n",
       "        [ 0.5       , -0.30000001,  0.        ],\n",
       "        [ 0.60000002, -0.30000001,  0.        ],\n",
       "        [ 0.69999999, -0.30000001,  0.        ],\n",
       "        [ 0.80000001, -0.30000001,  0.        ],\n",
       "        [ 0.89999998, -0.30000001,  0.        ],\n",
       "        [ 1.        , -0.30000001,  0.        ],\n",
       "        [-1.        , -0.2       ,  0.        ],\n",
       "        [-0.89999998, -0.2       ,  0.        ],\n",
       "        [-0.80000001, -0.2       ,  0.        ],\n",
       "        [-0.69999999, -0.2       ,  0.        ],\n",
       "        [-0.60000002, -0.2       ,  0.        ],\n",
       "        [-0.5       , -0.2       ,  0.        ],\n",
       "        [-0.40000001, -0.2       ,  0.        ],\n",
       "        [-0.30000001, -0.2       ,  0.        ],\n",
       "        [-0.2       , -0.2       ,  0.        ],\n",
       "        [-0.1       , -0.2       ,  0.        ],\n",
       "        [ 0.        , -0.2       ,  0.        ],\n",
       "        [ 0.1       , -0.2       ,  0.        ],\n",
       "        [ 0.2       , -0.2       ,  0.        ],\n",
       "        [ 0.30000001, -0.2       ,  0.        ],\n",
       "        [ 0.40000001, -0.2       ,  0.        ],\n",
       "        [ 0.5       , -0.2       ,  0.        ],\n",
       "        [ 0.60000002, -0.2       ,  0.        ],\n",
       "        [ 0.69999999, -0.2       ,  0.        ],\n",
       "        [ 0.80000001, -0.2       ,  0.        ],\n",
       "        [ 0.89999998, -0.2       ,  0.        ],\n",
       "        [ 1.        , -0.2       ,  0.        ],\n",
       "        [-1.        , -0.1       ,  0.        ],\n",
       "        [-0.89999998, -0.1       ,  0.        ],\n",
       "        [-0.80000001, -0.1       ,  0.        ],\n",
       "        [-0.69999999, -0.1       ,  0.        ],\n",
       "        [-0.60000002, -0.1       ,  0.        ],\n",
       "        [-0.5       , -0.1       ,  0.        ],\n",
       "        [-0.40000001, -0.1       ,  0.        ],\n",
       "        [-0.30000001, -0.1       ,  0.        ],\n",
       "        [-0.2       , -0.1       ,  0.        ],\n",
       "        [-0.1       , -0.1       ,  0.        ],\n",
       "        [ 0.        , -0.1       ,  0.        ],\n",
       "        [ 0.1       , -0.1       ,  0.        ],\n",
       "        [ 0.2       , -0.1       ,  0.        ],\n",
       "        [ 0.30000001, -0.1       ,  0.        ],\n",
       "        [ 0.40000001, -0.1       ,  0.        ],\n",
       "        [ 0.5       , -0.1       ,  0.        ],\n",
       "        [ 0.60000002, -0.1       ,  0.        ],\n",
       "        [ 0.69999999, -0.1       ,  0.        ],\n",
       "        [ 0.80000001, -0.1       ,  0.        ],\n",
       "        [ 0.89999998, -0.1       ,  0.        ],\n",
       "        [ 1.        , -0.1       ,  0.        ],\n",
       "        [-1.        ,  0.        ,  0.        ],\n",
       "        [-0.89999998,  0.        ,  0.        ],\n",
       "        [-0.80000001,  0.        ,  0.        ],\n",
       "        [-0.69999999,  0.        ,  0.        ],\n",
       "        [-0.60000002,  0.        ,  0.        ],\n",
       "        [-0.5       ,  0.        ,  0.        ],\n",
       "        [-0.40000001,  0.        ,  0.        ],\n",
       "        [-0.30000001,  0.        ,  0.        ],\n",
       "        [-0.2       ,  0.        ,  0.        ],\n",
       "        [-0.1       ,  0.        ,  0.        ],\n",
       "        [ 0.        ,  0.        ,  0.        ],\n",
       "        [ 0.1       ,  0.        ,  0.        ],\n",
       "        [ 0.2       ,  0.        ,  0.        ],\n",
       "        [ 0.30000001,  0.        ,  0.        ],\n",
       "        [ 0.40000001,  0.        ,  0.        ],\n",
       "        [ 0.5       ,  0.        ,  0.        ],\n",
       "        [ 0.60000002,  0.        ,  0.        ],\n",
       "        [ 0.69999999,  0.        ,  0.        ],\n",
       "        [ 0.80000001,  0.        ,  0.        ],\n",
       "        [ 0.89999998,  0.        ,  0.        ],\n",
       "        [ 1.        ,  0.        ,  0.        ],\n",
       "        [-1.        ,  0.1       ,  0.        ],\n",
       "        [-0.89999998,  0.1       ,  0.        ],\n",
       "        [-0.80000001,  0.1       ,  0.        ],\n",
       "        [-0.69999999,  0.1       ,  0.        ],\n",
       "        [-0.60000002,  0.1       ,  0.        ],\n",
       "        [-0.5       ,  0.1       ,  0.        ],\n",
       "        [-0.40000001,  0.1       ,  0.        ],\n",
       "        [-0.30000001,  0.1       ,  0.        ],\n",
       "        [-0.2       ,  0.1       ,  0.        ],\n",
       "        [-0.1       ,  0.1       ,  0.        ],\n",
       "        [ 0.        ,  0.1       ,  0.        ],\n",
       "        [ 0.1       ,  0.1       ,  0.        ],\n",
       "        [ 0.2       ,  0.1       ,  0.        ],\n",
       "        [ 0.30000001,  0.1       ,  0.        ],\n",
       "        [ 0.40000001,  0.1       ,  0.        ],\n",
       "        [ 0.5       ,  0.1       ,  0.        ],\n",
       "        [ 0.60000002,  0.1       ,  0.        ],\n",
       "        [ 0.69999999,  0.1       ,  0.        ],\n",
       "        [ 0.80000001,  0.1       ,  0.        ],\n",
       "        [ 0.89999998,  0.1       ,  0.        ],\n",
       "        [ 1.        ,  0.1       ,  0.        ],\n",
       "        [-1.        ,  0.2       ,  0.        ],\n",
       "        [-0.89999998,  0.2       ,  0.        ],\n",
       "        [-0.80000001,  0.2       ,  0.        ],\n",
       "        [-0.69999999,  0.2       ,  0.        ],\n",
       "        [-0.60000002,  0.2       ,  0.        ],\n",
       "        [-0.5       ,  0.2       ,  0.        ],\n",
       "        [-0.40000001,  0.2       ,  0.        ],\n",
       "        [-0.30000001,  0.2       ,  0.        ],\n",
       "        [-0.2       ,  0.2       ,  0.        ],\n",
       "        [-0.1       ,  0.2       ,  0.        ],\n",
       "        [ 0.        ,  0.2       ,  0.        ],\n",
       "        [ 0.1       ,  0.2       ,  0.        ],\n",
       "        [ 0.2       ,  0.2       ,  0.        ],\n",
       "        [ 0.30000001,  0.2       ,  0.        ],\n",
       "        [ 0.40000001,  0.2       ,  0.        ],\n",
       "        [ 0.5       ,  0.2       ,  0.        ],\n",
       "        [ 0.60000002,  0.2       ,  0.        ],\n",
       "        [ 0.69999999,  0.2       ,  0.        ],\n",
       "        [ 0.80000001,  0.2       ,  0.        ],\n",
       "        [ 0.89999998,  0.2       ,  0.        ],\n",
       "        [ 1.        ,  0.2       ,  0.        ],\n",
       "        [-1.        ,  0.30000001,  0.        ],\n",
       "        [-0.89999998,  0.30000001,  0.        ],\n",
       "        [-0.80000001,  0.30000001,  0.        ],\n",
       "        [-0.69999999,  0.30000001,  0.        ],\n",
       "        [-0.60000002,  0.30000001,  0.        ],\n",
       "        [-0.5       ,  0.30000001,  0.        ],\n",
       "        [-0.40000001,  0.30000001,  0.        ],\n",
       "        [-0.30000001,  0.30000001,  0.        ],\n",
       "        [-0.2       ,  0.30000001,  0.        ],\n",
       "        [-0.1       ,  0.30000001,  0.        ],\n",
       "        [ 0.        ,  0.30000001,  0.        ],\n",
       "        [ 0.1       ,  0.30000001,  0.        ],\n",
       "        [ 0.2       ,  0.30000001,  0.        ],\n",
       "        [ 0.30000001,  0.30000001,  0.        ],\n",
       "        [ 0.40000001,  0.30000001,  0.        ],\n",
       "        [ 0.5       ,  0.30000001,  0.        ],\n",
       "        [ 0.60000002,  0.30000001,  0.        ],\n",
       "        [ 0.69999999,  0.30000001,  0.        ],\n",
       "        [ 0.80000001,  0.30000001,  0.        ],\n",
       "        [ 0.89999998,  0.30000001,  0.        ],\n",
       "        [ 1.        ,  0.30000001,  0.        ],\n",
       "        [-1.        ,  0.40000001,  0.        ],\n",
       "        [-0.89999998,  0.40000001,  0.        ],\n",
       "        [-0.80000001,  0.40000001,  0.        ],\n",
       "        [-0.69999999,  0.40000001,  0.        ],\n",
       "        [-0.60000002,  0.40000001,  0.        ],\n",
       "        [-0.5       ,  0.40000001,  0.        ],\n",
       "        [-0.40000001,  0.40000001,  0.        ],\n",
       "        [-0.30000001,  0.40000001,  0.        ],\n",
       "        [-0.2       ,  0.40000001,  0.        ],\n",
       "        [-0.1       ,  0.40000001,  0.        ],\n",
       "        [ 0.        ,  0.40000001,  0.        ],\n",
       "        [ 0.1       ,  0.40000001,  0.        ],\n",
       "        [ 0.2       ,  0.40000001,  0.        ],\n",
       "        [ 0.30000001,  0.40000001,  0.        ],\n",
       "        [ 0.40000001,  0.40000001,  0.        ],\n",
       "        [ 0.5       ,  0.40000001,  0.        ],\n",
       "        [ 0.60000002,  0.40000001,  0.        ],\n",
       "        [ 0.69999999,  0.40000001,  0.        ],\n",
       "        [ 0.80000001,  0.40000001,  0.        ],\n",
       "        [ 0.89999998,  0.40000001,  0.        ],\n",
       "        [ 1.        ,  0.40000001,  0.        ],\n",
       "        [-1.        ,  0.5       ,  0.        ],\n",
       "        [-0.89999998,  0.5       ,  0.        ],\n",
       "        [-0.80000001,  0.5       ,  0.        ],\n",
       "        [-0.69999999,  0.5       ,  0.        ],\n",
       "        [-0.60000002,  0.5       ,  0.        ],\n",
       "        [-0.5       ,  0.5       ,  0.        ],\n",
       "        [-0.40000001,  0.5       ,  0.        ],\n",
       "        [-0.30000001,  0.5       ,  0.        ],\n",
       "        [-0.2       ,  0.5       ,  0.        ],\n",
       "        [-0.1       ,  0.5       ,  0.        ],\n",
       "        [ 0.        ,  0.5       ,  0.        ],\n",
       "        [ 0.1       ,  0.5       ,  0.        ],\n",
       "        [ 0.2       ,  0.5       ,  0.        ],\n",
       "        [ 0.30000001,  0.5       ,  0.        ],\n",
       "        [ 0.40000001,  0.5       ,  0.        ],\n",
       "        [ 0.5       ,  0.5       ,  0.        ],\n",
       "        [ 0.60000002,  0.5       ,  0.        ],\n",
       "        [ 0.69999999,  0.5       ,  0.        ],\n",
       "        [ 0.80000001,  0.5       ,  0.        ],\n",
       "        [ 0.89999998,  0.5       ,  0.        ],\n",
       "        [ 1.        ,  0.5       ,  0.        ]]), ids=array([  1,   2,   3,   4,   5,   6,   7,   8,   9,  10,  11,  12,  13,\n",
       "         14,  15,  16,  17,  18,  19,  20,  21,  22,  23,  24,  25,  26,\n",
       "         27,  28,  29,  30,  31,  32,  33,  34,  35,  36,  37,  38,  39,\n",
       "         40,  41,  42,  43,  44,  45,  46,  47,  48,  49,  50,  51,  52,\n",
       "         53,  54,  55,  56,  57,  58,  59,  60,  61,  62,  63,  64,  65,\n",
       "         66,  67,  68,  69,  70,  71,  72,  73,  74,  75,  76,  77,  78,\n",
       "         79,  80,  81,  82,  83,  84,  85,  86,  87,  88,  89,  90,  91,\n",
       "         92,  93,  94,  95,  96,  97,  98,  99, 100, 101, 102, 103, 104,\n",
       "        105, 106, 107, 108, 109, 110, 111, 112, 113, 114, 115, 116, 117,\n",
       "        118, 119, 120, 121, 122, 123, 124, 125, 126, 127, 128, 129, 130,\n",
       "        131, 132, 133, 134, 135, 136, 137, 138, 139, 140, 141, 142, 143,\n",
       "        144, 145, 146, 147, 148, 149, 150, 151, 152, 153, 154, 155, 156,\n",
       "        157, 158, 159, 160, 161, 162, 163, 164, 165, 166, 167, 168, 169,\n",
       "        170, 171, 172, 173, 174, 175, 176, 177, 178, 179, 180, 181, 182,\n",
       "        183, 184, 185, 186, 187, 188, 189, 190, 191, 192, 193, 194, 195,\n",
       "        196, 197, 198, 199, 200, 201, 202, 203, 204, 205, 206, 207, 208,\n",
       "        209, 210, 211, 212, 213, 214, 215, 216, 217, 218, 219, 220, 221,\n",
       "        222, 223, 224, 225, 226, 227, 228, 229, 230, 231]))]"
      ]
     },
     "execution_count": 27,
     "metadata": {},
     "output_type": "execute_result"
    }
   ],
   "source": [
    "xplt.nodes # list of Nodes objects"
   ]
  },
  {
   "cell_type": "code",
   "execution_count": 28,
   "metadata": {},
   "outputs": [
    {
     "data": {
      "text/plain": [
       "[Elements(name=None, type='TRIANGLE', connectivity=array([[  0,   1,  21],\n",
       "        [ 22,  21,   1],\n",
       "        [  1,   2,  22],\n",
       "        ...,\n",
       "        [229, 228, 208],\n",
       "        [208, 209, 229],\n",
       "        [230, 229, 209]]), ids=array([  1,   2,   3,   4,   5,   6,   7,   8,   9,  10,  11,  12,  13,\n",
       "         14,  15,  16,  17,  18,  19,  20,  21,  22,  23,  24,  25,  26,\n",
       "         27,  28,  29,  30,  31,  32,  33,  34,  35,  36,  37,  38,  39,\n",
       "         40,  41,  42,  43,  44,  45,  46,  47,  48,  49,  50,  51,  52,\n",
       "         53,  54,  55,  56,  57,  58,  59,  60,  61,  62,  63,  64,  65,\n",
       "         66,  67,  68,  69,  70,  71,  72,  73,  74,  75,  76,  77,  78,\n",
       "         79,  80,  81,  82,  83,  84,  85,  86,  87,  88,  89,  90,  91,\n",
       "         92,  93,  94,  95,  96,  97,  98,  99, 100, 101, 102, 103, 104,\n",
       "        105, 106, 107, 108, 109, 110, 111, 112, 113, 114, 115, 116, 117,\n",
       "        118, 119, 120, 121, 122, 123, 124, 125, 126, 127, 128, 129, 130,\n",
       "        131, 132, 133, 134, 135, 136, 137, 138, 139, 140, 141, 142, 143,\n",
       "        144, 145, 146, 147, 148, 149, 150, 151, 152, 153, 154, 155, 156,\n",
       "        157, 158, 159, 160, 161, 162, 163, 164, 165, 166, 167, 168, 169,\n",
       "        170, 171, 172, 173, 174, 175, 176, 177, 178, 179, 180, 181, 182,\n",
       "        183, 184, 185, 186, 187, 188, 189, 190, 191, 192, 193, 194, 195,\n",
       "        196, 197, 198, 199, 200, 201, 202, 203, 204, 205, 206, 207, 208,\n",
       "        209, 210, 211, 212, 213, 214, 215, 216, 217, 218, 219, 220, 221,\n",
       "        222, 223, 224, 225, 226, 227, 228, 229, 230, 231, 232, 233, 234,\n",
       "        235, 236, 237, 238, 239, 240, 241, 242, 243, 244, 245, 246, 247,\n",
       "        248, 249, 250, 251, 252, 253, 254, 255, 256, 257, 258, 259, 260,\n",
       "        261, 262, 263, 264, 265, 266, 267, 268, 269, 270, 271, 272, 273,\n",
       "        274, 275, 276, 277, 278, 279, 280, 281, 282, 283, 284, 285, 286,\n",
       "        287, 288, 289, 290, 291, 292, 293, 294, 295, 296, 297, 298, 299,\n",
       "        300, 301, 302, 303, 304, 305, 306, 307, 308, 309, 310, 311, 312,\n",
       "        313, 314, 315, 316, 317, 318, 319, 320, 321, 322, 323, 324, 325,\n",
       "        326, 327, 328, 329, 330, 331, 332, 333, 334, 335, 336, 337, 338,\n",
       "        339, 340, 341, 342, 343, 344, 345, 346, 347, 348, 349, 350, 351,\n",
       "        352, 353, 354, 355, 356, 357, 358, 359, 360, 361, 362, 363, 364,\n",
       "        365, 366, 367, 368, 369, 370, 371, 372, 373, 374, 375, 376, 377,\n",
       "        378, 379, 380, 381, 382, 383, 384, 385, 386, 387, 388, 389, 390,\n",
       "        391, 392, 393, 394, 395, 396, 397, 398, 399, 400]), mat=None, part=1)]"
      ]
     },
     "execution_count": 28,
     "metadata": {},
     "output_type": "execute_result"
    }
   ],
   "source": [
    "xplt.elements # list of Elements objects"
   ]
  },
  {
   "cell_type": "code",
   "execution_count": 29,
   "metadata": {},
   "outputs": [
    {
     "data": {
      "text/plain": [
       "States(nodes=[StateData(name='displacement', dom=-1, data=array([[[ 0.        ,  0.        ,  0.        ],\n",
       "        [ 0.        ,  0.        ,  0.        ],\n",
       "        [ 0.        ,  0.        ,  0.        ],\n",
       "        ...,\n",
       "        [ 0.        ,  0.        ,  0.        ],\n",
       "        [ 0.        ,  0.        ,  0.        ],\n",
       "        [ 0.        ,  0.        ,  0.        ]],\n",
       "\n",
       "       [[ 0.        ,  0.        ,  0.        ],\n",
       "        [-0.00220876, -0.00138848,  0.        ],\n",
       "        [-0.0044777 , -0.00291381,  0.        ],\n",
       "        ...,\n",
       "        [ 0.03501934, -0.07832458,  0.        ],\n",
       "        [ 0.03535859, -0.08439115,  0.        ],\n",
       "        [ 0.03562101, -0.09075736,  0.        ]],\n",
       "\n",
       "       [[ 0.        ,  0.        ,  0.        ],\n",
       "        [-0.0040143 , -0.00251072,  0.        ],\n",
       "        [-0.00812449, -0.00527578,  0.        ],\n",
       "        ...,\n",
       "        [ 0.06155637, -0.14323959,  0.        ],\n",
       "        [ 0.06199993, -0.15412821,  0.        ],\n",
       "        [ 0.06229447, -0.16563064,  0.        ]],\n",
       "\n",
       "       ...,\n",
       "\n",
       "       [[ 0.        ,  0.        ,  0.        ],\n",
       "        [-0.0102166 , -0.00648645,  0.        ],\n",
       "        [-0.02036276, -0.01388767,  0.        ],\n",
       "        ...,\n",
       "        [ 0.14947748, -0.3811367 ,  0.        ],\n",
       "        [ 0.14983469, -0.40797347,  0.        ],\n",
       "        [ 0.14956348, -0.4375061 ,  0.        ]],\n",
       "\n",
       "       [[ 0.        ,  0.        ,  0.        ],\n",
       "        [-0.01080656, -0.00690494,  0.        ],\n",
       "        [-0.02147301, -0.01484216,  0.        ],\n",
       "        ...,\n",
       "        [ 0.15917969, -0.40684003,  0.        ],\n",
       "        [ 0.15957509, -0.43523568,  0.        ],\n",
       "        [ 0.15924646, -0.46669516,  0.        ]],\n",
       "\n",
       "       [[ 0.        ,  0.        ,  0.        ],\n",
       "        [-0.01131956, -0.00728358,  0.        ],\n",
       "        [-0.02242204, -0.01571946,  0.        ],\n",
       "        ...,\n",
       "        [ 0.16826567, -0.4302698 ,  0.        ],\n",
       "        [ 0.16872025, -0.46006113,  0.        ],\n",
       "        [ 0.16835007, -0.49328837,  0.        ]]], dtype=float32))], elements=[StateData(name='Lagrange strain', dom=0, data=array([[[ 0.00000000e+00,  0.00000000e+00,  0.00000000e+00,\n",
       "          0.00000000e+00,  0.00000000e+00,  0.00000000e+00],\n",
       "        [ 0.00000000e+00,  0.00000000e+00,  0.00000000e+00,\n",
       "          0.00000000e+00,  0.00000000e+00,  0.00000000e+00],\n",
       "        [ 0.00000000e+00,  0.00000000e+00,  0.00000000e+00,\n",
       "          0.00000000e+00,  0.00000000e+00,  0.00000000e+00],\n",
       "        ...,\n",
       "        [ 0.00000000e+00,  0.00000000e+00,  0.00000000e+00,\n",
       "          0.00000000e+00,  0.00000000e+00,  0.00000000e+00],\n",
       "        [ 0.00000000e+00,  0.00000000e+00,  0.00000000e+00,\n",
       "          0.00000000e+00,  0.00000000e+00,  0.00000000e+00],\n",
       "        [ 0.00000000e+00,  0.00000000e+00,  0.00000000e+00,\n",
       "          0.00000000e+00,  0.00000000e+00,  0.00000000e+00]],\n",
       "\n",
       "       [[-2.17677094e-02,  0.00000000e+00,  3.74327949e-03,\n",
       "         -6.93582371e-03, -4.37995950e-05, -2.12121537e-04],\n",
       "        [-1.44304177e-02,  4.09667706e-03,  5.80157526e-03,\n",
       "         -1.21883943e-03,  5.60197332e-05, -6.63803366e-05],\n",
       "        [-2.22795270e-02,  4.09667706e-03,  7.83721078e-03,\n",
       "         -3.98436794e-03,  3.43527390e-05,  1.65543141e-04],\n",
       "        ...,\n",
       "        [ 5.26422681e-03, -1.79072132e-03, -1.32321590e-03,\n",
       "         -1.09698484e-03,  1.35720460e-04, -9.22642721e-05],\n",
       "        [ 3.76291759e-03, -1.79072132e-03, -6.20350009e-04,\n",
       "         -1.20366516e-03,  3.88481822e-05,  1.51849181e-05],\n",
       "        [ 4.56744991e-03, -4.31843102e-03, -2.29693338e-04,\n",
       "         -2.06525391e-03, -6.21005311e-04,  2.85787100e-04]],\n",
       "\n",
       "       [[-3.90582196e-02,  0.00000000e+00,  6.69534458e-03,\n",
       "         -1.25417085e-02, -7.91431958e-05, -3.80462821e-04],\n",
       "        [-2.57335734e-02,  7.29539804e-03,  1.03692589e-02,\n",
       "         -2.23168731e-03,  1.01221529e-04, -1.18771379e-04],\n",
       "        [-3.98102477e-02,  7.29539804e-03,  1.40054580e-02,\n",
       "         -7.24549964e-03,  6.26781766e-05,  2.96983548e-04],\n",
       "        ...,\n",
       "        [ 1.04291877e-02, -3.59612866e-03, -2.62246048e-03,\n",
       "         -1.94583589e-03,  2.62564688e-04, -1.94546839e-04],\n",
       "        [ 7.59910978e-03, -3.59612866e-03, -1.25865580e-03,\n",
       "         -2.20169220e-03,  7.99803020e-05,  2.65620838e-05],\n",
       "        [ 9.37132537e-03, -8.74294899e-03, -5.08905330e-04,\n",
       "         -3.88899446e-03, -1.21698214e-03,  6.25088112e-04]],\n",
       "\n",
       "       ...,\n",
       "\n",
       "       [[-9.49234068e-02,  0.00000000e+00,  1.60137974e-02,\n",
       "         -3.24016511e-02, -2.04027048e-04, -9.26311302e-04],\n",
       "        [-5.90482466e-02,  1.65700149e-02,  2.44058762e-02,\n",
       "         -6.17906218e-03,  2.60786124e-04, -2.74899823e-04],\n",
       "        [-9.34232473e-02,  1.65700149e-02,  3.28529291e-02,\n",
       "         -1.95991900e-02,  1.65617355e-04,  7.16031471e-04],\n",
       "        ...,\n",
       "        [ 3.98563445e-02, -1.43719194e-02, -9.90771782e-03,\n",
       "         -4.43919096e-03,  9.21695610e-04, -8.83027446e-04],\n",
       "        [ 3.06086857e-02, -1.43719194e-02, -5.02582826e-03,\n",
       "         -6.17014943e-03,  3.49059643e-04,  5.59888649e-05],\n",
       "        [ 3.98842469e-02, -3.57679091e-02, -2.52990308e-03,\n",
       "         -1.22303627e-02, -4.48134402e-03,  3.11454432e-03]],\n",
       "\n",
       "       [[-9.99256521e-02,  0.00000000e+00,  1.68171786e-02,\n",
       "         -3.44921164e-02, -2.17095192e-04, -9.75765346e-04],\n",
       "        [-6.14328049e-02,  1.72004160e-02,  2.55326405e-02,\n",
       "         -6.64548576e-03,  2.77563930e-04, -2.86216731e-04],\n",
       "        [-9.76665765e-02,  1.72004160e-02,  3.43420096e-02,\n",
       "         -2.10359637e-02,  1.76507951e-04,  7.52359221e-04],\n",
       "        ...,\n",
       "        [ 4.45817485e-02, -1.61659475e-02, -1.10525191e-02,\n",
       "         -4.63817036e-03,  1.02229952e-03, -1.00125966e-03],\n",
       "        [ 3.43548208e-02, -1.61659475e-02, -5.61971823e-03,\n",
       "         -6.68002805e-03,  3.96120304e-04,  5.75903759e-05],\n",
       "        [ 4.50384207e-02, -4.02831174e-02, -2.87718838e-03,\n",
       "         -1.33968135e-02, -4.99630766e-03,  3.55860265e-03]],\n",
       "\n",
       "       [[-1.04221813e-01,  0.00000000e+00,  1.74986590e-02,\n",
       "         -3.63835469e-02, -2.28882986e-04, -1.01843383e-03],\n",
       "        [-6.32932782e-02,  1.76788010e-02,  2.64601391e-02,\n",
       "         -7.07987975e-03,  2.92746816e-04, -2.95078993e-04],\n",
       "        [-1.01138130e-01,  1.76788010e-02,  3.55594903e-02,\n",
       "         -2.23720279e-02,  1.86323217e-04,  7.83163880e-04],\n",
       "        ...,\n",
       "        [ 4.92735021e-02, -1.79623552e-02, -1.21813323e-02,\n",
       "         -4.80537629e-03,  1.12142053e-03, -1.11944962e-03],\n",
       "        [ 3.80702429e-02, -1.79623552e-02, -6.20182930e-03,\n",
       "         -7.17152003e-03,  4.43671306e-04,  5.86747301e-05],\n",
       "        [ 5.01911044e-02, -4.47977670e-02, -3.22174374e-03,\n",
       "         -1.45287961e-02, -5.50667616e-03,  4.00539767e-03]]],\n",
       "      dtype=float32)), StateData(name='stress', dom=0, data=array([[[ 0.00000000e+00,  0.00000000e+00,  0.00000000e+00,\n",
       "          0.00000000e+00,  0.00000000e+00,  0.00000000e+00],\n",
       "        [ 0.00000000e+00,  0.00000000e+00,  0.00000000e+00,\n",
       "          0.00000000e+00,  0.00000000e+00,  0.00000000e+00],\n",
       "        [ 0.00000000e+00,  0.00000000e+00,  0.00000000e+00,\n",
       "          0.00000000e+00,  0.00000000e+00,  0.00000000e+00],\n",
       "        ...,\n",
       "        [ 0.00000000e+00,  0.00000000e+00,  0.00000000e+00,\n",
       "          0.00000000e+00,  0.00000000e+00,  0.00000000e+00],\n",
       "        [ 0.00000000e+00,  0.00000000e+00,  0.00000000e+00,\n",
       "          0.00000000e+00,  0.00000000e+00,  0.00000000e+00],\n",
       "        [ 0.00000000e+00,  0.00000000e+00,  0.00000000e+00,\n",
       "          0.00000000e+00,  0.00000000e+00,  0.00000000e+00]],\n",
       "\n",
       "       [[-2.64484258e+04, -1.04529355e+04, -7.70807080e+03,\n",
       "         -4.94026172e+03, -2.88648472e+01, -1.48734741e+02],\n",
       "        [-1.33989375e+04,  5.57711304e+02,  1.88573279e+03,\n",
       "         -7.94711731e+02,  4.41828728e+01, -4.59821739e+01],\n",
       "        [-2.23616953e+04, -2.78293970e+03,  6.36981621e+01,\n",
       "         -2.71356543e+03,  2.35810680e+01,  1.20599007e+02],\n",
       "        ...,\n",
       "        [ 5.21622900e+03, -1.42441969e+01,  2.21691864e+02,\n",
       "         -1.16859033e+03,  1.08122070e+02, -6.51865768e+01],\n",
       "        [ 3.57391211e+03, -4.66856659e+02,  3.02063782e+02,\n",
       "         -1.17826062e+03,  2.89683361e+01,  1.33193684e+01],\n",
       "        [ 3.34432422e+03, -3.05434204e+03, -1.65373367e+02,\n",
       "         -1.99538770e+03, -4.88635071e+02,  1.92100922e+02]],\n",
       "\n",
       "       [[-4.64621133e+04, -1.88682031e+04, -1.41482842e+04,\n",
       "         -8.36959863e+03, -4.55878372e+01, -2.46629288e+02],\n",
       "        [-2.34484590e+04,  1.02387891e+03,  3.44388110e+03,\n",
       "         -1.25443335e+03,  8.13408356e+01, -7.52409744e+01],\n",
       "        [-3.89257422e+04, -4.96432617e+03,  1.06509041e+02,\n",
       "         -4.44692822e+03,  3.91465225e+01,  2.07021591e+02],\n",
       "        ...,\n",
       "        [ 1.01885801e+04,  1.16335869e+02,  4.08291443e+02,\n",
       "         -2.64133667e+03,  2.15579498e+02, -1.29476761e+02],\n",
       "        [ 7.06979736e+03, -7.04508606e+02,  6.12370789e+02,\n",
       "         -2.58942432e+03,  5.83515320e+01,  2.63631763e+01],\n",
       "        [ 6.61788672e+03, -5.68839160e+03, -3.21880890e+02,\n",
       "         -4.44795850e+03, -9.77329163e+02,  3.83126587e+02]],\n",
       "\n",
       "       ...,\n",
       "\n",
       "       [[-1.04840055e+05, -4.70084375e+04, -3.73781641e+04,\n",
       "         -1.69710664e+04, -6.83919601e+01, -4.50002289e+02],\n",
       "        [-5.06672891e+04,  2.73838452e+03,  9.09365039e+03,\n",
       "         -1.89116357e+03,  2.20604797e+02, -1.26405624e+02],\n",
       "        [-8.42736016e+04, -1.19750898e+04, -8.18701248e+01,\n",
       "         -8.20814648e+03,  7.18703384e+01,  4.27924744e+02],\n",
       "        ...,\n",
       "        [ 3.76055586e+04,  2.70066382e+03,  1.32220825e+03,\n",
       "         -1.40359697e+04,  8.46136597e+02, -5.05699005e+02],\n",
       "        [ 2.67870898e+04,  4.54238922e+02,  2.55717505e+03,\n",
       "         -1.31917803e+04,  2.39443359e+02,  1.01728439e+02],\n",
       "        [ 2.51188770e+04, -1.50789824e+04, -1.02254968e+03,\n",
       "         -2.35351816e+04, -3.90821924e+03,  1.51564709e+03]],\n",
       "\n",
       "       [[-1.09579477e+05, -4.95953594e+04, -3.96914570e+04,\n",
       "         -1.76262246e+04, -6.85027390e+01, -4.60733307e+02],\n",
       "        [-5.24544531e+04,  2.91616431e+03,  9.67994531e+03,\n",
       "         -1.91455396e+03,  2.35612656e+02, -1.27949501e+02],\n",
       "        [-8.75843594e+04, -1.25930576e+04, -1.67251129e+02,\n",
       "         -8.49706055e+03,  7.33836594e+01,  4.42672363e+02],\n",
       "        ...,\n",
       "        [ 4.20180820e+04,  3.29068579e+03,  1.46246997e+03,\n",
       "         -1.61456777e+04,  9.49143250e+02, -5.67585632e+02],\n",
       "        [ 2.99093887e+04,  8.65932373e+02,  2.87275732e+03,\n",
       "         -1.51393564e+04,  2.70139343e+02,  1.13898109e+02],\n",
       "        [ 2.80943340e+04, -1.58814502e+04, -1.11977356e+03,\n",
       "         -2.70906562e+04, -4.39748926e+03,  1.70320874e+03]],\n",
       "\n",
       "       [[-1.13583438e+05, -5.18183477e+04, -4.17205117e+04,\n",
       "         -1.81947441e+04, -6.83979645e+01, -4.69166656e+02],\n",
       "        [-5.38241758e+04,  3.07517920e+03,  1.02040029e+04,\n",
       "         -1.94041626e+03,  2.49166428e+02, -1.28910309e+02],\n",
       "        [-9.02867969e+04, -1.31167275e+04, -2.62930817e+02,\n",
       "         -8.76461328e+03,  7.44312668e+01,  4.54420135e+02],\n",
       "        ...,\n",
       "        [ 4.64248828e+04,  3.90854077e+03,  1.60259070e+03,\n",
       "         -1.82951836e+04,  1.05164062e+03, -6.29355957e+02],\n",
       "        [ 3.29966719e+04,  1.31243579e+03,  3.18418384e+03,\n",
       "         -1.71187715e+04,  3.00957672e+02,  1.25958168e+02],\n",
       "        [ 3.10599844e+04, -1.65141113e+04, -1.21385217e+03,\n",
       "         -3.07127969e+04, -4.88739697e+03,  1.89066504e+03]]],\n",
       "      dtype=float32))], surfaces=[], timesteps=array([0. , 0.1, 0.2, 0.3, 0.4, 0.5, 0.6, 0.7, 0.8, 0.9, 1. ],\n",
       "      dtype=float32))"
      ]
     },
     "execution_count": 29,
     "metadata": {},
     "output_type": "execute_result"
    }
   ],
   "source": [
    "xplt.states # list of States objects"
   ]
  },
  {
   "cell_type": "markdown",
   "metadata": {},
   "source": [
    "### States data:"
   ]
  },
  {
   "cell_type": "code",
   "execution_count": 30,
   "metadata": {},
   "outputs": [
    {
     "data": {
      "text/plain": [
       "StateData(name='displacement', dom=-1, data=array([[[ 0.        ,  0.        ,  0.        ],\n",
       "        [ 0.        ,  0.        ,  0.        ],\n",
       "        [ 0.        ,  0.        ,  0.        ],\n",
       "        ...,\n",
       "        [ 0.        ,  0.        ,  0.        ],\n",
       "        [ 0.        ,  0.        ,  0.        ],\n",
       "        [ 0.        ,  0.        ,  0.        ]],\n",
       "\n",
       "       [[ 0.        ,  0.        ,  0.        ],\n",
       "        [-0.00220876, -0.00138848,  0.        ],\n",
       "        [-0.0044777 , -0.00291381,  0.        ],\n",
       "        ...,\n",
       "        [ 0.03501934, -0.07832458,  0.        ],\n",
       "        [ 0.03535859, -0.08439115,  0.        ],\n",
       "        [ 0.03562101, -0.09075736,  0.        ]],\n",
       "\n",
       "       [[ 0.        ,  0.        ,  0.        ],\n",
       "        [-0.0040143 , -0.00251072,  0.        ],\n",
       "        [-0.00812449, -0.00527578,  0.        ],\n",
       "        ...,\n",
       "        [ 0.06155637, -0.14323959,  0.        ],\n",
       "        [ 0.06199993, -0.15412821,  0.        ],\n",
       "        [ 0.06229447, -0.16563064,  0.        ]],\n",
       "\n",
       "       ...,\n",
       "\n",
       "       [[ 0.        ,  0.        ,  0.        ],\n",
       "        [-0.0102166 , -0.00648645,  0.        ],\n",
       "        [-0.02036276, -0.01388767,  0.        ],\n",
       "        ...,\n",
       "        [ 0.14947748, -0.3811367 ,  0.        ],\n",
       "        [ 0.14983469, -0.40797347,  0.        ],\n",
       "        [ 0.14956348, -0.4375061 ,  0.        ]],\n",
       "\n",
       "       [[ 0.        ,  0.        ,  0.        ],\n",
       "        [-0.01080656, -0.00690494,  0.        ],\n",
       "        [-0.02147301, -0.01484216,  0.        ],\n",
       "        ...,\n",
       "        [ 0.15917969, -0.40684003,  0.        ],\n",
       "        [ 0.15957509, -0.43523568,  0.        ],\n",
       "        [ 0.15924646, -0.46669516,  0.        ]],\n",
       "\n",
       "       [[ 0.        ,  0.        ,  0.        ],\n",
       "        [-0.01131956, -0.00728358,  0.        ],\n",
       "        [-0.02242204, -0.01571946,  0.        ],\n",
       "        ...,\n",
       "        [ 0.16826567, -0.4302698 ,  0.        ],\n",
       "        [ 0.16872025, -0.46006113,  0.        ],\n",
       "        [ 0.16835007, -0.49328837,  0.        ]]], dtype=float32))"
      ]
     },
     "execution_count": 30,
     "metadata": {},
     "output_type": "execute_result"
    }
   ],
   "source": [
    "xplt.states.nodes[0]"
   ]
  },
  {
   "cell_type": "code",
   "execution_count": 31,
   "metadata": {},
   "outputs": [
    {
     "data": {
      "text/plain": [
       "StateData(name='Lagrange strain', dom=0, data=array([[[ 0.00000000e+00,  0.00000000e+00,  0.00000000e+00,\n",
       "          0.00000000e+00,  0.00000000e+00,  0.00000000e+00],\n",
       "        [ 0.00000000e+00,  0.00000000e+00,  0.00000000e+00,\n",
       "          0.00000000e+00,  0.00000000e+00,  0.00000000e+00],\n",
       "        [ 0.00000000e+00,  0.00000000e+00,  0.00000000e+00,\n",
       "          0.00000000e+00,  0.00000000e+00,  0.00000000e+00],\n",
       "        ...,\n",
       "        [ 0.00000000e+00,  0.00000000e+00,  0.00000000e+00,\n",
       "          0.00000000e+00,  0.00000000e+00,  0.00000000e+00],\n",
       "        [ 0.00000000e+00,  0.00000000e+00,  0.00000000e+00,\n",
       "          0.00000000e+00,  0.00000000e+00,  0.00000000e+00],\n",
       "        [ 0.00000000e+00,  0.00000000e+00,  0.00000000e+00,\n",
       "          0.00000000e+00,  0.00000000e+00,  0.00000000e+00]],\n",
       "\n",
       "       [[-2.17677094e-02,  0.00000000e+00,  3.74327949e-03,\n",
       "         -6.93582371e-03, -4.37995950e-05, -2.12121537e-04],\n",
       "        [-1.44304177e-02,  4.09667706e-03,  5.80157526e-03,\n",
       "         -1.21883943e-03,  5.60197332e-05, -6.63803366e-05],\n",
       "        [-2.22795270e-02,  4.09667706e-03,  7.83721078e-03,\n",
       "         -3.98436794e-03,  3.43527390e-05,  1.65543141e-04],\n",
       "        ...,\n",
       "        [ 5.26422681e-03, -1.79072132e-03, -1.32321590e-03,\n",
       "         -1.09698484e-03,  1.35720460e-04, -9.22642721e-05],\n",
       "        [ 3.76291759e-03, -1.79072132e-03, -6.20350009e-04,\n",
       "         -1.20366516e-03,  3.88481822e-05,  1.51849181e-05],\n",
       "        [ 4.56744991e-03, -4.31843102e-03, -2.29693338e-04,\n",
       "         -2.06525391e-03, -6.21005311e-04,  2.85787100e-04]],\n",
       "\n",
       "       [[-3.90582196e-02,  0.00000000e+00,  6.69534458e-03,\n",
       "         -1.25417085e-02, -7.91431958e-05, -3.80462821e-04],\n",
       "        [-2.57335734e-02,  7.29539804e-03,  1.03692589e-02,\n",
       "         -2.23168731e-03,  1.01221529e-04, -1.18771379e-04],\n",
       "        [-3.98102477e-02,  7.29539804e-03,  1.40054580e-02,\n",
       "         -7.24549964e-03,  6.26781766e-05,  2.96983548e-04],\n",
       "        ...,\n",
       "        [ 1.04291877e-02, -3.59612866e-03, -2.62246048e-03,\n",
       "         -1.94583589e-03,  2.62564688e-04, -1.94546839e-04],\n",
       "        [ 7.59910978e-03, -3.59612866e-03, -1.25865580e-03,\n",
       "         -2.20169220e-03,  7.99803020e-05,  2.65620838e-05],\n",
       "        [ 9.37132537e-03, -8.74294899e-03, -5.08905330e-04,\n",
       "         -3.88899446e-03, -1.21698214e-03,  6.25088112e-04]],\n",
       "\n",
       "       ...,\n",
       "\n",
       "       [[-9.49234068e-02,  0.00000000e+00,  1.60137974e-02,\n",
       "         -3.24016511e-02, -2.04027048e-04, -9.26311302e-04],\n",
       "        [-5.90482466e-02,  1.65700149e-02,  2.44058762e-02,\n",
       "         -6.17906218e-03,  2.60786124e-04, -2.74899823e-04],\n",
       "        [-9.34232473e-02,  1.65700149e-02,  3.28529291e-02,\n",
       "         -1.95991900e-02,  1.65617355e-04,  7.16031471e-04],\n",
       "        ...,\n",
       "        [ 3.98563445e-02, -1.43719194e-02, -9.90771782e-03,\n",
       "         -4.43919096e-03,  9.21695610e-04, -8.83027446e-04],\n",
       "        [ 3.06086857e-02, -1.43719194e-02, -5.02582826e-03,\n",
       "         -6.17014943e-03,  3.49059643e-04,  5.59888649e-05],\n",
       "        [ 3.98842469e-02, -3.57679091e-02, -2.52990308e-03,\n",
       "         -1.22303627e-02, -4.48134402e-03,  3.11454432e-03]],\n",
       "\n",
       "       [[-9.99256521e-02,  0.00000000e+00,  1.68171786e-02,\n",
       "         -3.44921164e-02, -2.17095192e-04, -9.75765346e-04],\n",
       "        [-6.14328049e-02,  1.72004160e-02,  2.55326405e-02,\n",
       "         -6.64548576e-03,  2.77563930e-04, -2.86216731e-04],\n",
       "        [-9.76665765e-02,  1.72004160e-02,  3.43420096e-02,\n",
       "         -2.10359637e-02,  1.76507951e-04,  7.52359221e-04],\n",
       "        ...,\n",
       "        [ 4.45817485e-02, -1.61659475e-02, -1.10525191e-02,\n",
       "         -4.63817036e-03,  1.02229952e-03, -1.00125966e-03],\n",
       "        [ 3.43548208e-02, -1.61659475e-02, -5.61971823e-03,\n",
       "         -6.68002805e-03,  3.96120304e-04,  5.75903759e-05],\n",
       "        [ 4.50384207e-02, -4.02831174e-02, -2.87718838e-03,\n",
       "         -1.33968135e-02, -4.99630766e-03,  3.55860265e-03]],\n",
       "\n",
       "       [[-1.04221813e-01,  0.00000000e+00,  1.74986590e-02,\n",
       "         -3.63835469e-02, -2.28882986e-04, -1.01843383e-03],\n",
       "        [-6.32932782e-02,  1.76788010e-02,  2.64601391e-02,\n",
       "         -7.07987975e-03,  2.92746816e-04, -2.95078993e-04],\n",
       "        [-1.01138130e-01,  1.76788010e-02,  3.55594903e-02,\n",
       "         -2.23720279e-02,  1.86323217e-04,  7.83163880e-04],\n",
       "        ...,\n",
       "        [ 4.92735021e-02, -1.79623552e-02, -1.21813323e-02,\n",
       "         -4.80537629e-03,  1.12142053e-03, -1.11944962e-03],\n",
       "        [ 3.80702429e-02, -1.79623552e-02, -6.20182930e-03,\n",
       "         -7.17152003e-03,  4.43671306e-04,  5.86747301e-05],\n",
       "        [ 5.01911044e-02, -4.47977670e-02, -3.22174374e-03,\n",
       "         -1.45287961e-02, -5.50667616e-03,  4.00539767e-03]]],\n",
       "      dtype=float32))"
      ]
     },
     "execution_count": 31,
     "metadata": {},
     "output_type": "execute_result"
    }
   ],
   "source": [
    "xplt.states.elements[0]"
   ]
  },
  {
   "cell_type": "markdown",
   "metadata": {},
   "source": [
    "## FEBio Container"
   ]
  },
  {
   "cell_type": "code",
   "execution_count": 32,
   "metadata": {},
   "outputs": [],
   "source": [
    "from febio_python import FEBioContainer\n",
    "\n",
    "container = FEBioContainer(feb=feb,\n",
    "                           xplt=xplt\n",
    "                           )"
   ]
  },
  {
   "cell_type": "markdown",
   "metadata": {},
   "source": [
    "Can also load from a file directly:"
   ]
  },
  {
   "cell_type": "code",
   "execution_count": 33,
   "metadata": {},
   "outputs": [
    {
     "ename": "ValueError",
     "evalue": "Content was identified as string, but could not be parsed. Please, verify.",
     "output_type": "error",
     "traceback": [
      "\u001b[1;31m---------------------------------------------------------------------------\u001b[0m",
      "\u001b[1;31mTypeError\u001b[0m                                 Traceback (most recent call last)",
      "File \u001b[1;32md:\\igor\\github\\febio-python\\febio_python\\feb\\bases\\base_feb.py:125\u001b[0m, in \u001b[0;36mFebBaseObject.parse\u001b[1;34m(content)\u001b[0m\n\u001b[0;32m    124\u001b[0m \u001b[38;5;28;01mtry\u001b[39;00m:\n\u001b[1;32m--> 125\u001b[0m     tree \u001b[38;5;241m=\u001b[39m \u001b[43mET\u001b[49m\u001b[38;5;241;43m.\u001b[39;49m\u001b[43mfromstring\u001b[49m\u001b[43m(\u001b[49m\u001b[43mcontent\u001b[49m\u001b[43m)\u001b[49m\n\u001b[0;32m    126\u001b[0m     root \u001b[38;5;241m=\u001b[39m tree\u001b[38;5;241m.\u001b[39mgetroot()\n",
      "File \u001b[1;32md:\\ProgramData\\miniconda3\\envs\\torch_cuda\\lib\\xml\\etree\\ElementTree.py:1342\u001b[0m, in \u001b[0;36mXML\u001b[1;34m(text, parser)\u001b[0m\n\u001b[0;32m   1341\u001b[0m     parser \u001b[38;5;241m=\u001b[39m XMLParser(target\u001b[38;5;241m=\u001b[39mTreeBuilder())\n\u001b[1;32m-> 1342\u001b[0m \u001b[43mparser\u001b[49m\u001b[38;5;241;43m.\u001b[39;49m\u001b[43mfeed\u001b[49m\u001b[43m(\u001b[49m\u001b[43mtext\u001b[49m\u001b[43m)\u001b[49m\n\u001b[0;32m   1343\u001b[0m \u001b[38;5;28;01mreturn\u001b[39;00m parser\u001b[38;5;241m.\u001b[39mclose()\n",
      "\u001b[1;31mTypeError\u001b[0m: a bytes-like object is required, not 'WindowsPath'",
      "\nThe above exception was the direct cause of the following exception:\n",
      "\u001b[1;31mValueError\u001b[0m                                Traceback (most recent call last)",
      "Cell \u001b[1;32mIn[33], line 1\u001b[0m\n\u001b[1;32m----> 1\u001b[0m container \u001b[38;5;241m=\u001b[39m \u001b[43mFEBioContainer\u001b[49m\u001b[43m(\u001b[49m\u001b[43mfeb\u001b[49m\u001b[38;5;241;43m=\u001b[39;49m\u001b[38;5;124;43m\"\u001b[39;49m\u001b[38;5;124;43mplane_mesh_v30.feb\u001b[39;49m\u001b[38;5;124;43m\"\u001b[39;49m\u001b[43m,\u001b[49m\n\u001b[0;32m      2\u001b[0m \u001b[43m                           \u001b[49m\u001b[43mxplt\u001b[49m\u001b[38;5;241;43m=\u001b[39;49m\u001b[38;5;124;43m\"\u001b[39;49m\u001b[38;5;124;43mplane_mesh_v30.xplt\u001b[39;49m\u001b[38;5;124;43m\"\u001b[39;49m\n\u001b[0;32m      3\u001b[0m \u001b[43m                           \u001b[49m\u001b[43m)\u001b[49m\n",
      "File \u001b[1;32md:\\igor\\github\\febio-python\\febio_python\\container\\febio_container.py:32\u001b[0m, in \u001b[0;36mFEBioContainer.__init__\u001b[1;34m(self, feb, xplt, auto_find)\u001b[0m\n\u001b[0;32m     31\u001b[0m \u001b[38;5;28;01mdef\u001b[39;00m \u001b[38;5;21m__init__\u001b[39m(\u001b[38;5;28mself\u001b[39m, feb: Union[Feb30, Feb25, \u001b[38;5;28mstr\u001b[39m, Path] \u001b[38;5;241m=\u001b[39m \u001b[38;5;28;01mNone\u001b[39;00m, xplt: Union[Xplt, \u001b[38;5;28mstr\u001b[39m, Path] \u001b[38;5;241m=\u001b[39m \u001b[38;5;28;01mNone\u001b[39;00m, auto_find: \u001b[38;5;28mbool\u001b[39m \u001b[38;5;241m=\u001b[39m \u001b[38;5;28;01mTrue\u001b[39;00m) \u001b[38;5;241m-\u001b[39m\u001b[38;5;241m>\u001b[39m \u001b[38;5;28;01mNone\u001b[39;00m:\n\u001b[1;32m---> 32\u001b[0m     \u001b[38;5;28mself\u001b[39m\u001b[38;5;241m.\u001b[39mfeb: Optional[Union[Feb30, Feb25]] \u001b[38;5;241m=\u001b[39m \u001b[38;5;28;43mself\u001b[39;49m\u001b[38;5;241;43m.\u001b[39;49m\u001b[43m_load_feb\u001b[49m\u001b[43m(\u001b[49m\u001b[43mfeb\u001b[49m\u001b[43m)\u001b[49m \u001b[38;5;28;01mif\u001b[39;00m feb \u001b[38;5;28;01melse\u001b[39;00m \u001b[38;5;28;01mNone\u001b[39;00m\n\u001b[0;32m     33\u001b[0m     \u001b[38;5;28mself\u001b[39m\u001b[38;5;241m.\u001b[39mxplt: Optional[Xplt] \u001b[38;5;241m=\u001b[39m \u001b[38;5;28mself\u001b[39m\u001b[38;5;241m.\u001b[39m_load_xplt(xplt) \u001b[38;5;28;01mif\u001b[39;00m xplt \u001b[38;5;28;01melse\u001b[39;00m \u001b[38;5;28;01mNone\u001b[39;00m\n\u001b[0;32m     35\u001b[0m     \u001b[38;5;28;01mif\u001b[39;00m auto_find:\n",
      "File \u001b[1;32md:\\igor\\github\\febio-python\\febio_python\\container\\febio_container.py:67\u001b[0m, in \u001b[0;36mFEBioContainer._load_feb\u001b[1;34m(self, feb)\u001b[0m\n\u001b[0;32m     65\u001b[0m \u001b[38;5;28;01mif\u001b[39;00m \u001b[38;5;28misinstance\u001b[39m(feb, (\u001b[38;5;28mstr\u001b[39m, Path)):\n\u001b[0;32m     66\u001b[0m     feb_path \u001b[38;5;241m=\u001b[39m Path(feb)\n\u001b[1;32m---> 67\u001b[0m     \u001b[38;5;28;01mreturn\u001b[39;00m \u001b[43mFeb\u001b[49m\u001b[43m(\u001b[49m\u001b[43mfilepath\u001b[49m\u001b[38;5;241;43m=\u001b[39;49m\u001b[43mfeb_path\u001b[49m\u001b[43m)\u001b[49m\n\u001b[0;32m     68\u001b[0m \u001b[38;5;28;01mreturn\u001b[39;00m feb\n",
      "File \u001b[1;32md:\\igor\\github\\febio-python\\febio_python\\feb\\feb_version_handler.py:18\u001b[0m, in \u001b[0;36mFeb\u001b[1;34m(filepath, tree, root, version)\u001b[0m\n\u001b[0;32m     16\u001b[0m \u001b[38;5;66;03m# version = determine_version(filepath)\u001b[39;00m\n\u001b[0;32m     17\u001b[0m \u001b[38;5;28;01mif\u001b[39;00m version \u001b[38;5;129;01mis\u001b[39;00m \u001b[38;5;28;01mNone\u001b[39;00m:\n\u001b[1;32m---> 18\u001b[0m     version \u001b[38;5;241m=\u001b[39m \u001b[43mFebBaseObject\u001b[49m\u001b[43m(\u001b[49m\u001b[43mtree\u001b[49m\u001b[38;5;241;43m=\u001b[39;49m\u001b[43mtree\u001b[49m\u001b[43m,\u001b[49m\u001b[43m \u001b[49m\u001b[43mroot\u001b[49m\u001b[38;5;241;43m=\u001b[39;49m\u001b[43mroot\u001b[49m\u001b[43m,\u001b[49m\u001b[43m \u001b[49m\u001b[43mfilepath\u001b[49m\u001b[38;5;241;43m=\u001b[39;49m\u001b[43mfilepath\u001b[49m\u001b[43m)\u001b[49m\u001b[38;5;241m.\u001b[39mversion\n\u001b[0;32m     20\u001b[0m \u001b[38;5;28;01mif\u001b[39;00m \u001b[38;5;28misinstance\u001b[39m(version, (\u001b[38;5;28mstr\u001b[39m)):\n\u001b[0;32m     21\u001b[0m     \u001b[38;5;28;01mtry\u001b[39;00m:\n",
      "File \u001b[1;32md:\\igor\\github\\febio-python\\febio_python\\feb\\bases\\base_feb.py:22\u001b[0m, in \u001b[0;36mFebBaseObject.__init__\u001b[1;34m(self, tree, root, filepath)\u001b[0m\n\u001b[0;32m     19\u001b[0m \u001b[38;5;28mself\u001b[39m\u001b[38;5;241m.\u001b[39mpath_to_file \u001b[38;5;241m=\u001b[39m filepath\n\u001b[0;32m     21\u001b[0m \u001b[38;5;66;03m# Handle initialization of tree and root\u001b[39;00m\n\u001b[1;32m---> 22\u001b[0m tree, root \u001b[38;5;241m=\u001b[39m \u001b[38;5;28;43mself\u001b[39;49m\u001b[38;5;241;43m.\u001b[39;49m\u001b[43m_handle_initialization\u001b[49m\u001b[43m(\u001b[49m\u001b[43mtree\u001b[49m\u001b[43m,\u001b[49m\u001b[43m \u001b[49m\u001b[43mroot\u001b[49m\u001b[43m,\u001b[49m\u001b[43m \u001b[49m\u001b[43mfilepath\u001b[49m\u001b[43m)\u001b[49m\n\u001b[0;32m     24\u001b[0m \u001b[38;5;66;03m# Set tree and root attributes\u001b[39;00m\n\u001b[0;32m     25\u001b[0m \u001b[38;5;28mself\u001b[39m\u001b[38;5;241m.\u001b[39mtree: ET\u001b[38;5;241m.\u001b[39mElementTree \u001b[38;5;241m=\u001b[39m tree\n",
      "File \u001b[1;32md:\\igor\\github\\febio-python\\febio_python\\feb\\bases\\base_feb.py:63\u001b[0m, in \u001b[0;36mFebBaseObject._handle_initialization\u001b[1;34m(self, tree, root, filepath)\u001b[0m\n\u001b[0;32m     57\u001b[0m \u001b[38;5;28;01mdef\u001b[39;00m \u001b[38;5;21m_handle_initialization\u001b[39m(\u001b[38;5;28mself\u001b[39m,\n\u001b[0;32m     58\u001b[0m                            tree: Union[ET\u001b[38;5;241m.\u001b[39mElementTree, \u001b[38;5;28;01mNone\u001b[39;00m] \u001b[38;5;241m=\u001b[39m \u001b[38;5;28;01mNone\u001b[39;00m,\n\u001b[0;32m     59\u001b[0m                            root: Union[ET\u001b[38;5;241m.\u001b[39mElement, \u001b[38;5;28;01mNone\u001b[39;00m] \u001b[38;5;241m=\u001b[39m \u001b[38;5;28;01mNone\u001b[39;00m,\n\u001b[0;32m     60\u001b[0m                            filepath: Union[\u001b[38;5;28mstr\u001b[39m, Path] \u001b[38;5;241m=\u001b[39m \u001b[38;5;28;01mNone\u001b[39;00m) \u001b[38;5;241m-\u001b[39m\u001b[38;5;241m>\u001b[39m Tuple[ET\u001b[38;5;241m.\u001b[39mElementTree, ET\u001b[38;5;241m.\u001b[39mElement]:\n\u001b[0;32m     61\u001b[0m     \u001b[38;5;66;03m# Handle the case in which a filepath is provided -> parse and get tree and root\u001b[39;00m\n\u001b[0;32m     62\u001b[0m     \u001b[38;5;28;01mif\u001b[39;00m filepath \u001b[38;5;129;01mis\u001b[39;00m \u001b[38;5;129;01mnot\u001b[39;00m \u001b[38;5;28;01mNone\u001b[39;00m:\n\u001b[1;32m---> 63\u001b[0m         tree, root \u001b[38;5;241m=\u001b[39m \u001b[43mFebBaseObject\u001b[49m\u001b[38;5;241;43m.\u001b[39;49m\u001b[43mparse\u001b[49m\u001b[43m(\u001b[49m\u001b[43mfilepath\u001b[49m\u001b[43m)\u001b[49m\n\u001b[0;32m     65\u001b[0m     \u001b[38;5;66;03m# If no filepath is provided, proceed with other cases\u001b[39;00m\n\u001b[0;32m     66\u001b[0m     \u001b[38;5;28;01melse\u001b[39;00m:\n\u001b[0;32m     67\u001b[0m         \u001b[38;5;66;03m# Handle the case in which a tree what provided\u001b[39;00m\n\u001b[0;32m     68\u001b[0m         \u001b[38;5;28;01mif\u001b[39;00m tree \u001b[38;5;129;01mis\u001b[39;00m \u001b[38;5;129;01mnot\u001b[39;00m \u001b[38;5;28;01mNone\u001b[39;00m:\n\u001b[0;32m     69\u001b[0m             \u001b[38;5;66;03m# ET tree reference for paesed xml file\u001b[39;00m\n",
      "File \u001b[1;32md:\\igor\\github\\febio-python\\febio_python\\feb\\bases\\base_feb.py:128\u001b[0m, in \u001b[0;36mFebBaseObject.parse\u001b[1;34m(content)\u001b[0m\n\u001b[0;32m    126\u001b[0m             root \u001b[38;5;241m=\u001b[39m tree\u001b[38;5;241m.\u001b[39mgetroot()\n\u001b[0;32m    127\u001b[0m         \u001b[38;5;28;01mexcept\u001b[39;00m \u001b[38;5;167;01mException\u001b[39;00m \u001b[38;5;28;01mas\u001b[39;00m e:\n\u001b[1;32m--> 128\u001b[0m             \u001b[38;5;28;01mraise\u001b[39;00m \u001b[38;5;167;01mValueError\u001b[39;00m(\u001b[38;5;124m\"\u001b[39m\u001b[38;5;124mContent was identified as string, but could not be parsed. \u001b[39m\u001b[38;5;124m\"\u001b[39m\n\u001b[0;32m    129\u001b[0m                              \u001b[38;5;124m\"\u001b[39m\u001b[38;5;124mPlease, verify.\u001b[39m\u001b[38;5;124m\"\u001b[39m) \u001b[38;5;28;01mfrom\u001b[39;00m \u001b[38;5;21;01me\u001b[39;00m\n\u001b[0;32m    130\u001b[0m \u001b[38;5;28;01melif\u001b[39;00m \u001b[38;5;28misinstance\u001b[39m(content, ET\u001b[38;5;241m.\u001b[39mElementTree):\n\u001b[0;32m    131\u001b[0m     \u001b[38;5;28;01mtry\u001b[39;00m:\n",
      "\u001b[1;31mValueError\u001b[0m: Content was identified as string, but could not be parsed. Please, verify."
     ]
    }
   ],
   "source": [
    "container = FEBioContainer(feb=\"plane_mesh_v30.feb\",\n",
    "                           xplt=\"plane_mesh_v30.xplt\"\n",
    "                           )"
   ]
  },
  {
   "cell_type": "code",
   "execution_count": null,
   "metadata": {},
   "outputs": [],
   "source": [
    "container.feb"
   ]
  },
  {
   "cell_type": "code",
   "execution_count": null,
   "metadata": {},
   "outputs": [],
   "source": [
    "container.xplt"
   ]
  },
  {
   "cell_type": "code",
   "execution_count": null,
   "metadata": {},
   "outputs": [],
   "source": [
    "container.nodes"
   ]
  },
  {
   "cell_type": "markdown",
   "metadata": {},
   "source": [
    "## Ploting Feb or Xplt"
   ]
  },
  {
   "cell_type": "code",
   "execution_count": null,
   "metadata": {},
   "outputs": [],
   "source": [
    "from febio_python.utils.pyvista_utils import febio_to_pyvista\n",
    "\n",
    "grids_list = febio_to_pyvista(container)\n",
    "len(grids_list)"
   ]
  },
  {
   "cell_type": "code",
   "execution_count": null,
   "metadata": {},
   "outputs": [],
   "source": [
    "grids_list[-1].plot(cpos='xy', show_edges=True, scalars=\"stress\")"
   ]
  },
  {
   "cell_type": "markdown",
   "metadata": {},
   "source": [
    "You can also quickly convert all cell data to node data:"
   ]
  },
  {
   "cell_type": "code",
   "execution_count": null,
   "metadata": {},
   "outputs": [],
   "source": [
    "last_grid_as_nodal_data = grids_list[-1].cell_data_to_point_data()\n",
    "last_grid_as_nodal_data.plot(cpos='xy', show_edges=True, scalars=\"stress\")"
   ]
  },
  {
   "cell_type": "code",
   "execution_count": null,
   "metadata": {},
   "outputs": [],
   "source": [
    "last_grid_as_nodal_data"
   ]
  },
  {
   "cell_type": "markdown",
   "metadata": {},
   "source": [
    "When using the FEBio container, we have access to both Feb and Xplt data. This means that we can retrieve nodal load, boundary conditions, etc. Here is a cool plot that we can do:"
   ]
  },
  {
   "cell_type": "code",
   "execution_count": null,
   "metadata": {},
   "outputs": [],
   "source": [
    "plotter = pv.Plotter()\n",
    "strain_xx = last_grid_as_nodal_data[\"Lagrange strain\"][:, 0]\n",
    "fixed_nodes = last_grid_as_nodal_data[\"fix\"].sum(1)\n",
    "\n",
    "plotter.add_mesh(last_grid_as_nodal_data,\n",
    "                 scalars=strain_xx,\n",
    "                 cmap=\"coolwarm\",\n",
    "                 show_edges=True,\n",
    "                 scalar_bar_args={\"title\": \"Strain - XX\"})\n",
    "plotter.add_mesh(last_grid_as_nodal_data.points,\n",
    "                 scalars=fixed_nodes,\n",
    "                 cmap=\"viridis\",\n",
    "                 style=\"points\",\n",
    "                 point_size=10,\n",
    "                 render_points_as_spheres=True, show_scalar_bar=False)\n",
    "plotter.add_arrows(last_grid_as_nodal_data.points,\n",
    "                   last_grid_as_nodal_data[\"nodal_load\"],\n",
    "                   mag=5e-3, # This controls the mag of the arrows. Not the actual load. There may be a better way to control this.\n",
    "                   show_scalar_bar=False,\n",
    "                   color=\"orange\")\n",
    "plotter.show(cpos=\"xy\")"
   ]
  }
 ],
 "metadata": {
  "kernelspec": {
   "display_name": "torch_cuda",
   "language": "python",
   "name": "python3"
  },
  "language_info": {
   "codemirror_mode": {
    "name": "ipython",
    "version": 3
   },
   "file_extension": ".py",
   "mimetype": "text/x-python",
   "name": "python",
   "nbconvert_exporter": "python",
   "pygments_lexer": "ipython3",
   "version": "3.9.18"
  }
 },
 "nbformat": 4,
 "nbformat_minor": 2
}
