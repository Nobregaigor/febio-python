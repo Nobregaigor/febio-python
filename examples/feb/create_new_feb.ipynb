{
 "cells": [
  {
   "cell_type": "markdown",
   "metadata": {},
   "source": [
    "# Creating a new FEBio input file: FEB"
   ]
  },
  {
   "cell_type": "markdown",
   "metadata": {},
   "source": [
    "## The basics"
   ]
  },
  {
   "cell_type": "markdown",
   "metadata": {},
   "source": [
    "We can create a new FEB file with basically no information. To do so, we can simply call Feb and provide it a version. Right now, we accept versions 2.5 and 3.0."
   ]
  },
  {
   "cell_type": "code",
   "execution_count": null,
   "metadata": {},
   "outputs": [],
   "source": [
    "from febio_python import Feb\n",
    "\n",
    "feb = Feb(version=2.5)\n",
    "feb"
   ]
  },
  {
   "cell_type": "markdown",
   "metadata": {},
   "source": [
    "You will notices that all contents of the feb file are zero. This means that there is nothing stored in the feb right now. Let's start modifying it. We will begin with simple structures, like module, globals and controls:"
   ]
  },
  {
   "cell_type": "code",
   "execution_count": null,
   "metadata": {},
   "outputs": [],
   "source": [
    "feb.setup_module(module_type=\"solid\") # default values\n",
    "feb.setup_globals(T=0, R=0, Fc=0) # default values\n",
    "feb.setup_controls(analysis_type=\"static\") # here, you can change basic settings. See docs for more info.\n",
    "feb.setup_output(variables=[\"displacement\", \"Lagrange strain\", \"stress\"]) # default values"
   ]
  },
  {
   "cell_type": "markdown",
   "metadata": {},
   "source": [
    "We can check the FEB object. It now has some data:"
   ]
  },
  {
   "cell_type": "code",
   "execution_count": null,
   "metadata": {},
   "outputs": [],
   "source": [
    "feb"
   ]
  },
  {
   "cell_type": "markdown",
   "metadata": {},
   "source": [
    "## Adding Mesh"
   ]
  },
  {
   "cell_type": "markdown",
   "metadata": {},
   "source": [
    "We will now add more interestind data to our feb. Let's start by creating a simple mesh with pyvista:"
   ]
  },
  {
   "cell_type": "code",
   "execution_count": null,
   "metadata": {},
   "outputs": [],
   "source": [
    "import pyvista as pv\n",
    "pv.set_jupyter_backend('client')\n",
    "\n",
    "# Create a simple mesh (plane mesh)\n",
    "mesh = pv.Plane(direction=(0,0,1), i_size=2, j_size=1, i_resolution=6, j_resolution=3)\n",
    "mesh = mesh.cast_to_unstructured_grid() # we will be using unstructured grid for FEBio\n",
    "mesh.plot(show_edges=True, jupyter_backend='client', window_size=(800, 400), cpos='xy')"
   ]
  },
  {
   "cell_type": "markdown",
   "metadata": {},
   "source": [
    "In Pyvista, an unstructured grid is defined as \"points\" (nodes) and \"cells\" (elements). We can access them like this: "
   ]
  },
  {
   "cell_type": "code",
   "execution_count": null,
   "metadata": {},
   "outputs": [],
   "source": [
    "mesh.points"
   ]
  },
  {
   "cell_type": "code",
   "execution_count": null,
   "metadata": {},
   "outputs": [],
   "source": [
    "mesh.cells_dict"
   ]
  },
  {
   "cell_type": "code",
   "execution_count": null,
   "metadata": {},
   "outputs": [],
   "source": [
    "print(f\"Number of nodes: {mesh.points.shape[0]}\")\n",
    "print(f\"Number of elements: {mesh.cells_dict[pv.CellType.QUAD].shape[0]}\")"
   ]
  },
  {
   "cell_type": "code",
   "execution_count": null,
   "metadata": {},
   "outputs": [],
   "source": [
    "from febio_python.core import Nodes, Elements\n",
    "# Create nodes\n",
    "nodes = Nodes(name=\"plane\", coordinates=mesh.points)\n",
    "# Create elements\n",
    "elements = Elements(name=\"plane_elements\",\n",
    "                    mat=\"1\",\n",
    "                    part=None,\n",
    "                    type=\"QUAD\",\n",
    "                    connectivity=mesh.cells_dict[pv.CellType.QUAD.value],\n",
    "                    )\n",
    "# Add nodes and elements to the feb object (need to be lists)\n",
    "feb.add_nodes([nodes])\n",
    "feb.add_elements([elements])"
   ]
  },
  {
   "cell_type": "markdown",
   "metadata": {},
   "source": [
    "We can now see that we have two 'Geometry' items:"
   ]
  },
  {
   "cell_type": "code",
   "execution_count": null,
   "metadata": {},
   "outputs": [],
   "source": [
    "feb"
   ]
  },
  {
   "cell_type": "markdown",
   "metadata": {},
   "source": [
    "We can further inspect them:"
   ]
  },
  {
   "cell_type": "code",
   "execution_count": null,
   "metadata": {},
   "outputs": [],
   "source": [
    "feb.inspect_nodes_and_elements()"
   ]
  },
  {
   "cell_type": "markdown",
   "metadata": {},
   "source": [
    "## Modfying nodes/elements"
   ]
  },
  {
   "cell_type": "markdown",
   "metadata": {},
   "source": [
    "Oh no! We have defined a too coarse mesh! Let's create a fine mesh and update our feb."
   ]
  },
  {
   "cell_type": "code",
   "execution_count": null,
   "metadata": {},
   "outputs": [],
   "source": [
    "# Create a simple mesh (plane mesh)\n",
    "mesh = pv.Plane(direction=(0,0,1), i_size=2, j_size=1, i_resolution=10, j_resolution=5)\n",
    "mesh = mesh.cast_to_unstructured_grid() # we will be using unstructured grid for FEBio\n",
    "mesh.plot(show_edges=True, jupyter_backend='client', window_size=(800, 400), cpos='xy')"
   ]
  },
  {
   "cell_type": "code",
   "execution_count": null,
   "metadata": {},
   "outputs": [],
   "source": [
    "print(f\"Number of nodes: {mesh.points.shape[0]}\")\n",
    "print(f\"Number of elements: {mesh.cells_dict[pv.CellType.QUAD].shape[0]}\")"
   ]
  },
  {
   "cell_type": "markdown",
   "metadata": {},
   "source": [
    "Note that if we use the function \"ADD\" again, it will add the new nodes to the existing nodes in the same mesh. This is used when we are creating mesh in an iterative process. Let's try:"
   ]
  },
  {
   "cell_type": "code",
   "execution_count": null,
   "metadata": {},
   "outputs": [],
   "source": [
    "# Create nodes\n",
    "nodes = Nodes(name=\"plane\", coordinates=mesh.points)\n",
    "# Create elements\n",
    "elements = Elements(name=\"plane_elements\",\n",
    "                    mat=\"1\",\n",
    "                    part=None,\n",
    "                    type=\"QUAD\",\n",
    "                    connectivity=mesh.cells_dict[pv.CellType.QUAD.value],\n",
    "                    )\n",
    "# Add nodes and elements to the feb object (need to be lists)\n",
    "feb.add_nodes([nodes])\n",
    "feb.add_elements([elements])\n",
    "# Inspect nodes and elements\n",
    "feb.inspect_nodes_and_elements()"
   ]
  },
  {
   "cell_type": "markdown",
   "metadata": {},
   "source": [
    "You can see that it had inscrease the number of nodes/elements. But this is not what we are looking for.\n",
    "Let's clean the feb data and add it again:"
   ]
  },
  {
   "cell_type": "code",
   "execution_count": null,
   "metadata": {},
   "outputs": [],
   "source": [
    "feb.clear_nodes()\n",
    "feb.clear_elements()\n",
    "feb"
   ]
  },
  {
   "cell_type": "code",
   "execution_count": null,
   "metadata": {},
   "outputs": [],
   "source": [
    "feb.add_nodes([nodes])\n",
    "feb.add_elements([elements])\n",
    "feb.inspect_nodes_and_elements()"
   ]
  },
  {
   "cell_type": "markdown",
   "metadata": {},
   "source": [
    "Is there another method? We need triangle elements!! Also, What if we have multiple nodes or elements and we do not want to delete all of them and just update the existing ones? Let's create another mesh and update the 'plane' mesh in the feb file."
   ]
  },
  {
   "cell_type": "code",
   "execution_count": null,
   "metadata": {},
   "outputs": [],
   "source": [
    "# Create a simple mesh (plane mesh)\n",
    "mesh = pv.Plane(direction=(0,0,1), i_size=2, j_size=1, i_resolution=20, j_resolution=10)\n",
    "mesh = mesh.triangulate() # we will be using unstructured grid for FEBio\n",
    "mesh = mesh.cast_to_unstructured_grid() # we will be using unstructured grid for FEBio\n",
    "mesh.plot(show_edges=True, jupyter_backend='client', window_size=(800, 400), cpos='xy')"
   ]
  },
  {
   "cell_type": "code",
   "execution_count": null,
   "metadata": {},
   "outputs": [],
   "source": [
    "print(f\"Number of nodes: {mesh.points.shape[0]}\")\n",
    "print(f\"Number of elements: {mesh.cells_dict[pv.CellType.TRIANGLE].shape[0]}\")"
   ]
  },
  {
   "cell_type": "code",
   "execution_count": null,
   "metadata": {},
   "outputs": [],
   "source": [
    "# Create nodes\n",
    "nodes = Nodes(name=\"plane\", coordinates=mesh.points)\n",
    "# Create elements\n",
    "elements = Elements(name=\"plane_elements\",\n",
    "                    mat=\"1\",\n",
    "                    part=None,\n",
    "                    type=\"TRIANGLE\",\n",
    "                    connectivity=mesh.cells_dict[pv.CellType.TRIANGLE.value],\n",
    "                    )\n",
    "# Add nodes and elements to the feb object (need to be lists)\n",
    "feb.update_nodes([nodes])\n",
    "feb.update_elements([elements])\n",
    "# Inspect nodes and elements\n",
    "feb.inspect_nodes_and_elements()"
   ]
  },
  {
   "cell_type": "markdown",
   "metadata": {},
   "source": [
    "## Adding Load"
   ]
  },
  {
   "cell_type": "markdown",
   "metadata": {},
   "source": [
    "Let's try adding a shear load to the mesh:"
   ]
  },
  {
   "cell_type": "code",
   "execution_count": null,
   "metadata": {},
   "outputs": [],
   "source": [
    "import numpy as np\n",
    "from febio_python.core import NodalLoad, LoadCurve, NodeSet\n",
    "\n",
    "# First, let's select the nodeset to apply the load.\n",
    "# we will add load to the nodes at the right edge of the mesh\n",
    "x_values = mesh.points[:, 0]\n",
    "selected_nodes = np.where(x_values == x_values.max())[0]\n",
    "\n",
    "# Create a nodeset\n",
    "nodeset = NodeSet(name=\"right_edge\", ids=selected_nodes)\n",
    "# Create a nodal load\n",
    "shear_load = NodalLoad(node_set=\"right_edge\",\n",
    "                       dof=\"y\",\n",
    "                       scale=-25.0, # negative value means force is pointing in the negative direction\n",
    "                       load_curve=1,\n",
    "                       )\n",
    "# Create a load curve\n",
    "load_curve = LoadCurve(id=1, interpolate_type=\"smooth\", data=[(0, 0), (1, 1)])\n",
    "\n",
    "# Add nodeset, nodal load and load curve to the feb object\n",
    "feb.add_nodesets([nodeset])\n",
    "feb.add_nodal_loads([shear_load])\n",
    "feb.add_loadcurves([load_curve])\n",
    "feb"
   ]
  },
  {
   "cell_type": "markdown",
   "metadata": {},
   "source": [
    "Let's try to add a non-linear load now. Pointing in the x-direction"
   ]
  },
  {
   "cell_type": "code",
   "execution_count": null,
   "metadata": {},
   "outputs": [],
   "source": [
    "# first, get the y position of the nodes\n",
    "y_values = mesh.points[selected_nodes, 1]\n",
    "# then, normalize the y values, so that we can use them as 'maps'\n",
    "y_values = (y_values - y_values.min()) / (y_values.max() - y_values.min())\n",
    "# now, create a normal distribution curve using the y values, centered at \n",
    "# middle of the y values (0.5)\n",
    "tensile_load_map = np.exp(-((y_values - 0.5) ** 2) / 0.1)\n",
    "# plot the load curve\n",
    "import matplotlib.pyplot as plt\n",
    "plt.plot(y_values, tensile_load_map)\n",
    "plt.xlabel(\"Normalized y position\")\n",
    "plt.ylabel(\"Load curve\")\n",
    "plt.title(\"Load curve for the shear load\")\n",
    "plt.show()\n",
    "\n",
    "# Create a nodal load\n",
    "tensile_load = NodalLoad(node_set=\"right_edge\",\n",
    "                       dof=\"x\",\n",
    "                       scale=100.0*tensile_load_map, # \n",
    "                       load_curve=1,\n",
    "                       )\n",
    "feb.add_nodal_loads([tensile_load])\n",
    "feb"
   ]
  },
  {
   "cell_type": "markdown",
   "metadata": {},
   "source": [
    "## Add boundary condition"
   ]
  },
  {
   "cell_type": "markdown",
   "metadata": {},
   "source": [
    "Now, let's fix the left boundary of the mesh. We will be applying fixed condition to restrain the mesh in all coordinates. In addition, since this is a simple plane mesh, we will apply constraint in z (for all nodes) and rotation (shell constrain) for all the left nodes."
   ]
  },
  {
   "cell_type": "code",
   "execution_count": null,
   "metadata": {},
   "outputs": [],
   "source": [
    "from febio_python.core import FixCondition\n",
    "\n",
    "# Fix the left edge of the mesh\n",
    "x_values = mesh.points[:, 0]\n",
    "selected_nodes = np.where(x_values == x_values.min())[0]\n",
    "all_nodes = np.arange(mesh.points.shape[0]) # used to fix all nodes in the z direction\n",
    "# Create nodesets\n",
    "left_nodeset = NodeSet(name=\"left_edge\", ids=selected_nodes)\n",
    "all_nodeset = NodeSet(name=\"all_nodes\", ids=all_nodes)\n",
    "# Create a fix condition\n",
    "left_fix_condition = FixCondition(dof=\"x,y,z,sx,sy\", node_set=\"left_edge\")\n",
    "# we will \n",
    "all_fix_condition = FixCondition(dof=\"z\", node_set=\"all_nodes\")\n",
    "\n",
    "# Add nodeset and fix condition to the feb object\n",
    "feb.add_nodesets([left_nodeset, all_nodeset])\n",
    "feb.add_boundary_conditions([left_fix_condition, all_fix_condition])"
   ]
  },
  {
   "cell_type": "code",
   "execution_count": null,
   "metadata": {},
   "outputs": [],
   "source": [
    "feb"
   ]
  },
  {
   "cell_type": "markdown",
   "metadata": {},
   "source": [
    "## Adding Material"
   ]
  },
  {
   "cell_type": "markdown",
   "metadata": {},
   "source": [
    "Now, let's add a material. We will use simple Isotropic-Elastic."
   ]
  },
  {
   "cell_type": "code",
   "execution_count": null,
   "metadata": {},
   "outputs": [],
   "source": [
    "from febio_python.core import Material\n",
    "\n",
    "mat = Material(\n",
    "    id=1,\n",
    "    type=\"isotropic elastic\",\n",
    "    name=\"plane material\",\n",
    "    parameters=dict(\n",
    "        E=1e6,\n",
    "        v=0.3,\n",
    "        density=1,\n",
    "    )\n",
    ")\n",
    "\n",
    "feb.add_materials([mat])"
   ]
  },
  {
   "cell_type": "markdown",
   "metadata": {},
   "source": [
    "# Add Element data"
   ]
  },
  {
   "cell_type": "code",
   "execution_count": null,
   "metadata": {},
   "outputs": [],
   "source": [
    "from febio_python.core import ElementData\n",
    "\n",
    "shell_thickness = ElementData(\n",
    "    name=\"Element thickness\",\n",
    "    var=\"shell thickness\",\n",
    "    elem_set=\"plane_elements\",\n",
    "    data=np.full((mesh.n_cells, 3), 0.01),\n",
    "    ids=np.arange(0, mesh.n_cells + 1),\n",
    ")\n",
    "feb.add_element_data([shell_thickness])"
   ]
  },
  {
   "cell_type": "markdown",
   "metadata": {},
   "source": [
    "# Running FEB"
   ]
  },
  {
   "cell_type": "code",
   "execution_count": null,
   "metadata": {},
   "outputs": [],
   "source": [
    "from febio_python.feb import run\n",
    "# Save the FEB file\n",
    "feb.write(\"plane_mesh.feb\")\n",
    "run(\"plane_mesh.feb\")"
   ]
  },
  {
   "cell_type": "markdown",
   "metadata": {},
   "source": [
    "# Reading XPLT"
   ]
  },
  {
   "cell_type": "code",
   "execution_count": null,
   "metadata": {},
   "outputs": [],
   "source": [
    "from febio_python import Xplt\n",
    "\n",
    "xplt = Xplt(\"plane_mesh.xplt\")\n",
    "xplt"
   ]
  },
  {
   "cell_type": "markdown",
   "metadata": {},
   "source": [
    "## Example properties"
   ]
  },
  {
   "cell_type": "code",
   "execution_count": null,
   "metadata": {},
   "outputs": [],
   "source": [
    "xplt.nodes # list of Nodes objects"
   ]
  },
  {
   "cell_type": "code",
   "execution_count": null,
   "metadata": {},
   "outputs": [],
   "source": [
    "xplt.elements # list of Elements objects"
   ]
  },
  {
   "cell_type": "code",
   "execution_count": null,
   "metadata": {},
   "outputs": [],
   "source": [
    "xplt.states # list of States objects"
   ]
  },
  {
   "cell_type": "markdown",
   "metadata": {},
   "source": [
    "## States data:"
   ]
  },
  {
   "cell_type": "code",
   "execution_count": null,
   "metadata": {},
   "outputs": [],
   "source": [
    "xplt.states.nodes[0]"
   ]
  },
  {
   "cell_type": "code",
   "execution_count": null,
   "metadata": {},
   "outputs": [],
   "source": [
    "xplt.states.elements[0]"
   ]
  },
  {
   "cell_type": "markdown",
   "metadata": {},
   "source": [
    "# FEBio Container"
   ]
  },
  {
   "cell_type": "code",
   "execution_count": null,
   "metadata": {},
   "outputs": [],
   "source": [
    "from febio_python import FEBioContainer\n",
    "\n",
    "container = FEBioContainer(feb=feb,\n",
    "                           xplt=xplt\n",
    "                           )"
   ]
  },
  {
   "cell_type": "markdown",
   "metadata": {},
   "source": [
    "Can also load from a file directly:"
   ]
  },
  {
   "cell_type": "code",
   "execution_count": null,
   "metadata": {},
   "outputs": [],
   "source": [
    "container = FEBioContainer(feb=\"plane_mesh.feb\",\n",
    "                           xplt=\"plane_mesh.xplt\"\n",
    "                           )"
   ]
  },
  {
   "cell_type": "code",
   "execution_count": null,
   "metadata": {},
   "outputs": [],
   "source": [
    "container.feb"
   ]
  },
  {
   "cell_type": "code",
   "execution_count": null,
   "metadata": {},
   "outputs": [],
   "source": [
    "container.xplt"
   ]
  },
  {
   "cell_type": "code",
   "execution_count": null,
   "metadata": {},
   "outputs": [],
   "source": [
    "container.nodes"
   ]
  },
  {
   "cell_type": "markdown",
   "metadata": {},
   "source": [
    "# Ploting Feb or Xplt"
   ]
  },
  {
   "cell_type": "code",
   "execution_count": null,
   "metadata": {},
   "outputs": [],
   "source": [
    "from febio_python.utils.pyvista_utils import febio_to_pyvista\n",
    "\n",
    "grids_list = febio_to_pyvista(container)\n",
    "len(grids_list)"
   ]
  },
  {
   "cell_type": "code",
   "execution_count": null,
   "metadata": {},
   "outputs": [],
   "source": [
    "grids_list[-1].plot(cpos='xy', show_edges=True, scalars=\"stress\")"
   ]
  },
  {
   "cell_type": "markdown",
   "metadata": {},
   "source": [
    "You can also quickly convert all cell data to node data:"
   ]
  },
  {
   "cell_type": "code",
   "execution_count": null,
   "metadata": {},
   "outputs": [],
   "source": [
    "last_grid_as_nodal_data = grids_list[-1].cell_data_to_point_data()\n",
    "last_grid_as_nodal_data.plot(cpos='xy', show_edges=True, scalars=\"stress\")"
   ]
  },
  {
   "cell_type": "code",
   "execution_count": null,
   "metadata": {},
   "outputs": [],
   "source": [
    "last_grid_as_nodal_data"
   ]
  },
  {
   "cell_type": "markdown",
   "metadata": {},
   "source": [
    "When using the FEBio container, we have access to both Feb and Xplt data. This means that we can retrieve nodal load, boundary conditions, etc. Here is a cool plot that we can do:"
   ]
  },
  {
   "cell_type": "code",
   "execution_count": null,
   "metadata": {},
   "outputs": [],
   "source": [
    "plotter = pv.Plotter()\n",
    "strain_xx = last_grid_as_nodal_data[\"Lagrange strain\"][:, 0]\n",
    "fixed_nodes = last_grid_as_nodal_data[\"fix\"].sum(1)\n",
    "\n",
    "plotter.add_mesh(last_grid_as_nodal_data, \n",
    "                 scalars=strain_xx, \n",
    "                 cmap=\"coolwarm\", \n",
    "                 show_edges=True, \n",
    "                 scalar_bar_args={\"title\": \"Strain - XX\"})\n",
    "plotter.add_mesh(last_grid_as_nodal_data.points, \n",
    "                 scalars=fixed_nodes, \n",
    "                 cmap=\"viridis\",\n",
    "                 style=\"points\", \n",
    "                 point_size=10, \n",
    "                 render_points_as_spheres=True, show_scalar_bar=False)\n",
    "plotter.add_arrows(last_grid_as_nodal_data.points, \n",
    "                   last_grid_as_nodal_data[\"nodal_load\"], \n",
    "                   mag=5e-3, # This controls the mag of the arrows. Not the actual load. There may be a better way to control this.\n",
    "                   show_scalar_bar=False,\n",
    "                   color=\"orange\")\n",
    "plotter.show(cpos=\"xy\")\n"
   ]
  }
 ],
 "metadata": {
  "kernelspec": {
   "display_name": "torch_cuda",
   "language": "python",
   "name": "python3"
  },
  "language_info": {
   "codemirror_mode": {
    "name": "ipython",
    "version": 3
   },
   "file_extension": ".py",
   "mimetype": "text/x-python",
   "name": "python",
   "nbconvert_exporter": "python",
   "pygments_lexer": "ipython3",
   "version": "3.9.18"
  }
 },
 "nbformat": 4,
 "nbformat_minor": 2
}
