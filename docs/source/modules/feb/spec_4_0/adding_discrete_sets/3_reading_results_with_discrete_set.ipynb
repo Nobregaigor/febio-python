{
    "cells": [
        {
            "cell_type": "markdown",
            "metadata": {},
            "source": [
                "# Reading results with discrete sets"
            ]
        },
        {
            "cell_type": "markdown",
            "metadata": {},
            "source": [
                "Load main libraries, set paths and adjust plotting theme (optional)"
            ]
        },
        {
            "cell_type": "code",
            "execution_count": 1,
            "metadata": {
                "nbsphinx": "code"
            },
            "outputs": [],
            "source": [
                "from pathlib import Path\n",
                "import numpy as np\n",
                "import pyvista as pv\n",
                "pv.set_jupyter_backend('static')\n",
                "pv.global_theme.background = 'white'\n",
                "pv.global_theme.color = \"beige\"\n",
                "pv.global_theme.show_edges = True\n",
                "pv.global_theme.window_size = [800, 400]\n",
                "\n",
                "STATICS_DIR = Path(\"../../../../_static\")\n",
                "HEXBEAM_MULTIBLOCK_FILEPATH = STATICS_DIR / \"hexbeam_multiblock_discrete_case_1.vtm\""
            ]
        },
        {
            "cell_type": "markdown",
            "metadata": {},
            "source": [
                "DOCS TO BE ADDED"
            ]
        }
    ],
    "metadata": {
        "kernelspec": {
            "display_name": "torch_cuda",
            "language": "python",
            "name": "python3"
        },
        "language_info": {
            "codemirror_mode": {
                "name": "ipython",
                "version": 3
            },
            "file_extension": ".py",
            "mimetype": "text/x-python",
            "name": "python",
            "nbconvert_exporter": "python",
            "pygments_lexer": "ipython3",
            "version": "3.9.18"
        }
    },
    "nbformat": 4,
    "nbformat_minor": 2
}
